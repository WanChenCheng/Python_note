{
  "nbformat": 4,
  "nbformat_minor": 0,
  "metadata": {
    "colab": {
      "provenance": [],
      "collapsed_sections": [
        "E5DuQVRfHX6n",
        "EOAO2vkchAV6",
        "4aXrsaiNNpao",
        "658OZwtpWFP4",
        "FGqQ1BdvJAFC",
        "rSTqJs2AgTuZ",
        "Ymxt9ReWQ7l5",
        "8cjIyWMcyjJg",
        "7oeVoQbgzCOS",
        "hQ4BzgYgKTxO",
        "v2lfKEk3M5Ii",
        "bJI-wRnDVdv5",
        "c8nq277Oxzve",
        "DlLCfFCnTWmL",
        "SpI1KLtFUJq1",
        "THc3eJp2Vs4C",
        "5EweRjTfbUrX",
        "SlilBMOsTaJE",
        "bthwhvN8Z74w",
        "9HeixVtCV3RT",
        "aS4nLipuV8Cr",
        "lN2LolxGVDIg",
        "U7pHymwuXzR_",
        "MTH_3Hg_aTny",
        "k66NVXa4XKJk",
        "crJwzVA5fVy1",
        "CZ5_kEUvWjfg",
        "RvWo6FIfWwp1",
        "Iuo9rVdDUkV1",
        "WCrseo9VW3wd",
        "OdiHrrDRXEi1",
        "xOsQbHynWvwU",
        "0eSQgnpAbDbb",
        "QlPGmh-xWzI_",
        "sok8GGSecYWj",
        "vkjarukVcpw-",
        "EQsl8sByeTkz",
        "e4CcK0gyeoTK",
        "uU3aGi5uecXE"
      ]
    },
    "kernelspec": {
      "name": "python3",
      "display_name": "Python 3"
    },
    "language_info": {
      "name": "python"
    }
  },
  "cells": [
    {
      "cell_type": "markdown",
      "source": [
        "# Author\n",
        "邱淑怡 (https://www.cs.nccu.edu.tw/~sichiu/index.htm)\n"
      ],
      "metadata": {
        "id": "LcC3a8EeIjsq"
      }
    },
    {
      "cell_type": "markdown",
      "source": [
        "# 一、Preface:Python coding style\n",
        "* Follow indentation(縮排) rules\n",
        "* Each line has one statement (一行一個敘述)"
      ],
      "metadata": {
        "id": "InfLzKXtTo7E"
      }
    },
    {
      "cell_type": "code",
      "source": [
        "x1=100 #x1: integer\n",
        "x2=200\n",
        "x4=9.765  #x4: float\n",
        "x3=x1+x2+x4\n",
        "print(x3)\n",
        "x5=\"Python\" # x5: string"
      ],
      "metadata": {
        "colab": {
          "base_uri": "https://localhost:8080/"
        },
        "id": "eu3-rz7CU2OI",
        "outputId": "c8d09944-9a0a-49a8-dfdf-d45feb48a6ba"
      },
      "execution_count": null,
      "outputs": [
        {
          "output_type": "stream",
          "name": "stdout",
          "text": [
            "309.765\n"
          ]
        }
      ]
    },
    {
      "cell_type": "markdown",
      "source": [
        "## Variables(變數)\n",
        "define variable_name(定義變數名稱)\n",
        "* Each character:a-z,A-Z,0-9,_(underscore)\n",
        "* The first character cannot be any number\n",
        "* Uppercase and lowercase characters are different(大小寫有區別)\n",
        "* cannot use Python's keyword(不能用到保留字)"
      ],
      "metadata": {
        "id": "ouCmpMw7UWz2"
      }
    },
    {
      "cell_type": "code",
      "source": [
        "a1=8\n",
        "a2=3\n",
        "print(a1+a2)\n",
        "print(a1-a2)\n",
        "print(a1*a2)\n",
        "print(a1/a2)\n",
        "print(a1//a2)\n",
        "print(a1%a2)\n",
        "print(a1**a2)"
      ],
      "metadata": {
        "colab": {
          "base_uri": "https://localhost:8080/"
        },
        "id": "LNyk6HTVe38N",
        "outputId": "5cd26e9c-c50f-4e82-8779-3e269bf8de40"
      },
      "execution_count": null,
      "outputs": [
        {
          "output_type": "stream",
          "name": "stdout",
          "text": [
            "123\n"
          ]
        }
      ]
    },
    {
      "cell_type": "markdown",
      "source": [
        "# 二、Output: print() function\n",
        "* format\n",
        "~~~\n",
        "print(item_1 [,item_2,…,sep=separator,end=end])\n",
        "~~~\n",
        "* [ ]: optional(選項式)\n",
        "* end:Default is '\\n' (line feed)(結束字元預設值是換行)\n",
        "* separator:Default is ' '(分隔字元預設值是一個空白\n",
        "* print()顯示的字串可以使用 + 進行組合，但不同型別要先轉為文字"
      ],
      "metadata": {
        "id": "T7m42124gZOe"
      }
    },
    {
      "cell_type": "code",
      "source": [
        "x1=10\n",
        "x2=\"world\"\n",
        "print(x1,x2,\"python\")\n",
        "print(x1,x2,\"python\",sep=\"@\")"
      ],
      "metadata": {
        "id": "5ZReIYtl52AG",
        "colab": {
          "base_uri": "https://localhost:8080/"
        },
        "outputId": "ac5d61e0-50c8-42f1-b87e-229bfb479bb4"
      },
      "execution_count": null,
      "outputs": [
        {
          "output_type": "stream",
          "name": "stdout",
          "text": [
            "10 world python\n",
            "10@world@python\n"
          ]
        }
      ]
    },
    {
      "cell_type": "markdown",
      "source": [
        "## 2.1 print()\n"
      ],
      "metadata": {
        "id": "Eo2GNujIjpA1"
      }
    },
    {
      "cell_type": "markdown",
      "source": [
        "## 2.2 print(): %\n",
        "~~~\n",
        "print(str%(format))\n",
        "~~~\n",
        "* %s:string,%d:integer,%f:float, aligning right by default\n",
        "* %3d:3 characters for integer,\n",
        "* %3s:3 characters for strings\n",
        "* %-3d or %-3s: 3 characters for int or string with aligning left\n",
        "* %.2f: float with 2 decimals\n",
        "* %6.2f: 6 characters (3 spaces with int, 1 decimal point, 2 digits come after the decimal point)\n"
      ],
      "metadata": {
        "id": "f2QarvuEgkSU"
      }
    },
    {
      "cell_type": "markdown",
      "source": [
        "## 2.3 print(): str.format\n",
        "~~~\n",
        "print(str.format(參數列))\n",
        "~~~\n",
        "* {}：參數位置，多個{}預設要以後方參數順序為準\n",
        "* {i}：指定插入參數的索引值，如{0}代表第1個\n",
        "* {i:格式化指定}：參考%的格式化指定"
      ],
      "metadata": {
        "id": "JIKWC-8rgzhq"
      }
    },
    {
      "cell_type": "markdown",
      "source": [
        "## 2.4 print(): f-string\n",
        "print(f\"string1{variable_name:.2f}....\")"
      ],
      "metadata": {
        "id": "PoBQA-XySNdx"
      }
    },
    {
      "cell_type": "markdown",
      "source": [
        "# 三、Data type"
      ],
      "metadata": {
        "id": "UCvJ28KxIi6g"
      }
    },
    {
      "cell_type": "markdown",
      "source": [
        "## 3.1 Data type"
      ],
      "metadata": {
        "id": "YDfZFp_i2dlP"
      }
    },
    {
      "cell_type": "markdown",
      "source": [
        "Data type(變數資料型態)\n",
        "* integer(int)、float浮點數(float)、string字串(str)、布林(bool)\n",
        "* show data type:type() function\n",
        "* convert data type:int(),float(),str()"
      ],
      "metadata": {
        "id": "cnrek8J2KSfi"
      }
    },
    {
      "cell_type": "markdown",
      "source": [
        "## 3.2 number"
      ],
      "metadata": {
        "id": "smZLO5lIg9EI"
      }
    },
    {
      "cell_type": "markdown",
      "source": [
        "* int: integer without decimals\n",
        "* float: integer containing one or more decimals\n",
        "* float: scientific numbers with an \"e\" to indicate the power of 10"
      ],
      "metadata": {
        "id": "vtssGks_8yYV"
      }
    },
    {
      "cell_type": "markdown",
      "source": [
        "### 3.2.1 built-in functions for number\n",
        "* round(),abs(), int(), pow()..."
      ],
      "metadata": {
        "id": "IsNeLXveGRpl"
      }
    },
    {
      "cell_type": "code",
      "source": [
        "a123=10.987654\n",
        "print(int(a123))\n",
        "print(round(a123))\n",
        "print(round(a123,3))"
      ],
      "metadata": {
        "colab": {
          "base_uri": "https://localhost:8080/"
        },
        "id": "SXdFhRUnmtUc",
        "outputId": "50cb5856-6581-4140-cb47-835cf99a6fd3"
      },
      "execution_count": null,
      "outputs": [
        {
          "output_type": "stream",
          "name": "stdout",
          "text": [
            "10\n",
            "11\n",
            "10.988\n"
          ]
        }
      ]
    },
    {
      "cell_type": "markdown",
      "source": [
        "### 3.2.2 math module(數學模組)\n",
        "* import math"
      ],
      "metadata": {
        "id": "E5DuQVRfHX6n"
      }
    },
    {
      "cell_type": "code",
      "source": [
        "import math\n",
        "print(round(math.log10(5),4))\n",
        "print(math.e)"
      ],
      "metadata": {
        "colab": {
          "base_uri": "https://localhost:8080/"
        },
        "id": "ZEyB-Ed4Ueu_",
        "outputId": "e0bed931-b5a5-4d84-9fa5-0c1ba44815e2"
      },
      "execution_count": null,
      "outputs": [
        {
          "output_type": "stream",
          "name": "stdout",
          "text": [
            "0.699\n",
            "2.718281828459045\n"
          ]
        }
      ]
    },
    {
      "cell_type": "code",
      "source": [
        "import math\n",
        "print(10*10*math.pi)\n",
        "print(math.sqrt(7))\n",
        "print(math.gcd(616,1331,44))\n",
        "x=math.log10(2)\n",
        "y=math.log10(3)\n",
        "print(round(10**(2*x+3*y+1)))"
      ],
      "metadata": {
        "colab": {
          "base_uri": "https://localhost:8080/"
        },
        "id": "8ZB41I-iXJ-U",
        "outputId": "29a3a010-9b24-4597-c1f9-4fe764308e60"
      },
      "execution_count": null,
      "outputs": [
        {
          "output_type": "stream",
          "name": "stdout",
          "text": [
            "314.1592653589793\n",
            "2.6457513110645907\n",
            "11\n",
            "1080\n"
          ]
        }
      ]
    },
    {
      "cell_type": "code",
      "source": [
        "import this"
      ],
      "metadata": {
        "colab": {
          "base_uri": "https://localhost:8080/"
        },
        "id": "T_h3Np3hXIuG",
        "outputId": "a322d1a1-b0b2-430c-ecad-9c043267cd8c"
      },
      "execution_count": null,
      "outputs": [
        {
          "output_type": "stream",
          "name": "stdout",
          "text": [
            "The Zen of Python, by Tim Peters\n",
            "\n",
            "Beautiful is better than ugly.\n",
            "Explicit is better than implicit.\n",
            "Simple is better than complex.\n",
            "Complex is better than complicated.\n",
            "Flat is better than nested.\n",
            "Sparse is better than dense.\n",
            "Readability counts.\n",
            "Special cases aren't special enough to break the rules.\n",
            "Although practicality beats purity.\n",
            "Errors should never pass silently.\n",
            "Unless explicitly silenced.\n",
            "In the face of ambiguity, refuse the temptation to guess.\n",
            "There should be one-- and preferably only one --obvious way to do it.\n",
            "Although that way may not be obvious at first unless you're Dutch.\n",
            "Now is better than never.\n",
            "Although never is often better than *right* now.\n",
            "If the implementation is hard to explain, it's a bad idea.\n",
            "If the implementation is easy to explain, it may be a good idea.\n",
            "Namespaces are one honking great idea -- let's do more of those!\n"
          ]
        }
      ]
    },
    {
      "cell_type": "markdown",
      "source": [
        "## 3.3 operator(數值運算子)\n"
      ],
      "metadata": {
        "id": "NYxiuswIgiEJ"
      }
    },
    {
      "cell_type": "markdown",
      "source": [
        "### 3.3.1 arithmetic operator(算術運算子)\n",
        "* +、-、*、/、\n",
        "* % (取兩數值的餘數)、// (取兩數值的商數)、\n",
        "* **(指數)"
      ],
      "metadata": {
        "id": "2laD_zkdjPj0"
      }
    },
    {
      "cell_type": "code",
      "source": [
        "a1=8\n",
        "a2=3\n",
        "print(a1+a2)\n",
        "print(a1-a2)\n",
        "print(a1*a2)\n",
        "print(a1/a2)\n",
        "print(a1//a2)\n",
        "print(a1%a2)\n",
        "print(a1**a2)"
      ],
      "metadata": {
        "colab": {
          "base_uri": "https://localhost:8080/"
        },
        "id": "A-1vJ1AXg0Id",
        "outputId": "5bf95ee4-578e-49ee-8cd0-5664774b1d65"
      },
      "execution_count": null,
      "outputs": [
        {
          "output_type": "stream",
          "name": "stdout",
          "text": [
            "11\n",
            "5\n",
            "24\n",
            "2.6666666666666665\n",
            "2\n",
            "2\n",
            "512\n"
          ]
        }
      ]
    },
    {
      "cell_type": "code",
      "source": [
        "# q1: 2開根號\n",
        "print(2**0.5)\n",
        "print(2**(1/2))\n",
        "# q2: 3開三次方根號\n",
        "print(3**(1/3))"
      ],
      "metadata": {
        "colab": {
          "base_uri": "https://localhost:8080/"
        },
        "id": "g9LQ_Qgag-hf",
        "outputId": "257a4132-196c-4ce9-d2f5-8d2bea87a46e"
      },
      "execution_count": null,
      "outputs": [
        {
          "output_type": "stream",
          "name": "stdout",
          "text": [
            "1.4142135623730951\n",
            "1.4142135623730951\n",
            "1.4422495703074083\n"
          ]
        }
      ]
    },
    {
      "cell_type": "code",
      "source": [
        "x1=2*(3+4)\n",
        "x2=2**3+4\n",
        "x3=3**2*4\n",
        "x4=2*3/4\n",
        "x5=2**2**3\n",
        "print(\"最後的result&&:\",x1,x2,x3,x4,x5)\n",
        "x6=25E4\n",
        "print(x6)"
      ],
      "metadata": {
        "colab": {
          "base_uri": "https://localhost:8080/"
        },
        "id": "Wy-bRWZ6kVLR",
        "outputId": "79434546-980b-4425-c863-956184b02a20"
      },
      "execution_count": null,
      "outputs": [
        {
          "output_type": "stream",
          "name": "stdout",
          "text": [
            "最後的result&&: 14 12 36 1.5 256\n",
            "250000.0\n"
          ]
        }
      ]
    },
    {
      "cell_type": "markdown",
      "source": [
        "### 3.3.2 Comparison operator(比較運算子)\n",
        "* ==、!=、>、>=、<、<="
      ],
      "metadata": {
        "id": "Owxh_A5UjVso"
      }
    },
    {
      "cell_type": "markdown",
      "source": [
        "### 3.3.3 Compound operator(複合運算子)\n",
        "* +=、-=、*=、/=、%=(餘數)、//=(商)、**=(指數)"
      ],
      "metadata": {
        "id": "_ZtXe5bljgI2"
      }
    },
    {
      "cell_type": "markdown",
      "source": [
        "## 3.4 Boolean(布林值)"
      ],
      "metadata": {
        "id": "lVk8EwBckAa5"
      }
    },
    {
      "cell_type": "markdown",
      "source": [
        "### 3.4.1 logical operator(邏輯運算子)\n",
        "* not、and、or"
      ],
      "metadata": {
        "id": "tkoJoRmPkIbI"
      }
    },
    {
      "cell_type": "code",
      "source": [
        "x1=5\n",
        "x2=4\n",
        "print(x1>=5 and not x2<7)\n",
        "print(not x1>=5 and x2<7)\n",
        "print(not (x1>=5 and x2<7))"
      ],
      "metadata": {
        "colab": {
          "base_uri": "https://localhost:8080/"
        },
        "id": "2con_W2-ca2P",
        "outputId": "03f87ccc-e34f-48a4-ed47-e24b7d54308f"
      },
      "execution_count": null,
      "outputs": [
        {
          "output_type": "stream",
          "name": "stdout",
          "text": [
            "False\n",
            "False\n",
            "False\n"
          ]
        }
      ]
    },
    {
      "cell_type": "code",
      "source": [
        "print(3)"
      ],
      "metadata": {
        "colab": {
          "base_uri": "https://localhost:8080/"
        },
        "id": "vpZzGLthdslI",
        "outputId": "c55708aa-a5c4-4988-be8b-6f67841c1f75"
      },
      "execution_count": null,
      "outputs": [
        {
          "output_type": "stream",
          "name": "stdout",
          "text": [
            "3\n"
          ]
        }
      ]
    },
    {
      "cell_type": "markdown",
      "source": [
        "## 3.5 String(字串)\n",
        "  字串是用單引號或雙引號括起來"
      ],
      "metadata": {
        "id": "EOAO2vkchAV6"
      }
    },
    {
      "cell_type": "code",
      "source": [
        "s1=\"python123\"\n",
        "s2='12345'"
      ],
      "metadata": {
        "id": "aOjXmVzVhHjI"
      },
      "execution_count": null,
      "outputs": []
    },
    {
      "cell_type": "markdown",
      "source": [
        "Q: 多行字串如何印出來?\n",
        "A: 三組單引號或三組雙引號"
      ],
      "metadata": {
        "id": "BzQS45rt04zB"
      }
    },
    {
      "cell_type": "markdown",
      "source": [
        "字串可以相加\n",
        "字串可相乘: 某一個字串跟正整數相乘"
      ],
      "metadata": {
        "id": "zbBmxfUU4kps"
      }
    },
    {
      "cell_type": "code",
      "source": [
        "s1=\"python123\"\n",
        "s2=\"I don't like python\"\n",
        "s3=s1+s2\n",
        "s4=s1*3\n",
        "print(s3)\n",
        "print(s4)"
      ],
      "metadata": {
        "id": "1Qi0T2Lq2Hfd",
        "colab": {
          "base_uri": "https://localhost:8080/"
        },
        "outputId": "6d158ea5-6646-455c-faa9-ba19dd01937d"
      },
      "execution_count": null,
      "outputs": [
        {
          "output_type": "stream",
          "name": "stdout",
          "text": [
            "python123I don't like python\n",
            "python123python123python123\n"
          ]
        }
      ]
    },
    {
      "cell_type": "markdown",
      "source": [
        "如何混合印出字串和數值"
      ],
      "metadata": {
        "id": "kXM9XnLvYypK"
      }
    },
    {
      "cell_type": "markdown",
      "source": [
        "### 3.5.1 extract partial string (取出部分子字串)\n",
        "* use str_name[index]"
      ],
      "metadata": {
        "id": "4aXrsaiNNpao"
      }
    },
    {
      "cell_type": "markdown",
      "source": [
        "* in, not in\n"
      ],
      "metadata": {
        "id": "WhWbnKOBRaZD"
      }
    },
    {
      "cell_type": "code",
      "source": [
        "x1=\"python程式設計!\"\n",
        "# get one charter\n",
        "\"\"\"\n",
        "print(x1[0])\n",
        "print(x1[-1])\n",
        "print(len(x1)) # lenght of string\n",
        "print(x1[6])\n",
        "\"\"\"\n",
        "# get mutliple characters\n",
        "print(x1[0:6])  # get python from x1\n",
        "print(x1[-11:-5])  # get python from x1\n",
        "print(x1[6:10])  #程式設計\n",
        "print(x1[-5:-1])#程式設計\n",
        "print(x1[:6]) # get python\n",
        "print(x1[:])"
      ],
      "metadata": {
        "colab": {
          "base_uri": "https://localhost:8080/"
        },
        "id": "cKlg2yUKjs3b",
        "outputId": "60e7c43f-cd9e-4ea0-e455-111dc55b78b8"
      },
      "execution_count": null,
      "outputs": [
        {
          "output_type": "stream",
          "name": "stdout",
          "text": [
            "python\n",
            "python\n",
            "程式設計\n",
            "程式設計\n",
            "python\n",
            "python程式設計!\n"
          ]
        }
      ]
    },
    {
      "cell_type": "markdown",
      "source": [
        "### 3.5.2 use functions in string_class (如何使用字串(str)類別(class)內的functions)\n",
        "~~~\n",
        "string_name.function_name()\n",
        "~~~"
      ],
      "metadata": {
        "id": "658OZwtpWFP4"
      }
    },
    {
      "cell_type": "code",
      "source": [
        "s1=\"hello world!!!\"\n",
        "print(f's1第一個l在{s1.find(\"l\")+1}個字元最後一個l在{s1.rfind(\"l\")+1}個字元')\n",
        "print(s1.count('!'))"
      ],
      "metadata": {
        "colab": {
          "base_uri": "https://localhost:8080/"
        },
        "id": "BDNwdx4WXOGg",
        "outputId": "e0e29a56-be10-4695-ecc9-758f582e4790"
      },
      "execution_count": null,
      "outputs": [
        {
          "output_type": "stream",
          "name": "stdout",
          "text": [
            "s1第一個l在3個字元最後一個l在10個字元\n",
            "3\n"
          ]
        }
      ]
    },
    {
      "cell_type": "code",
      "source": [
        "a1=122233\n",
        "s2=str(a1)\n",
        "print(type(s2))\n",
        "print(f's2有{s2.count(\"1\")}個l,{s2.count(\"2\")}個2,{s2.count(\"1\")}個3')"
      ],
      "metadata": {
        "colab": {
          "base_uri": "https://localhost:8080/"
        },
        "id": "IZGnOAdFa-ft",
        "outputId": "f9532537-1819-441b-fd88-d3a108ae9bff"
      },
      "execution_count": null,
      "outputs": [
        {
          "output_type": "stream",
          "name": "stdout",
          "text": [
            "<class 'str'>\n"
          ]
        }
      ]
    },
    {
      "cell_type": "markdown",
      "source": [
        "### 3.5.3 reverse string(字串反轉)"
      ],
      "metadata": {
        "id": "FGqQ1BdvJAFC"
      }
    },
    {
      "cell_type": "markdown",
      "source": [
        "### 3.5.4 join and split string(字串的合併與分割)\n",
        "* join(合併): string.join(sequence)\n",
        "* split(分割): string.split()\n",
        "()內的寫分割符號，若沒有用預設值是空白"
      ],
      "metadata": {
        "id": "rSTqJs2AgTuZ"
      }
    },
    {
      "cell_type": "markdown",
      "source": [
        "# 四、Input：input()"
      ],
      "metadata": {
        "id": "Ymxt9ReWQ7l5"
      }
    },
    {
      "cell_type": "code",
      "source": [
        "input_1=int(input(\"input your age:\"))\n",
        "print(\"your input=\",input_1)\n",
        "print(type(input_1))\n",
        "print(f\"你是西元{2025-input_1}年出生,你今年{input_1}years old\")\n",
        "print(f\"你是西元2025-input_1年出生,你今年input_1years old\")"
      ],
      "metadata": {
        "colab": {
          "base_uri": "https://localhost:8080/"
        },
        "id": "nWo1XwBSoft5",
        "outputId": "e01557d1-9fe2-4718-9f8a-b47862968ace"
      },
      "execution_count": null,
      "outputs": [
        {
          "output_type": "stream",
          "name": "stdout",
          "text": [
            "input your age:20\n",
            "your input= 20\n",
            "<class 'int'>\n",
            "你是西元2005年出生,你今年20years old\n",
            "你是西元2025-input_1年出生,你今年input_1years old\n"
          ]
        }
      ]
    },
    {
      "cell_type": "code",
      "source": [
        "top1=float(input(\"top base:\"))\n",
        "bottm1=float(input(\"bottom base:\"))\n",
        "height1=float(input(\"height:\"))\n",
        "area1=(top1+bottm1)*height1/2\n",
        "print(f\"traperzoid's area={area1}\")"
      ],
      "metadata": {
        "colab": {
          "base_uri": "https://localhost:8080/"
        },
        "id": "urDnByQRsB0U",
        "outputId": "6d31c684-6818-4e35-adeb-57caccb5fde8"
      },
      "execution_count": null,
      "outputs": [
        {
          "output_type": "stream",
          "name": "stdout",
          "text": [
            "top base:39.5\n",
            "bottom base:44.9\n",
            "height:12.9\n",
            "traperzoid's area=544.38\n"
          ]
        }
      ]
    },
    {
      "cell_type": "markdown",
      "source": [
        "# 五、list(串列):\n",
        "* dynamic, mutable, ordered collection of elements enclosed within square brackets"
      ],
      "metadata": {
        "id": "8cjIyWMcyjJg"
      }
    },
    {
      "cell_type": "code",
      "source": [
        "even_number=[2,4,6,8,\"python\",\"hello\",3.8]\n",
        "print(even_number[0])\n",
        "print(even_number[-1])\n",
        "print(even_number[0:4])\n",
        "print(even_number[-3:-1])"
      ],
      "metadata": {
        "colab": {
          "base_uri": "https://localhost:8080/"
        },
        "id": "vmxBxqqRbUDP",
        "outputId": "f9c522b3-4fa4-42aa-9125-c5ca2ddeae64"
      },
      "execution_count": null,
      "outputs": [
        {
          "output_type": "stream",
          "name": "stdout",
          "text": [
            "2\n",
            "3.8\n",
            "[2, 4, 6, 8]\n",
            "['python', 'hello']\n"
          ]
        }
      ]
    },
    {
      "cell_type": "code",
      "source": [
        "# string\n",
        "s1=\"abcde\"\n",
        "print(s1[0])\n",
        "print(s1[-1])\n",
        "# list\n",
        "a1=[1,2,3,4,5]\n",
        "print(a1[0])\n",
        "print(a1[-1])\n",
        "print(a1[0:3])\n",
        "print(a1[::2])"
      ],
      "metadata": {
        "colab": {
          "base_uri": "https://localhost:8080/"
        },
        "id": "drI8UIfozH9N",
        "outputId": "107df7a8-c18a-4eac-d071-ffed976c9264"
      },
      "execution_count": null,
      "outputs": [
        {
          "output_type": "stream",
          "name": "stdout",
          "text": [
            "a\n",
            "e\n",
            "1\n",
            "5\n",
            "[1, 2, 3]\n",
            "[1, 3, 5]\n"
          ]
        }
      ]
    },
    {
      "cell_type": "code",
      "source": [
        "for i in a1:\n",
        "  print(f\"every item={i}\")\n",
        "  print(\"python\")\n",
        "print(f\"list a1 contains {len(a1)} items\")\n",
        "for i in range(len(a1)): #i=0,1,2,3,4\n",
        "  print(f\"index={i}, 第{i+1}個item={a1[i]}\")"
      ],
      "metadata": {
        "colab": {
          "base_uri": "https://localhost:8080/"
        },
        "id": "uDWnaGdN0NdY",
        "outputId": "1353d7cb-cb87-4b3a-cfd6-8ded57d61fb8"
      },
      "execution_count": null,
      "outputs": [
        {
          "output_type": "stream",
          "name": "stdout",
          "text": [
            "every item=1\n",
            "every item=2\n",
            "every item=3\n",
            "every item=4\n",
            "every item=5\n",
            "list a1 contains 5 items\n",
            "index=0, 第1個item=1\n",
            "index=1, 第2個item=2\n",
            "index=2, 第3個item=3\n",
            "index=3, 第4個item=4\n",
            "index=4, 第5個item=5\n"
          ]
        }
      ]
    },
    {
      "cell_type": "code",
      "source": [
        "x=[1,3,-7,4,9,-5,4]\n",
        "for i in range(len(x)):\n",
        "  if ????<0:\n",
        "    print(f\"第{i+1}筆數值是負數:{x[i]}\")"
      ],
      "metadata": {
        "id": "iChynw1-27ns"
      },
      "execution_count": null,
      "outputs": []
    },
    {
      "cell_type": "markdown",
      "source": [
        "## 5.2 delete and modify data\n",
        "~~~\n",
        "del list_name[index] #delete\n",
        "\n",
        "list_name[index]=its_value # modify\n",
        "~~~"
      ],
      "metadata": {
        "id": "hQ4BzgYgKTxO"
      }
    },
    {
      "cell_type": "code",
      "source": [
        "x=[1,3,-7,4,9,-5,4]\n",
        "del x[-1]\n",
        "print(x)"
      ],
      "metadata": {
        "colab": {
          "base_uri": "https://localhost:8080/"
        },
        "id": "z5qgLZtg3_LW",
        "outputId": "28f731f1-dc4d-4025-f33a-d64cacaa576a"
      },
      "execution_count": null,
      "outputs": [
        {
          "output_type": "stream",
          "name": "stdout",
          "text": [
            "[1, 3, -7, 4, 9, -5]\n"
          ]
        }
      ]
    },
    {
      "cell_type": "code",
      "source": [
        "del x[0:3]\n",
        "print(x)"
      ],
      "metadata": {
        "colab": {
          "base_uri": "https://localhost:8080/"
        },
        "id": "MPHBPY3p4Lh3",
        "outputId": "12630874-4b4b-4cb7-d6da-1d98b78b4eaa"
      },
      "execution_count": null,
      "outputs": [
        {
          "output_type": "stream",
          "name": "stdout",
          "text": [
            "[4, 9, -5]\n"
          ]
        }
      ]
    },
    {
      "cell_type": "code",
      "source": [
        "x[0]=\"new value\" # modify\n",
        "print(x)"
      ],
      "metadata": {
        "colab": {
          "base_uri": "https://localhost:8080/"
        },
        "id": "rTVL9tLU4WO1",
        "outputId": "5d9eac41-5bce-479d-b1d3-2f60bc2c7076"
      },
      "execution_count": null,
      "outputs": [
        {
          "output_type": "stream",
          "name": "stdout",
          "text": [
            "['new value', 9, -5]\n"
          ]
        }
      ]
    },
    {
      "cell_type": "code",
      "source": [
        "# add an item\n",
        "a2=[]  # empty list\n",
        "a2.append(\"abc\")\n",
        "for i in range(3):\n",
        "  temp_s=input(\"input a name:\")\n",
        "  a2.append(temp_s)\n",
        "print(a2)"
      ],
      "metadata": {
        "colab": {
          "base_uri": "https://localhost:8080/"
        },
        "id": "u8AGMSEK4_L-",
        "outputId": "ee5e43eb-e2a6-4f14-aab3-eec98d165fbb"
      },
      "execution_count": null,
      "outputs": [
        {
          "output_type": "stream",
          "name": "stdout",
          "text": [
            "input a name:bob\n",
            "input a name:alice\n",
            "input a name:john\n",
            "['abc', 'bob', 'alice', 'john']\n"
          ]
        }
      ]
    },
    {
      "cell_type": "code",
      "source": [
        "# add some items to a2\n",
        "a2.extend([\"BOB\",\"12345\"])\n",
        "print(a2)"
      ],
      "metadata": {
        "colab": {
          "base_uri": "https://localhost:8080/"
        },
        "id": "iOJ6vtAq6YI9",
        "outputId": "52749a23-c1f2-4733-ffd4-eaeae0a28567"
      },
      "execution_count": null,
      "outputs": [
        {
          "output_type": "stream",
          "name": "stdout",
          "text": [
            "['abc', 'bob', 'alice', 'john', 'BOB', '12345']\n"
          ]
        }
      ]
    },
    {
      "cell_type": "code",
      "source": [
        "# insert\n",
        "a2.insert(1,\"9876\")\n",
        "print(a2)"
      ],
      "metadata": {
        "colab": {
          "base_uri": "https://localhost:8080/"
        },
        "id": "Kk2fdsK46n3T",
        "outputId": "901c4e47-e704-4d13-8774-37ae24f07a7b"
      },
      "execution_count": null,
      "outputs": [
        {
          "output_type": "stream",
          "name": "stdout",
          "text": [
            "['abc', '9876', 'bob', 'alice', 'john', 'BOB', '12345']\n"
          ]
        }
      ]
    },
    {
      "cell_type": "code",
      "source": [
        "a2.sort()\n",
        "print(a2)"
      ],
      "metadata": {
        "colab": {
          "base_uri": "https://localhost:8080/"
        },
        "id": "eGLl25Uc6-JZ",
        "outputId": "21ded027-f510-4862-b5ed-f5ea69fb3d7a"
      },
      "execution_count": null,
      "outputs": [
        {
          "output_type": "stream",
          "name": "stdout",
          "text": [
            "['12345', '9876', 'BOB', 'abc', 'alice', 'bob', 'john']\n"
          ]
        }
      ]
    },
    {
      "cell_type": "code",
      "source": [
        "a2.reverse()\n",
        "print(a2)"
      ],
      "metadata": {
        "colab": {
          "base_uri": "https://localhost:8080/"
        },
        "id": "NdddXQ-x7kaA",
        "outputId": "6d206f8d-5825-43f8-ef02-c23f7abc64b9"
      },
      "execution_count": null,
      "outputs": [
        {
          "output_type": "stream",
          "name": "stdout",
          "text": [
            "['john', 'bob', 'alice', 'abc', 'BOB', '9876', '12345']\n"
          ]
        }
      ]
    },
    {
      "cell_type": "code",
      "source": [
        "print(a2.count(\"abc\"))\n",
        "a2.clear()\n",
        "print(a2)\n"
      ],
      "metadata": {
        "colab": {
          "base_uri": "https://localhost:8080/"
        },
        "id": "K4w2ZP1l7yyA",
        "outputId": "05077af3-90dd-4b99-8704-064fdf05ae3b"
      },
      "execution_count": null,
      "outputs": [
        {
          "output_type": "stream",
          "name": "stdout",
          "text": [
            "1\n",
            "[]\n"
          ]
        }
      ]
    },
    {
      "cell_type": "markdown",
      "source": [
        "## 5.1 get partial data in a list(如何擷取串列的部分資料)\n",
        "~~~\n",
        " list_name[a:b:c]\n",
        "~~~\n",
        "* a:the starting index\n",
        "* b:the end index+1 (結束位置的後一個索引值)\n",
        "* c:direction and step(代表方向和遞增量(step)，default=+1)"
      ],
      "metadata": {
        "id": "7oeVoQbgzCOS"
      }
    },
    {
      "cell_type": "markdown",
      "source": [
        "## 5.3 add data in a list"
      ],
      "metadata": {
        "id": "v2lfKEk3M5Ii"
      }
    },
    {
      "cell_type": "markdown",
      "source": [
        "# 六、decision structure(判斷式)\n"
      ],
      "metadata": {
        "id": "d0dhU4qHTCe_"
      }
    },
    {
      "cell_type": "markdown",
      "source": [
        "## 6.1 A single alternative decision structure(單向判斷式)\n",
        "```\n",
        "if condition:\n",
        "  statements\n",
        "```"
      ],
      "metadata": {
        "id": "bJI-wRnDVdv5"
      }
    },
    {
      "cell_type": "code",
      "source": [
        "price1=float(input(\"total price=\"))\n",
        "if price1>2000:\n",
        "  price1*=0.8 #price1=price1*0.8\n",
        "  print(\"congrat. have discount\")\n",
        "print(f\"total price={price1}\")"
      ],
      "metadata": {
        "colab": {
          "base_uri": "https://localhost:8080/"
        },
        "id": "n-A1ObiFez4j",
        "outputId": "6dc8e15a-590a-4814-9c11-433956e56334"
      },
      "execution_count": null,
      "outputs": [
        {
          "output_type": "stream",
          "name": "stdout",
          "text": [
            "total price=2100\n",
            "congrat. have discount\n",
            "total price=1680.0\n"
          ]
        }
      ]
    },
    {
      "cell_type": "code",
      "source": [
        "price1=float(input(\"total price=\"))\n",
        "if price1>2000:\n",
        "  price2=price1*0.8\n",
        "  print(\"congrat. have discount\")\n",
        "  print(f\"total price={price2}\")\n",
        "else:\n",
        "  print(f\"total price={price1}\")"
      ],
      "metadata": {
        "id": "pdGbCbrwhCyW"
      },
      "execution_count": null,
      "outputs": []
    },
    {
      "cell_type": "markdown",
      "source": [
        "## 6.2 A dual alternative decision structure(雙向判斷式)\n",
        "```\n",
        "if condition:\n",
        "  statement1\n",
        "else:\n",
        "  statement2\n",
        "```"
      ],
      "metadata": {
        "id": "c8nq277Oxzve"
      }
    },
    {
      "cell_type": "code",
      "source": [
        "input_1=int(input(\"a number:\"))\n",
        "if input_1%2==0:\n",
        "  print(f\"{input_1} is even\")\n",
        "else:\n",
        "  print(f\"{input_1} is odd\")"
      ],
      "metadata": {
        "id": "ZIzP4rxNk6FO"
      },
      "execution_count": null,
      "outputs": []
    },
    {
      "cell_type": "code",
      "source": [
        "print(1)"
      ],
      "metadata": {
        "colab": {
          "base_uri": "https://localhost:8080/"
        },
        "id": "3hKU2vdxlht4",
        "outputId": "45a66848-94bd-4f8d-aef5-8bd7234acbae"
      },
      "execution_count": null,
      "outputs": [
        {
          "output_type": "stream",
          "name": "stdout",
          "text": [
            "1\n"
          ]
        }
      ]
    },
    {
      "cell_type": "markdown",
      "source": [
        "## 6.3 Nested decision structure(巢狀判斷式)\n",
        "```\n",
        "if condition1:\n",
        "  if condition2:\n",
        "    statment2\n",
        "  else:\n",
        "    statement3\n",
        "else:\n",
        "  if condition4:\n",
        "    statment4\n",
        "  else:\n",
        "    statement5\n",
        "```"
      ],
      "metadata": {
        "id": "xvvVpFY5xm9R"
      }
    },
    {
      "cell_type": "code",
      "source": [
        "score1=float(input(\"your score=\"))\n",
        "if score1>=60:\n",
        "  if score1>=99:\n",
        "    print(\"excellent\")\n",
        "    print(\"你厲害\")\n",
        "  print(\"PASS\")\n",
        "else:\n",
        "  if score1>=50:\n",
        "    print(\"make-up\")\n",
        "  else:\n",
        "    print(\"Fail\")"
      ],
      "metadata": {
        "colab": {
          "base_uri": "https://localhost:8080/"
        },
        "id": "1WjZWCsLm6n-",
        "outputId": "e152a3fd-83dd-4e42-e9f6-d95c37f02f9f"
      },
      "execution_count": null,
      "outputs": [
        {
          "output_type": "stream",
          "name": "stdout",
          "text": [
            "your score=100\n",
            "excellent\n",
            "PASS\n"
          ]
        }
      ]
    },
    {
      "cell_type": "code",
      "source": [
        "\"\"\"Shipping Charges\n",
        "The Fast Freight Shipping Company charges the following rates:\n",
        "Weight of Package: Rate per Pound\n",
        "1.2 pounds or less: $1.10\n",
        "2.Over 2 pounds but not more than 6 pounds: $2.20\n",
        "3.Over 6 pounds but not more than 10 pounds: $3.70\n",
        "4.Over 10 pounds: $3.80\n",
        "Write a program that asks the user to enter the weight of a package and then displays the\n",
        "shipping charges.\"\"\"\n"
      ],
      "metadata": {
        "id": "nG1ARRsoAbuu"
      },
      "execution_count": null,
      "outputs": []
    },
    {
      "cell_type": "markdown",
      "source": [
        "## 6.4 if-elif-else statement(多向判斷式)(python特有)\n",
        "```\n",
        "if condition1:\n",
        "  statement1\n",
        "elif condition2:\n",
        "  statement2\n",
        "elif condition3:\n",
        "  statement3\n",
        "else:\n",
        "  statememt4\n",
        "```"
      ],
      "metadata": {
        "id": "0C06qF0ocpzk"
      }
    },
    {
      "cell_type": "code",
      "source": [
        "score2=float(input(\"your score=\"))\n",
        "if score2>=90:\n",
        "  print(\"A\")\n",
        "elif score2>=80:\n",
        "  print(\"B\")\n",
        "elif score2>=70:\n",
        "  print(\"C\")\n",
        "elif score2>=60:\n",
        "  print(\"D\")\n",
        "else:\n",
        "  print(\"E\")\n",
        "  print(\"印不及格分數\")\n",
        "print(f\"score={score2}\")"
      ],
      "metadata": {
        "id": "ltnjPgDjcsYv",
        "colab": {
          "base_uri": "https://localhost:8080/"
        },
        "outputId": "a7c4bc2f-133e-4a9e-8682-3dd6ae277d51"
      },
      "execution_count": null,
      "outputs": [
        {
          "output_type": "stream",
          "name": "stdout",
          "text": [
            "your score=89.9\n",
            "B\n"
          ]
        }
      ]
    },
    {
      "cell_type": "markdown",
      "source": [
        "# 七、Loop(迴圈)\n",
        "Difference: for and while loop\n",
        "\n"
      ],
      "metadata": {
        "id": "SpI1KLtFUJq1"
      }
    },
    {
      "cell_type": "markdown",
      "source": [
        "## 7.1 range(start,stop,[,step]) function\n",
        "* 這三個數值是整數(可為正值或負值)\n",
        "* start為起始值(含)，預設值為0\n",
        "* stop為結束值(不含)，只包含至前一個數值，必須要有此數值\n",
        "* step為遞增量(每次增加步伐)，預設值為1"
      ],
      "metadata": {
        "id": "THc3eJp2Vs4C"
      }
    },
    {
      "cell_type": "code",
      "source": [
        "#產生1-10正整數數值\n",
        "print(range(1,11))\n",
        "print(list(range(1,11)))\n",
        "print(list(range(1,11,2)))\n",
        "print(list(range(11)))\n",
        "#產生-1...-10負整數數值\n",
        "print(list(range(-1,-11)))  # wrong\n",
        "print(list(range(-1,-11,-1))) #right"
      ],
      "metadata": {
        "colab": {
          "base_uri": "https://localhost:8080/"
        },
        "id": "udPcb95vfPDx",
        "outputId": "de40810d-900b-45ad-ba11-132d0e857567"
      },
      "execution_count": null,
      "outputs": [
        {
          "output_type": "stream",
          "name": "stdout",
          "text": [
            "range(1, 11)\n",
            "[1, 2, 3, 4, 5, 6, 7, 8, 9, 10]\n",
            "[1, 3, 5, 7, 9]\n",
            "[0, 1, 2, 3, 4, 5, 6, 7, 8, 9, 10]\n",
            "[]\n",
            "[-1, -2, -3, -4, -5, -6, -7, -8, -9, -10]\n"
          ]
        }
      ]
    },
    {
      "cell_type": "markdown",
      "source": [
        "## 7.2 for loop\n",
        "```\n",
        "for i in range()/list/string: #i是計數器的變數名稱\n",
        "  statement1\n",
        "```"
      ],
      "metadata": {
        "id": "5EweRjTfbUrX"
      }
    },
    {
      "cell_type": "code",
      "source": [
        "even_number=[2,4,6,8,\"python\",\"hello\",3.8]\n",
        "for number in even_number:\n",
        "  print(f\"even_number list包含:{number}\")"
      ],
      "metadata": {
        "colab": {
          "base_uri": "https://localhost:8080/"
        },
        "id": "VrhnJU2Sc97s",
        "outputId": "2ef923be-4c91-4e8b-e9f9-e63a58a90b4c"
      },
      "execution_count": null,
      "outputs": [
        {
          "output_type": "stream",
          "name": "stdout",
          "text": [
            "even_number list包含:2\n",
            "even_number list包含:4\n",
            "even_number list包含:6\n",
            "even_number list包含:8\n",
            "even_number list包含:python\n",
            "even_number list包含:hello\n",
            "even_number list包含:3.8\n"
          ]
        }
      ]
    },
    {
      "cell_type": "code",
      "source": [
        "s1=\"hello   world\"\n",
        "for string1 in s1:\n",
        "  print(f\"s1包含:{string1}字串\")"
      ],
      "metadata": {
        "colab": {
          "base_uri": "https://localhost:8080/"
        },
        "id": "YOfL9oJsdeRA",
        "outputId": "fbc7b640-8483-4441-8372-3728785db275"
      },
      "execution_count": null,
      "outputs": [
        {
          "output_type": "stream",
          "name": "stdout",
          "text": [
            "s1包含:h字串\n",
            "s1包含:e字串\n",
            "s1包含:l字串\n",
            "s1包含:l字串\n",
            "s1包含:o字串\n",
            "s1包含: 字串\n",
            "s1包含: 字串\n",
            "s1包含: 字串\n",
            "s1包含:w字串\n",
            "s1包含:o字串\n",
            "s1包含:r字串\n",
            "s1包含:l字串\n",
            "s1包含:d字串\n"
          ]
        }
      ]
    },
    {
      "cell_type": "code",
      "source": [
        "for i in range(-1,-11,-1):\n",
        "  print(f\"我產生的數值是{i}\")"
      ],
      "metadata": {
        "colab": {
          "base_uri": "https://localhost:8080/"
        },
        "id": "6SmDZF9nh52g",
        "outputId": "c172daca-37ee-4bcf-e928-52c6830a3f74"
      },
      "execution_count": null,
      "outputs": [
        {
          "output_type": "stream",
          "name": "stdout",
          "text": [
            "我產生的數值是-1\n",
            "我產生的數值是-2\n",
            "我產生的數值是-3\n",
            "我產生的數值是-4\n",
            "我產生的數值是-5\n",
            "我產生的數值是-6\n",
            "我產生的數值是-7\n",
            "我產生的數值是-8\n",
            "我產生的數值是-9\n",
            "我產生的數值是-10\n"
          ]
        }
      ]
    },
    {
      "cell_type": "code",
      "source": [
        "#產生1-10正整數數值並相加\n",
        "# 1+2+3+...+10=?\n",
        "total_1=0\n",
        "for i in range(1,11):\n",
        "  total_1=total_1+i\n",
        "  print(f\"total={total_1},i={i}\")"
      ],
      "metadata": {
        "colab": {
          "base_uri": "https://localhost:8080/"
        },
        "id": "Ho_juMI4iqLT",
        "outputId": "48f65558-6b91-4926-b873-941e0ba7b9bf"
      },
      "execution_count": null,
      "outputs": [
        {
          "output_type": "stream",
          "name": "stdout",
          "text": [
            "total=1,i=1\n",
            "total=3,i=2\n",
            "total=6,i=3\n",
            "total=10,i=4\n",
            "total=15,i=5\n",
            "total=21,i=6\n",
            "total=28,i=7\n",
            "total=36,i=8\n",
            "total=45,i=9\n",
            "total=55,i=10\n"
          ]
        }
      ]
    },
    {
      "cell_type": "code",
      "source": [
        "#q1: 1+2+3+...+100=?\n",
        "total_2=0\n",
        "for i in range(1,101):\n",
        "  total_2+=i #total_2=total_2+i\n",
        "  #print(f\"total={total_2},i={i}\")\n",
        "print(f\"1+2+3+...+100={total_2}\")\n",
        "#q2: 2+4+6+...+98=?\n",
        "total_3=0\n",
        "for i in range(2,99,2):\n",
        "  total_3+=i\n",
        "print(f\"2+4+6+...+98={total_3}\")\n",
        "\n",
        "# q3\n",
        "# method_1\n",
        "for i in range(1,101):\n",
        "  if i%13==0:\n",
        "    print(f\"{i}是13的倍數\")\n",
        "# method_2\n",
        "for i in range(13,101,13):\n",
        "  print(f\"{i}是13的倍數\")"
      ],
      "metadata": {
        "colab": {
          "base_uri": "https://localhost:8080/"
        },
        "id": "38OV37Iijq7z",
        "outputId": "94f7d408-1624-4968-da80-41d496faf1db"
      },
      "execution_count": null,
      "outputs": [
        {
          "output_type": "stream",
          "name": "stdout",
          "text": [
            "1+2+3+...+100=5050\n",
            "2+4+6+...+98=2450\n",
            "13是13的倍數\n",
            "26是13的倍數\n",
            "39是13的倍數\n",
            "52是13的倍數\n",
            "65是13的倍數\n",
            "78是13的倍數\n",
            "91是13的倍數\n",
            "13是13的倍數\n",
            "26是13的倍數\n",
            "39是13的倍數\n",
            "52是13的倍數\n",
            "65是13的倍數\n",
            "78是13的倍數\n",
            "91是13的倍數\n"
          ]
        }
      ]
    },
    {
      "cell_type": "markdown",
      "source": [
        "## 7.3 while loop\n",
        "```\n",
        "while condition:\n",
        "  statements\n",
        "[else:\n",
        "  statements]\n",
        "```"
      ],
      "metadata": {
        "id": "SlilBMOsTaJE"
      }
    },
    {
      "cell_type": "code",
      "source": [
        "#產生1-10正整數數值\n",
        "number=1\n",
        "while number>=10:\n",
        "  print(f\"產生的數值={number}\")\n",
        "  number+=0.5  # important"
      ],
      "metadata": {
        "id": "D-m96hH7qAft"
      },
      "execution_count": null,
      "outputs": []
    },
    {
      "cell_type": "markdown",
      "source": [
        "## 7.4 multiple loop\n"
      ],
      "metadata": {
        "id": "bthwhvN8Z74w"
      }
    },
    {
      "cell_type": "code",
      "source": [
        "for i in [\"bob\",\"john\",\"judy\"]:\n",
        "  for j in range(4):  #j=0,1,2,3\n",
        "    for k in \"python\":\n",
        "      for m in [\"c1ass1\",\"class2\"]:\n",
        "        print(f\"hello {i},serial={j},character={k},class={m}\")"
      ],
      "metadata": {
        "colab": {
          "base_uri": "https://localhost:8080/"
        },
        "id": "fjJEWsPie_6H",
        "outputId": "237b5c3b-115f-4eee-f656-2e18147fa834"
      },
      "execution_count": null,
      "outputs": [
        {
          "output_type": "stream",
          "name": "stdout",
          "text": [
            "hello bob,serial=0,character=p,class=c1ass1\n",
            "hello bob,serial=0,character=p,class=class2\n",
            "hello bob,serial=0,character=y,class=c1ass1\n",
            "hello bob,serial=0,character=y,class=class2\n",
            "hello bob,serial=0,character=t,class=c1ass1\n",
            "hello bob,serial=0,character=t,class=class2\n",
            "hello bob,serial=0,character=h,class=c1ass1\n",
            "hello bob,serial=0,character=h,class=class2\n",
            "hello bob,serial=0,character=o,class=c1ass1\n",
            "hello bob,serial=0,character=o,class=class2\n",
            "hello bob,serial=0,character=n,class=c1ass1\n",
            "hello bob,serial=0,character=n,class=class2\n",
            "hello bob,serial=1,character=p,class=c1ass1\n",
            "hello bob,serial=1,character=p,class=class2\n",
            "hello bob,serial=1,character=y,class=c1ass1\n",
            "hello bob,serial=1,character=y,class=class2\n",
            "hello bob,serial=1,character=t,class=c1ass1\n",
            "hello bob,serial=1,character=t,class=class2\n",
            "hello bob,serial=1,character=h,class=c1ass1\n",
            "hello bob,serial=1,character=h,class=class2\n",
            "hello bob,serial=1,character=o,class=c1ass1\n",
            "hello bob,serial=1,character=o,class=class2\n",
            "hello bob,serial=1,character=n,class=c1ass1\n",
            "hello bob,serial=1,character=n,class=class2\n",
            "hello bob,serial=2,character=p,class=c1ass1\n",
            "hello bob,serial=2,character=p,class=class2\n",
            "hello bob,serial=2,character=y,class=c1ass1\n",
            "hello bob,serial=2,character=y,class=class2\n",
            "hello bob,serial=2,character=t,class=c1ass1\n",
            "hello bob,serial=2,character=t,class=class2\n",
            "hello bob,serial=2,character=h,class=c1ass1\n",
            "hello bob,serial=2,character=h,class=class2\n",
            "hello bob,serial=2,character=o,class=c1ass1\n",
            "hello bob,serial=2,character=o,class=class2\n",
            "hello bob,serial=2,character=n,class=c1ass1\n",
            "hello bob,serial=2,character=n,class=class2\n",
            "hello bob,serial=3,character=p,class=c1ass1\n",
            "hello bob,serial=3,character=p,class=class2\n",
            "hello bob,serial=3,character=y,class=c1ass1\n",
            "hello bob,serial=3,character=y,class=class2\n",
            "hello bob,serial=3,character=t,class=c1ass1\n",
            "hello bob,serial=3,character=t,class=class2\n",
            "hello bob,serial=3,character=h,class=c1ass1\n",
            "hello bob,serial=3,character=h,class=class2\n",
            "hello bob,serial=3,character=o,class=c1ass1\n",
            "hello bob,serial=3,character=o,class=class2\n",
            "hello bob,serial=3,character=n,class=c1ass1\n",
            "hello bob,serial=3,character=n,class=class2\n",
            "hello john,serial=0,character=p,class=c1ass1\n",
            "hello john,serial=0,character=p,class=class2\n",
            "hello john,serial=0,character=y,class=c1ass1\n",
            "hello john,serial=0,character=y,class=class2\n",
            "hello john,serial=0,character=t,class=c1ass1\n",
            "hello john,serial=0,character=t,class=class2\n",
            "hello john,serial=0,character=h,class=c1ass1\n",
            "hello john,serial=0,character=h,class=class2\n",
            "hello john,serial=0,character=o,class=c1ass1\n",
            "hello john,serial=0,character=o,class=class2\n",
            "hello john,serial=0,character=n,class=c1ass1\n",
            "hello john,serial=0,character=n,class=class2\n",
            "hello john,serial=1,character=p,class=c1ass1\n",
            "hello john,serial=1,character=p,class=class2\n",
            "hello john,serial=1,character=y,class=c1ass1\n",
            "hello john,serial=1,character=y,class=class2\n",
            "hello john,serial=1,character=t,class=c1ass1\n",
            "hello john,serial=1,character=t,class=class2\n",
            "hello john,serial=1,character=h,class=c1ass1\n",
            "hello john,serial=1,character=h,class=class2\n",
            "hello john,serial=1,character=o,class=c1ass1\n",
            "hello john,serial=1,character=o,class=class2\n",
            "hello john,serial=1,character=n,class=c1ass1\n",
            "hello john,serial=1,character=n,class=class2\n",
            "hello john,serial=2,character=p,class=c1ass1\n",
            "hello john,serial=2,character=p,class=class2\n",
            "hello john,serial=2,character=y,class=c1ass1\n",
            "hello john,serial=2,character=y,class=class2\n",
            "hello john,serial=2,character=t,class=c1ass1\n",
            "hello john,serial=2,character=t,class=class2\n",
            "hello john,serial=2,character=h,class=c1ass1\n",
            "hello john,serial=2,character=h,class=class2\n",
            "hello john,serial=2,character=o,class=c1ass1\n",
            "hello john,serial=2,character=o,class=class2\n",
            "hello john,serial=2,character=n,class=c1ass1\n",
            "hello john,serial=2,character=n,class=class2\n",
            "hello john,serial=3,character=p,class=c1ass1\n",
            "hello john,serial=3,character=p,class=class2\n",
            "hello john,serial=3,character=y,class=c1ass1\n",
            "hello john,serial=3,character=y,class=class2\n",
            "hello john,serial=3,character=t,class=c1ass1\n",
            "hello john,serial=3,character=t,class=class2\n",
            "hello john,serial=3,character=h,class=c1ass1\n",
            "hello john,serial=3,character=h,class=class2\n",
            "hello john,serial=3,character=o,class=c1ass1\n",
            "hello john,serial=3,character=o,class=class2\n",
            "hello john,serial=3,character=n,class=c1ass1\n",
            "hello john,serial=3,character=n,class=class2\n",
            "hello judy,serial=0,character=p,class=c1ass1\n",
            "hello judy,serial=0,character=p,class=class2\n",
            "hello judy,serial=0,character=y,class=c1ass1\n",
            "hello judy,serial=0,character=y,class=class2\n",
            "hello judy,serial=0,character=t,class=c1ass1\n",
            "hello judy,serial=0,character=t,class=class2\n",
            "hello judy,serial=0,character=h,class=c1ass1\n",
            "hello judy,serial=0,character=h,class=class2\n",
            "hello judy,serial=0,character=o,class=c1ass1\n",
            "hello judy,serial=0,character=o,class=class2\n",
            "hello judy,serial=0,character=n,class=c1ass1\n",
            "hello judy,serial=0,character=n,class=class2\n",
            "hello judy,serial=1,character=p,class=c1ass1\n",
            "hello judy,serial=1,character=p,class=class2\n",
            "hello judy,serial=1,character=y,class=c1ass1\n",
            "hello judy,serial=1,character=y,class=class2\n",
            "hello judy,serial=1,character=t,class=c1ass1\n",
            "hello judy,serial=1,character=t,class=class2\n",
            "hello judy,serial=1,character=h,class=c1ass1\n",
            "hello judy,serial=1,character=h,class=class2\n",
            "hello judy,serial=1,character=o,class=c1ass1\n",
            "hello judy,serial=1,character=o,class=class2\n",
            "hello judy,serial=1,character=n,class=c1ass1\n",
            "hello judy,serial=1,character=n,class=class2\n",
            "hello judy,serial=2,character=p,class=c1ass1\n",
            "hello judy,serial=2,character=p,class=class2\n",
            "hello judy,serial=2,character=y,class=c1ass1\n",
            "hello judy,serial=2,character=y,class=class2\n",
            "hello judy,serial=2,character=t,class=c1ass1\n",
            "hello judy,serial=2,character=t,class=class2\n",
            "hello judy,serial=2,character=h,class=c1ass1\n",
            "hello judy,serial=2,character=h,class=class2\n",
            "hello judy,serial=2,character=o,class=c1ass1\n",
            "hello judy,serial=2,character=o,class=class2\n",
            "hello judy,serial=2,character=n,class=c1ass1\n",
            "hello judy,serial=2,character=n,class=class2\n",
            "hello judy,serial=3,character=p,class=c1ass1\n",
            "hello judy,serial=3,character=p,class=class2\n",
            "hello judy,serial=3,character=y,class=c1ass1\n",
            "hello judy,serial=3,character=y,class=class2\n",
            "hello judy,serial=3,character=t,class=c1ass1\n",
            "hello judy,serial=3,character=t,class=class2\n",
            "hello judy,serial=3,character=h,class=c1ass1\n",
            "hello judy,serial=3,character=h,class=class2\n",
            "hello judy,serial=3,character=o,class=c1ass1\n",
            "hello judy,serial=3,character=o,class=class2\n",
            "hello judy,serial=3,character=n,class=c1ass1\n",
            "hello judy,serial=3,character=n,class=class2\n"
          ]
        }
      ]
    },
    {
      "cell_type": "code",
      "source": [
        "# 9*9 tables\n",
        "for i in range(1,10):\n",
        "  for j in range(1,10):\n",
        "    print(f\"{i}*{j}={i*j}\",end=\" \")\n",
        "  print()  #end=預設值(\\n)"
      ],
      "metadata": {
        "colab": {
          "base_uri": "https://localhost:8080/"
        },
        "id": "NiInQP4Qhmt-",
        "outputId": "4ab6e793-330c-448e-cfca-73945297260d"
      },
      "execution_count": null,
      "outputs": [
        {
          "output_type": "stream",
          "name": "stdout",
          "text": [
            "1*1=1 1*2=2 1*3=3 1*4=4 1*5=5 1*6=6 1*7=7 1*8=8 1*9=9 \n",
            "2*1=2 2*2=4 2*3=6 2*4=8 2*5=10 2*6=12 2*7=14 2*8=16 2*9=18 \n",
            "3*1=3 3*2=6 3*3=9 3*4=12 3*5=15 3*6=18 3*7=21 3*8=24 3*9=27 \n",
            "4*1=4 4*2=8 4*3=12 4*4=16 4*5=20 4*6=24 4*7=28 4*8=32 4*9=36 \n",
            "5*1=5 5*2=10 5*3=15 5*4=20 5*5=25 5*6=30 5*7=35 5*8=40 5*9=45 \n",
            "6*1=6 6*2=12 6*3=18 6*4=24 6*5=30 6*6=36 6*7=42 6*8=48 6*9=54 \n",
            "7*1=7 7*2=14 7*3=21 7*4=28 7*5=35 7*6=42 7*7=49 7*8=56 7*9=63 \n",
            "8*1=8 8*2=16 8*3=24 8*4=32 8*5=40 8*6=48 8*7=56 8*8=64 8*9=72 \n",
            "9*1=9 9*2=18 9*3=27 9*4=36 9*5=45 9*6=54 9*7=63 9*8=72 9*9=81 \n"
          ]
        }
      ]
    },
    {
      "cell_type": "markdown",
      "source": [
        "## 7.5 break statement:\n",
        "* break out of the loop\n"
      ],
      "metadata": {
        "id": "9HeixVtCV3RT"
      }
    },
    {
      "cell_type": "code",
      "source": [
        "#讓user輸入name當他輸入\"stop\"就結束輸入\n",
        "while True:\n",
        "  user_name=input(\"your name=\")\n",
        "  if user_name.lower()==\"stop\":\n",
        "    break\n",
        "  print(f\"hello, {user_name}\")"
      ],
      "metadata": {
        "colab": {
          "base_uri": "https://localhost:8080/"
        },
        "id": "93T2lElisfj0",
        "outputId": "679fa1fe-e4b5-4ef6-afe6-2e4af9cff934"
      },
      "execution_count": null,
      "outputs": [
        {
          "name": "stdout",
          "output_type": "stream",
          "text": [
            "your name=jill\n",
            "hello, jill\n",
            "your name=STOP\n"
          ]
        }
      ]
    },
    {
      "cell_type": "markdown",
      "source": [
        "## 7.6 continue statement:\n",
        "* 仍在迴圈內但回到迴圈的開始"
      ],
      "metadata": {
        "id": "rN8IFqhjk14B"
      }
    },
    {
      "cell_type": "code",
      "source": [
        "#讓user輸入name當他輸入\"stop\"就結束輸入,\"con\"就執行continue\n",
        "while True:\n",
        "  user_name=input(\"your name=\")\n",
        "  if user_name.lower()==\"stop\":\n",
        "    break\n",
        "  if user_name.lower()==\"con\":\n",
        "    continue\n",
        "  print(f\"hello, {user_name}\")"
      ],
      "metadata": {
        "colab": {
          "base_uri": "https://localhost:8080/"
        },
        "id": "-S06TOVqwLtd",
        "outputId": "2a9cdc16-e8bc-4423-d185-17db1deafad2"
      },
      "execution_count": null,
      "outputs": [
        {
          "name": "stdout",
          "output_type": "stream",
          "text": [
            "your name=bob\n",
            "hello, bob\n",
            "your name=anna\n",
            "hello, anna\n",
            "your name=CON\n",
            "your name=con\n",
            "your name=helen\n",
            "hello, helen\n",
            "your name=stop\n"
          ]
        }
      ]
    },
    {
      "cell_type": "code",
      "source": [
        "#q2\n",
        "\"\"\" 不OK\n",
        "print(\" \"*0+\"#\")\n",
        "print(\" \"*1+\"#\")\n",
        "print(\" \"*2+\"#\")\n",
        "print(\" \"*3+\"#\")\n",
        "print(\" \"*4+\"#\")\n",
        "\"\"\"\n",
        "for i in range(5):\n",
        "  print(\" \"*i+\"#\")"
      ],
      "metadata": {
        "colab": {
          "base_uri": "https://localhost:8080/"
        },
        "id": "8NjEJra60iNf",
        "outputId": "07576586-c75e-4c45-9cb9-386e7af65103"
      },
      "execution_count": null,
      "outputs": [
        {
          "output_type": "stream",
          "name": "stdout",
          "text": [
            "#\n",
            " #\n",
            "  #\n",
            "   #\n",
            "    #\n"
          ]
        }
      ]
    },
    {
      "cell_type": "markdown",
      "source": [
        "## 7.7 pass 命令:空語法"
      ],
      "metadata": {
        "id": "aS4nLipuV8Cr"
      }
    },
    {
      "cell_type": "code",
      "source": [
        "for i in \"hello everyone\":\n",
        "  if i==\" \":\n",
        "    pass\n",
        "  else:\n",
        "    print(f\"character={i}\")"
      ],
      "metadata": {
        "colab": {
          "base_uri": "https://localhost:8080/"
        },
        "id": "dtUKJTE1mD2k",
        "outputId": "c9d98ac5-764b-4382-f38b-a69486ed5127"
      },
      "execution_count": null,
      "outputs": [
        {
          "output_type": "stream",
          "name": "stdout",
          "text": [
            "character=h\n",
            "character=e\n",
            "character=l\n",
            "character=l\n",
            "character=o\n",
            "character=e\n",
            "character=v\n",
            "character=e\n",
            "character=r\n",
            "character=y\n",
            "character=o\n",
            "character=n\n",
            "character=e\n"
          ]
        }
      ]
    },
    {
      "cell_type": "code",
      "source": [
        "for i in \"hello everyone\":\n",
        "  if i!=\" \":\n",
        "    print(f\"character={i}\")"
      ],
      "metadata": {
        "id": "nQ3B5MUAmwY1"
      },
      "execution_count": null,
      "outputs": []
    },
    {
      "cell_type": "code",
      "source": [
        "import random\n",
        "rand_number=random.randint(0,100)\n",
        "print(rand_number)"
      ],
      "metadata": {
        "colab": {
          "base_uri": "https://localhost:8080/"
        },
        "id": "nI0pV_G71hgq",
        "outputId": "3f1133f2-da13-431e-9361-9160d8fb9d13"
      },
      "execution_count": null,
      "outputs": [
        {
          "output_type": "stream",
          "name": "stdout",
          "text": [
            "13\n"
          ]
        }
      ]
    },
    {
      "cell_type": "markdown",
      "source": [
        "# 八、function(自訂函式)\n",
        "```\n",
        "def fun_name([input_1, input_2, ……]):\n",
        "    statements(程式區塊)\n",
        "    [return output_1, output_2, ……]\n",
        "```"
      ],
      "metadata": {
        "id": "gQESPMUHTbo7"
      }
    },
    {
      "cell_type": "markdown",
      "source": [
        "## 8.1 define and call functions"
      ],
      "metadata": {
        "id": "ZECDDLjLgoFT"
      }
    },
    {
      "cell_type": "code",
      "source": [
        "# define mybmi function\n",
        "# input:height,weight\n",
        "# output:bmi_value, bmi_string\n",
        "# step_1: define function\n",
        "def mybmi(h_cm,w_kg):\n",
        "  bmi_value=w_kg/(h_cm/100)**2\n",
        "  if bmi_value<18.5:\n",
        "    bmi_string=\"underweight\"\n",
        "  elif bmi_value<24:\n",
        "    bmi_string=\"normal\"\n",
        "  elif bmi_value<27:\n",
        "    bmi_string=\"overweight\"\n",
        "  else:\n",
        "    bmi_string=\"obese\"\n",
        "  return round(bmi_value,2),bmi_string\n",
        "# step_2: call the function\n",
        "a1_bmi_value,a1_bmi_string=mybmi(165,60)\n",
        "print(f\"a1: bmi_value={a1_bmi_value},bmi_string={a1_bmi_string}\")\n",
        "a2_h=float(input(\"your height(cm)=\"))\n",
        "a2_w=float(input(\"your weight(kg)=\"))\n",
        "a2_bmi_value,a2_bmi_string=mybmi(a2_h,a2_w)\n",
        "print(f\"a2: bmi_value={a2_bmi_value},bmi_string={a2_bmi_string}\")"
      ],
      "metadata": {
        "colab": {
          "base_uri": "https://localhost:8080/"
        },
        "id": "vONsDzi3rAbC",
        "outputId": "4eb661a9-02c4-4833-ba67-037dd5d5fc9c"
      },
      "execution_count": null,
      "outputs": [
        {
          "output_type": "stream",
          "name": "stdout",
          "text": [
            "a1: bmi_value=22.04,bmi_string=normal\n",
            "your height(cm)=180\n",
            "your weight(kg)=80\n",
            "a2: bmi_value=24.69,bmi_string=overweight\n"
          ]
        }
      ]
    },
    {
      "cell_type": "code",
      "source": [
        "# only input no output(return_value)\n",
        "def mybmi_2(h_cm,w_kg):\n",
        "  bmi_value=w_kg/(h_cm/100)**2\n",
        "  if bmi_value<18.5:\n",
        "    bmi_string=\"underweight\"\n",
        "  elif bmi_value<24:\n",
        "    bmi_string=\"normal\"\n",
        "  elif bmi_value<27:\n",
        "    bmi_string=\"overweight\"\n",
        "  else:\n",
        "    bmi_string=\"obese\"\n",
        "  print(f\"bmi_value={round(bmi_value,2)},bmi_string={bmi_string}\")\n",
        "mybmi_2(165,60)\n",
        "mybmi_2(179,80)"
      ],
      "metadata": {
        "colab": {
          "base_uri": "https://localhost:8080/"
        },
        "id": "9nLryP7nu4xd",
        "outputId": "79bd5cc1-07fa-4c1e-803c-63cfb27797d8"
      },
      "execution_count": null,
      "outputs": [
        {
          "output_type": "stream",
          "name": "stdout",
          "text": [
            "bmi_value=22.04,bmi_string=normal\n",
            "bmi_value=24.97,bmi_string=overweight\n"
          ]
        }
      ]
    },
    {
      "cell_type": "code",
      "source": [
        "# no input and output\n",
        "def mybmi_3():\n",
        "  h_cm=float(input(\"your height(cm)=\"))\n",
        "  w_kg=float(input(\"your weight(kg)=\"))\n",
        "  bmi_value=w_kg/(h_cm/100)**2\n",
        "  if bmi_value<18.5:\n",
        "    bmi_string=\"underweight\"\n",
        "  elif bmi_value<24:\n",
        "    bmi_string=\"normal\"\n",
        "  elif bmi_value<27:\n",
        "    bmi_string=\"overweight\"\n",
        "  else:\n",
        "    bmi_string=\"obese\"\n",
        "  print(f\"bmi_value={round(bmi_value,2)},bmi_string={bmi_string}\")\n",
        "mybmi_3()"
      ],
      "metadata": {
        "colab": {
          "base_uri": "https://localhost:8080/"
        },
        "id": "JgBnYkVMv_vB",
        "outputId": "92897aba-3f04-4ae8-ef36-d4b8be1257c1"
      },
      "execution_count": null,
      "outputs": [
        {
          "output_type": "stream",
          "name": "stdout",
          "text": [
            "your height(cm)=180\n",
            "your weight(kg)=70\n",
            "bmi_value=21.6,bmi_string=normal\n"
          ]
        }
      ]
    },
    {
      "cell_type": "markdown",
      "source": [
        "## 8.2 define and call the main function"
      ],
      "metadata": {
        "id": "nopoCyzogyxF"
      }
    },
    {
      "cell_type": "code",
      "source": [
        "# define main function\n",
        "# 1.定義主程式\n",
        "# 2.定義兩個function: get_regular_price() and discount()\n",
        "discount_rate=0.2\n",
        "def get_regular_price():\n",
        "  price=int(input(\"your price=\"))\n",
        "  return price\n",
        "def discount(price):\n",
        "  new_price=price*(1-discount_rate)\n",
        "  return new_price\n",
        "def main():\n",
        "  a1_price=get_regular_price()\n",
        "  a1_new_price=discount(a1_price)\n",
        "  print(f\"a1_price={a1_price},a1_new_price={a1_new_price}\")\n",
        "main()\n"
      ],
      "metadata": {
        "id": "Hpp-HGB_xWPL"
      },
      "execution_count": null,
      "outputs": []
    },
    {
      "cell_type": "markdown",
      "source": [
        "## 8.3 global variable(全域型變數) and local variable (區域型變數)\n"
      ],
      "metadata": {
        "id": "crJwzVA5fVy1"
      }
    },
    {
      "cell_type": "markdown",
      "source": [
        "## 8.4 lambda function(只能寫一行)\n",
        "~~~\n",
        "f=lambda x1,x2,x3,...: expression\n",
        "~~~\n"
      ],
      "metadata": {
        "id": "lO7y8rZxnhSS"
      }
    },
    {
      "cell_type": "code",
      "source": [
        "# find_max() using lambda function\n",
        "f=lambda x1,x2: x1 if x1>x2 else x2\n",
        "a1=f(12,14)\n",
        "print(a1)"
      ],
      "metadata": {
        "colab": {
          "base_uri": "https://localhost:8080/"
        },
        "id": "8gS46foGn2XS",
        "outputId": "c84cb814-d40c-4ceb-cf4d-563573505cf5"
      },
      "execution_count": null,
      "outputs": [
        {
          "output_type": "stream",
          "name": "stdout",
          "text": [
            "14\n"
          ]
        }
      ]
    },
    {
      "cell_type": "code",
      "source": [
        "# find_max() using general function\n",
        "def find_max(x1,x2):\n",
        "  if x1>x2:\n",
        "    return x1\n",
        "  else:\n",
        "    return x2\n",
        "\n",
        "a2=find_max(12,14)\n",
        "print(a2)"
      ],
      "metadata": {
        "id": "IP7eJQpRo-N2"
      },
      "execution_count": null,
      "outputs": []
    },
    {
      "cell_type": "code",
      "source": [],
      "metadata": {
        "id": "nAh7eSKWo36K"
      },
      "execution_count": null,
      "outputs": []
    },
    {
      "cell_type": "markdown",
      "source": [
        "# 九、other data type\n"
      ],
      "metadata": {
        "id": "T_gnQhz3UcXA"
      }
    },
    {
      "cell_type": "markdown",
      "source": [
        "## 9.1 dictionary(dict):{(key:value),(key:value),...}\n",
        "```\n",
        "add/modify: dict1[key]=value\n",
        "delete: del dict1[key]\n",
        "```\n",
        "* in, not in"
      ],
      "metadata": {
        "id": "CZ5_kEUvWjfg"
      }
    },
    {
      "cell_type": "code",
      "source": [
        "# create an empty dict: key=name(str);value=phone_number(str)\n",
        "phonebook={} # create an empty dict\n",
        "# add item\n",
        "phonebook[\"david\"]=\"0912344\"\n",
        "# add 2 items with bug\n",
        "for i in range(2):\n",
        "  name=input(\"enter your name=\")\n",
        "  number=input(\"enter number=\")\n",
        "  phonebook[name]=number\n",
        "print(phonebook)"
      ],
      "metadata": {
        "colab": {
          "base_uri": "https://localhost:8080/"
        },
        "id": "mQVKr2bwsdxk",
        "outputId": "80233d5e-868d-4194-aaac-e6ba0a1c0929"
      },
      "execution_count": null,
      "outputs": [
        {
          "output_type": "stream",
          "name": "stdout",
          "text": [
            "enter your name=bob\n",
            "enter number=093566\n",
            "enter your name=john\n",
            "enter number=0935684\n",
            "{'david': '0912344', 'bob': '093566', 'john': '0935684'}\n"
          ]
        }
      ]
    },
    {
      "cell_type": "code",
      "source": [
        "# delete item\n",
        "del phonebook[\"bob\"]"
      ],
      "metadata": {
        "id": "PilDdhNiukCk"
      },
      "execution_count": null,
      "outputs": []
    },
    {
      "cell_type": "code",
      "source": [
        "print(phonebook)"
      ],
      "metadata": {
        "colab": {
          "base_uri": "https://localhost:8080/"
        },
        "id": "K5r-UsSiu2kz",
        "outputId": "b86fc06f-cbf9-49ea-dc9d-9e7f0ae8ff0e"
      },
      "execution_count": null,
      "outputs": [
        {
          "output_type": "stream",
          "name": "stdout",
          "text": [
            "{'david': '0912344', 'john': '0935684'}\n"
          ]
        }
      ]
    },
    {
      "cell_type": "code",
      "source": [
        "# modify value\n",
        "phonebook[\"john\"]=\"03111111\"\n",
        "print(phonebook)"
      ],
      "metadata": {
        "colab": {
          "base_uri": "https://localhost:8080/"
        },
        "id": "H4O9BtI4u5N9",
        "outputId": "309b6b16-8861-49c8-db34-e07027dcc08e"
      },
      "execution_count": null,
      "outputs": [
        {
          "output_type": "stream",
          "name": "stdout",
          "text": [
            "{'david': '0912344', 'john': '03111111'}\n"
          ]
        }
      ]
    },
    {
      "cell_type": "code",
      "source": [
        "print(\"jill\" in phonebook)\n",
        "print(\"john\" in phonebook)"
      ],
      "metadata": {
        "colab": {
          "base_uri": "https://localhost:8080/"
        },
        "id": "v15B66JBwwgc",
        "outputId": "7b7a4637-31b4-4ff6-c777-d926df62fb12"
      },
      "execution_count": null,
      "outputs": [
        {
          "output_type": "stream",
          "name": "stdout",
          "text": [
            "False\n",
            "True\n"
          ]
        }
      ]
    },
    {
      "cell_type": "code",
      "source": [
        "# add 2 items\n",
        "for i in range(2):\n",
        "  name=input(\"enter your name=\")\n",
        "  number=input(\"enter number=\")\n",
        "  if name in phonebook:\n",
        "    print(f\"{name} existed 不能新增\")\n",
        "  else:\n",
        "    phonebook[name]=number"
      ],
      "metadata": {
        "colab": {
          "base_uri": "https://localhost:8080/"
        },
        "id": "4tdYejGqwm_k",
        "outputId": "52f2923c-eef9-4709-ea69-413791b21ad7"
      },
      "execution_count": null,
      "outputs": [
        {
          "name": "stdout",
          "output_type": "stream",
          "text": [
            "enter your name=david\n",
            "enter number=039753\n",
            "david existed 不能新增\n",
            "enter your name=david hung\n",
            "enter number=0396452\n"
          ]
        }
      ]
    },
    {
      "cell_type": "code",
      "source": [
        "print(phonebook)"
      ],
      "metadata": {
        "colab": {
          "base_uri": "https://localhost:8080/"
        },
        "id": "tkX-YbGOx2Gt",
        "outputId": "1395f128-ef32-47d4-9b44-845c1eeb1983"
      },
      "execution_count": null,
      "outputs": [
        {
          "output_type": "stream",
          "name": "stdout",
          "text": [
            "{'david': '0912344', 'john': '03111111', 'david hung': '0396452'}\n"
          ]
        }
      ]
    },
    {
      "cell_type": "code",
      "source": [
        "# really add 2 items\n",
        "i=0\n",
        "while i<2:\n",
        "  name=input(\"enter your name=\")\n",
        "  number=input(\"enter number=\")\n",
        "  if name in phonebook:\n",
        "    print(f\"{name} existed 不能新增\")\n",
        "  else:\n",
        "    phonebook[name]=number  # really add item\n",
        "    i+=1\n",
        "print(phonebook)"
      ],
      "metadata": {
        "colab": {
          "base_uri": "https://localhost:8080/"
        },
        "id": "_UHQjFabyXMw",
        "outputId": "cd942477-afdc-4d56-a5e1-8369cd6354d6"
      },
      "execution_count": null,
      "outputs": [
        {
          "output_type": "stream",
          "name": "stdout",
          "text": [
            "enter your name=eric\n",
            "enter number=0392\n",
            "enter your name=anna\n",
            "enter number=03223\n",
            "{'david': '0912344', 'john': '03111111', 'david hung': '0396452', 'eric': '0392', 'anna': '03223'}\n"
          ]
        }
      ]
    },
    {
      "cell_type": "code",
      "source": [
        "print(type(phonebook))\n",
        "print(phonebook.items())\n",
        "print(phonebook.keys())\n",
        "print(phonebook.values())"
      ],
      "metadata": {
        "colab": {
          "base_uri": "https://localhost:8080/"
        },
        "id": "X140t7fqzZI9",
        "outputId": "58eb3a54-6b10-49f1-aaf7-b93bb9bbb853"
      },
      "execution_count": null,
      "outputs": [
        {
          "output_type": "stream",
          "name": "stdout",
          "text": [
            "<class 'dict'>\n",
            "dict_items([('david', '0912344'), ('john', '03111111'), ('david hung', '0396452'), ('eric', '0392'), ('anna', '03223')])\n",
            "dict_keys(['david', 'john', 'david hung', 'eric', 'anna'])\n",
            "dict_values(['0912344', '03111111', '0396452', '0392', '03223'])\n"
          ]
        }
      ]
    },
    {
      "cell_type": "code",
      "source": [
        "print(phonebook)\n",
        "# for + dict\n",
        "for i in phonebook:\n",
        "  print(f\"name={i},phone_number={phonebook[i]}\")"
      ],
      "metadata": {
        "colab": {
          "base_uri": "https://localhost:8080/"
        },
        "id": "tDTbg9nV6UU5",
        "outputId": "9c11d025-9a56-4556-b08d-21a5fb4136f4"
      },
      "execution_count": null,
      "outputs": [
        {
          "output_type": "stream",
          "name": "stdout",
          "text": [
            "{'david': '0912344', 'john': '03111111', 'david hung': '0396452', 'eric': '0392', 'anna': '03223'}\n",
            "name=david,phone_number=0912344\n",
            "name=john,phone_number=03111111\n",
            "name=david hung,phone_number=0396452\n",
            "name=eric,phone_number=0392\n",
            "name=anna,phone_number=03223\n"
          ]
        }
      ]
    },
    {
      "cell_type": "markdown",
      "source": [
        "## 9.2 set:set1=set()\n",
        "* No duplicate data\n",
        "* No order (沒有順序)"
      ],
      "metadata": {
        "id": "YmtGAFO3Wlcq"
      }
    },
    {
      "cell_type": "markdown",
      "source": [
        "## 9.3 tuple:\n",
        "* ordered collection of elements enclosed within square brackets []\n",
        "* 用()表示跟list(串列)很像但不能修改內容"
      ],
      "metadata": {
        "id": "RvWo6FIfWwp1"
      }
    },
    {
      "cell_type": "markdown",
      "source": [
        "## 9.4 mixed data types(多重資料型態的混搭)\n"
      ],
      "metadata": {
        "id": "rkgoO8Egy7qN"
      }
    },
    {
      "cell_type": "markdown",
      "source": [
        "### 9.4.1 two-dimension list(二維串列)"
      ],
      "metadata": {
        "id": "ffEjQn-xAoOn"
      }
    },
    {
      "cell_type": "markdown",
      "source": [
        "### 9.4.2 串列中有tuple"
      ],
      "metadata": {
        "id": "aRRqC4NLA4Bc"
      }
    },
    {
      "cell_type": "markdown",
      "source": [
        "### 9.4.3 dict中有list"
      ],
      "metadata": {
        "id": "5_mHt3lkDJZL"
      }
    },
    {
      "cell_type": "markdown",
      "source": [
        "## 9.5 list sorts"
      ],
      "metadata": {
        "id": "D_6UokxThkND"
      }
    },
    {
      "cell_type": "markdown",
      "source": [
        "## 9.6 list comprehension\n",
        "~~~\n",
        "list_name=[自訂變數 for 自訂變數 in 資料組 (if 關係運算式)]\n",
        "~~~"
      ],
      "metadata": {
        "id": "TOPsVLbpuiQQ"
      }
    },
    {
      "cell_type": "markdown",
      "source": [
        "# 十、Exeptions and files(例外處理及檔案處理)"
      ],
      "metadata": {
        "id": "Iuo9rVdDUkV1"
      }
    },
    {
      "cell_type": "markdown",
      "source": [
        "## 10.1 exception\n",
        "```\n",
        "try:\n",
        "  statements1 #try用來執行並進行例外偵測\n",
        "except [例外狀況]:\n",
        "  statement2  #若發生例外時執行的程式\n",
        "...\n",
        "[else:\n",
        "  statement3  #若沒有發生例外時執行的程式\n",
        "finally:\n",
        "  statement4]  #一定會執行的程式\n",
        "```\n",
        "* except可設定多種例外狀況，若省略指定代表一發生例外狀況就執行\n",
        "* else, finally非必填"
      ],
      "metadata": {
        "id": "WCrseo9VW3wd"
      }
    },
    {
      "cell_type": "markdown",
      "source": [
        "## 10.2 files\n",
        "  1. open a file(開啟檔案): open()\n",
        "  2. write, read a file(讀取、寫入檔案): read(),write()\n",
        "  3. close a file(關檔案): close()"
      ],
      "metadata": {
        "id": "OdiHrrDRXEi1"
      }
    },
    {
      "cell_type": "code",
      "source": [
        "# upload files\n",
        "from google.colab import files #只匯入google.colab下的files\n",
        "uploaded = files.upload()"
      ],
      "metadata": {
        "colab": {
          "base_uri": "https://localhost:8080/",
          "height": 75
        },
        "id": "Jau9bqhivtP8",
        "outputId": "e1456f26-3aa2-4a69-b9ce-b376053c80c7"
      },
      "execution_count": null,
      "outputs": [
        {
          "output_type": "display_data",
          "data": {
            "text/plain": [
              "<IPython.core.display.HTML object>"
            ],
            "text/html": [
              "\n",
              "     <input type=\"file\" id=\"files-0cd7387a-cf77-4b46-92d1-d6c30c7a2114\" name=\"files[]\" multiple disabled\n",
              "        style=\"border:none\" />\n",
              "     <output id=\"result-0cd7387a-cf77-4b46-92d1-d6c30c7a2114\">\n",
              "      Upload widget is only available when the cell has been executed in the\n",
              "      current browser session. Please rerun this cell to enable.\n",
              "      </output>\n",
              "      <script>// Copyright 2017 Google LLC\n",
              "//\n",
              "// Licensed under the Apache License, Version 2.0 (the \"License\");\n",
              "// you may not use this file except in compliance with the License.\n",
              "// You may obtain a copy of the License at\n",
              "//\n",
              "//      http://www.apache.org/licenses/LICENSE-2.0\n",
              "//\n",
              "// Unless required by applicable law or agreed to in writing, software\n",
              "// distributed under the License is distributed on an \"AS IS\" BASIS,\n",
              "// WITHOUT WARRANTIES OR CONDITIONS OF ANY KIND, either express or implied.\n",
              "// See the License for the specific language governing permissions and\n",
              "// limitations under the License.\n",
              "\n",
              "/**\n",
              " * @fileoverview Helpers for google.colab Python module.\n",
              " */\n",
              "(function(scope) {\n",
              "function span(text, styleAttributes = {}) {\n",
              "  const element = document.createElement('span');\n",
              "  element.textContent = text;\n",
              "  for (const key of Object.keys(styleAttributes)) {\n",
              "    element.style[key] = styleAttributes[key];\n",
              "  }\n",
              "  return element;\n",
              "}\n",
              "\n",
              "// Max number of bytes which will be uploaded at a time.\n",
              "const MAX_PAYLOAD_SIZE = 100 * 1024;\n",
              "\n",
              "function _uploadFiles(inputId, outputId) {\n",
              "  const steps = uploadFilesStep(inputId, outputId);\n",
              "  const outputElement = document.getElementById(outputId);\n",
              "  // Cache steps on the outputElement to make it available for the next call\n",
              "  // to uploadFilesContinue from Python.\n",
              "  outputElement.steps = steps;\n",
              "\n",
              "  return _uploadFilesContinue(outputId);\n",
              "}\n",
              "\n",
              "// This is roughly an async generator (not supported in the browser yet),\n",
              "// where there are multiple asynchronous steps and the Python side is going\n",
              "// to poll for completion of each step.\n",
              "// This uses a Promise to block the python side on completion of each step,\n",
              "// then passes the result of the previous step as the input to the next step.\n",
              "function _uploadFilesContinue(outputId) {\n",
              "  const outputElement = document.getElementById(outputId);\n",
              "  const steps = outputElement.steps;\n",
              "\n",
              "  const next = steps.next(outputElement.lastPromiseValue);\n",
              "  return Promise.resolve(next.value.promise).then((value) => {\n",
              "    // Cache the last promise value to make it available to the next\n",
              "    // step of the generator.\n",
              "    outputElement.lastPromiseValue = value;\n",
              "    return next.value.response;\n",
              "  });\n",
              "}\n",
              "\n",
              "/**\n",
              " * Generator function which is called between each async step of the upload\n",
              " * process.\n",
              " * @param {string} inputId Element ID of the input file picker element.\n",
              " * @param {string} outputId Element ID of the output display.\n",
              " * @return {!Iterable<!Object>} Iterable of next steps.\n",
              " */\n",
              "function* uploadFilesStep(inputId, outputId) {\n",
              "  const inputElement = document.getElementById(inputId);\n",
              "  inputElement.disabled = false;\n",
              "\n",
              "  const outputElement = document.getElementById(outputId);\n",
              "  outputElement.innerHTML = '';\n",
              "\n",
              "  const pickedPromise = new Promise((resolve) => {\n",
              "    inputElement.addEventListener('change', (e) => {\n",
              "      resolve(e.target.files);\n",
              "    });\n",
              "  });\n",
              "\n",
              "  const cancel = document.createElement('button');\n",
              "  inputElement.parentElement.appendChild(cancel);\n",
              "  cancel.textContent = 'Cancel upload';\n",
              "  const cancelPromise = new Promise((resolve) => {\n",
              "    cancel.onclick = () => {\n",
              "      resolve(null);\n",
              "    };\n",
              "  });\n",
              "\n",
              "  // Wait for the user to pick the files.\n",
              "  const files = yield {\n",
              "    promise: Promise.race([pickedPromise, cancelPromise]),\n",
              "    response: {\n",
              "      action: 'starting',\n",
              "    }\n",
              "  };\n",
              "\n",
              "  cancel.remove();\n",
              "\n",
              "  // Disable the input element since further picks are not allowed.\n",
              "  inputElement.disabled = true;\n",
              "\n",
              "  if (!files) {\n",
              "    return {\n",
              "      response: {\n",
              "        action: 'complete',\n",
              "      }\n",
              "    };\n",
              "  }\n",
              "\n",
              "  for (const file of files) {\n",
              "    const li = document.createElement('li');\n",
              "    li.append(span(file.name, {fontWeight: 'bold'}));\n",
              "    li.append(span(\n",
              "        `(${file.type || 'n/a'}) - ${file.size} bytes, ` +\n",
              "        `last modified: ${\n",
              "            file.lastModifiedDate ? file.lastModifiedDate.toLocaleDateString() :\n",
              "                                    'n/a'} - `));\n",
              "    const percent = span('0% done');\n",
              "    li.appendChild(percent);\n",
              "\n",
              "    outputElement.appendChild(li);\n",
              "\n",
              "    const fileDataPromise = new Promise((resolve) => {\n",
              "      const reader = new FileReader();\n",
              "      reader.onload = (e) => {\n",
              "        resolve(e.target.result);\n",
              "      };\n",
              "      reader.readAsArrayBuffer(file);\n",
              "    });\n",
              "    // Wait for the data to be ready.\n",
              "    let fileData = yield {\n",
              "      promise: fileDataPromise,\n",
              "      response: {\n",
              "        action: 'continue',\n",
              "      }\n",
              "    };\n",
              "\n",
              "    // Use a chunked sending to avoid message size limits. See b/62115660.\n",
              "    let position = 0;\n",
              "    do {\n",
              "      const length = Math.min(fileData.byteLength - position, MAX_PAYLOAD_SIZE);\n",
              "      const chunk = new Uint8Array(fileData, position, length);\n",
              "      position += length;\n",
              "\n",
              "      const base64 = btoa(String.fromCharCode.apply(null, chunk));\n",
              "      yield {\n",
              "        response: {\n",
              "          action: 'append',\n",
              "          file: file.name,\n",
              "          data: base64,\n",
              "        },\n",
              "      };\n",
              "\n",
              "      let percentDone = fileData.byteLength === 0 ?\n",
              "          100 :\n",
              "          Math.round((position / fileData.byteLength) * 100);\n",
              "      percent.textContent = `${percentDone}% done`;\n",
              "\n",
              "    } while (position < fileData.byteLength);\n",
              "  }\n",
              "\n",
              "  // All done.\n",
              "  yield {\n",
              "    response: {\n",
              "      action: 'complete',\n",
              "    }\n",
              "  };\n",
              "}\n",
              "\n",
              "scope.google = scope.google || {};\n",
              "scope.google.colab = scope.google.colab || {};\n",
              "scope.google.colab._files = {\n",
              "  _uploadFiles,\n",
              "  _uploadFilesContinue,\n",
              "};\n",
              "})(self);\n",
              "</script> "
            ]
          },
          "metadata": {}
        },
        {
          "output_type": "stream",
          "name": "stdout",
          "text": [
            "Saving test1.txt to test1.txt\n"
          ]
        }
      ]
    },
    {
      "cell_type": "markdown",
      "source": [
        "# 十一、Modules\n"
      ],
      "metadata": {
        "id": "DVs6GX-dDuVF"
      }
    },
    {
      "cell_type": "markdown",
      "source": [
        "## 11.1 pandas: data analysis and manipulation tool"
      ],
      "metadata": {
        "id": "BuYfJwgWXZ-u"
      }
    },
    {
      "cell_type": "markdown",
      "source": [
        "### series資料型態: 一維陣列的資料\n",
        "my_obj = pd.Series([4, 7, -5, 3])\n",
        "my_obj.values\n",
        "my_obj.index\n",
        "my_obj2 = pd.Series([8,9,10,11], index=['a','b','c','d'])\n",
        "# 取出series某一個資料\n",
        "my_obj2['a']\n",
        "'a' in my_obj2 # return True/False"
      ],
      "metadata": {
        "id": "aPMBADjkYVFg"
      }
    },
    {
      "cell_type": "code",
      "source": [
        "import pandas as pd"
      ],
      "metadata": {
        "id": "ZNWVs9DHUb4Z"
      },
      "execution_count": null,
      "outputs": []
    },
    {
      "cell_type": "markdown",
      "source": [
        "### 11.1.1 read csv files"
      ],
      "metadata": {
        "id": "FTsbUNFSD52K"
      }
    },
    {
      "cell_type": "code",
      "source": [
        "# method 1\n",
        "\"\"\"\n",
        "url = 'https://www.cs.nccu.edu.tw/~sichiu/11101/countries.csv'\n",
        "df1 = pd.read_csv(url)\n",
        "display(df1)\n",
        "\n",
        "\"\"\"\n",
        "# method 2\n",
        "from google.colab import files #只匯入google.colab下的files\n",
        "uploaded = files.upload()"
      ],
      "metadata": {
        "id": "8bkjr613EBKH",
        "colab": {
          "base_uri": "https://localhost:8080/",
          "height": 92
        },
        "outputId": "81afb1ec-4446-4f36-a152-82910a479103"
      },
      "execution_count": null,
      "outputs": [
        {
          "output_type": "display_data",
          "data": {
            "text/plain": [
              "<IPython.core.display.HTML object>"
            ],
            "text/html": [
              "\n",
              "     <input type=\"file\" id=\"files-f65babb6-a2de-4548-83fc-94077f8a859d\" name=\"files[]\" multiple disabled\n",
              "        style=\"border:none\" />\n",
              "     <output id=\"result-f65babb6-a2de-4548-83fc-94077f8a859d\">\n",
              "      Upload widget is only available when the cell has been executed in the\n",
              "      current browser session. Please rerun this cell to enable.\n",
              "      </output>\n",
              "      <script>// Copyright 2017 Google LLC\n",
              "//\n",
              "// Licensed under the Apache License, Version 2.0 (the \"License\");\n",
              "// you may not use this file except in compliance with the License.\n",
              "// You may obtain a copy of the License at\n",
              "//\n",
              "//      http://www.apache.org/licenses/LICENSE-2.0\n",
              "//\n",
              "// Unless required by applicable law or agreed to in writing, software\n",
              "// distributed under the License is distributed on an \"AS IS\" BASIS,\n",
              "// WITHOUT WARRANTIES OR CONDITIONS OF ANY KIND, either express or implied.\n",
              "// See the License for the specific language governing permissions and\n",
              "// limitations under the License.\n",
              "\n",
              "/**\n",
              " * @fileoverview Helpers for google.colab Python module.\n",
              " */\n",
              "(function(scope) {\n",
              "function span(text, styleAttributes = {}) {\n",
              "  const element = document.createElement('span');\n",
              "  element.textContent = text;\n",
              "  for (const key of Object.keys(styleAttributes)) {\n",
              "    element.style[key] = styleAttributes[key];\n",
              "  }\n",
              "  return element;\n",
              "}\n",
              "\n",
              "// Max number of bytes which will be uploaded at a time.\n",
              "const MAX_PAYLOAD_SIZE = 100 * 1024;\n",
              "\n",
              "function _uploadFiles(inputId, outputId) {\n",
              "  const steps = uploadFilesStep(inputId, outputId);\n",
              "  const outputElement = document.getElementById(outputId);\n",
              "  // Cache steps on the outputElement to make it available for the next call\n",
              "  // to uploadFilesContinue from Python.\n",
              "  outputElement.steps = steps;\n",
              "\n",
              "  return _uploadFilesContinue(outputId);\n",
              "}\n",
              "\n",
              "// This is roughly an async generator (not supported in the browser yet),\n",
              "// where there are multiple asynchronous steps and the Python side is going\n",
              "// to poll for completion of each step.\n",
              "// This uses a Promise to block the python side on completion of each step,\n",
              "// then passes the result of the previous step as the input to the next step.\n",
              "function _uploadFilesContinue(outputId) {\n",
              "  const outputElement = document.getElementById(outputId);\n",
              "  const steps = outputElement.steps;\n",
              "\n",
              "  const next = steps.next(outputElement.lastPromiseValue);\n",
              "  return Promise.resolve(next.value.promise).then((value) => {\n",
              "    // Cache the last promise value to make it available to the next\n",
              "    // step of the generator.\n",
              "    outputElement.lastPromiseValue = value;\n",
              "    return next.value.response;\n",
              "  });\n",
              "}\n",
              "\n",
              "/**\n",
              " * Generator function which is called between each async step of the upload\n",
              " * process.\n",
              " * @param {string} inputId Element ID of the input file picker element.\n",
              " * @param {string} outputId Element ID of the output display.\n",
              " * @return {!Iterable<!Object>} Iterable of next steps.\n",
              " */\n",
              "function* uploadFilesStep(inputId, outputId) {\n",
              "  const inputElement = document.getElementById(inputId);\n",
              "  inputElement.disabled = false;\n",
              "\n",
              "  const outputElement = document.getElementById(outputId);\n",
              "  outputElement.innerHTML = '';\n",
              "\n",
              "  const pickedPromise = new Promise((resolve) => {\n",
              "    inputElement.addEventListener('change', (e) => {\n",
              "      resolve(e.target.files);\n",
              "    });\n",
              "  });\n",
              "\n",
              "  const cancel = document.createElement('button');\n",
              "  inputElement.parentElement.appendChild(cancel);\n",
              "  cancel.textContent = 'Cancel upload';\n",
              "  const cancelPromise = new Promise((resolve) => {\n",
              "    cancel.onclick = () => {\n",
              "      resolve(null);\n",
              "    };\n",
              "  });\n",
              "\n",
              "  // Wait for the user to pick the files.\n",
              "  const files = yield {\n",
              "    promise: Promise.race([pickedPromise, cancelPromise]),\n",
              "    response: {\n",
              "      action: 'starting',\n",
              "    }\n",
              "  };\n",
              "\n",
              "  cancel.remove();\n",
              "\n",
              "  // Disable the input element since further picks are not allowed.\n",
              "  inputElement.disabled = true;\n",
              "\n",
              "  if (!files) {\n",
              "    return {\n",
              "      response: {\n",
              "        action: 'complete',\n",
              "      }\n",
              "    };\n",
              "  }\n",
              "\n",
              "  for (const file of files) {\n",
              "    const li = document.createElement('li');\n",
              "    li.append(span(file.name, {fontWeight: 'bold'}));\n",
              "    li.append(span(\n",
              "        `(${file.type || 'n/a'}) - ${file.size} bytes, ` +\n",
              "        `last modified: ${\n",
              "            file.lastModifiedDate ? file.lastModifiedDate.toLocaleDateString() :\n",
              "                                    'n/a'} - `));\n",
              "    const percent = span('0% done');\n",
              "    li.appendChild(percent);\n",
              "\n",
              "    outputElement.appendChild(li);\n",
              "\n",
              "    const fileDataPromise = new Promise((resolve) => {\n",
              "      const reader = new FileReader();\n",
              "      reader.onload = (e) => {\n",
              "        resolve(e.target.result);\n",
              "      };\n",
              "      reader.readAsArrayBuffer(file);\n",
              "    });\n",
              "    // Wait for the data to be ready.\n",
              "    let fileData = yield {\n",
              "      promise: fileDataPromise,\n",
              "      response: {\n",
              "        action: 'continue',\n",
              "      }\n",
              "    };\n",
              "\n",
              "    // Use a chunked sending to avoid message size limits. See b/62115660.\n",
              "    let position = 0;\n",
              "    do {\n",
              "      const length = Math.min(fileData.byteLength - position, MAX_PAYLOAD_SIZE);\n",
              "      const chunk = new Uint8Array(fileData, position, length);\n",
              "      position += length;\n",
              "\n",
              "      const base64 = btoa(String.fromCharCode.apply(null, chunk));\n",
              "      yield {\n",
              "        response: {\n",
              "          action: 'append',\n",
              "          file: file.name,\n",
              "          data: base64,\n",
              "        },\n",
              "      };\n",
              "\n",
              "      let percentDone = fileData.byteLength === 0 ?\n",
              "          100 :\n",
              "          Math.round((position / fileData.byteLength) * 100);\n",
              "      percent.textContent = `${percentDone}% done`;\n",
              "\n",
              "    } while (position < fileData.byteLength);\n",
              "  }\n",
              "\n",
              "  // All done.\n",
              "  yield {\n",
              "    response: {\n",
              "      action: 'complete',\n",
              "    }\n",
              "  };\n",
              "}\n",
              "\n",
              "scope.google = scope.google || {};\n",
              "scope.google.colab = scope.google.colab || {};\n",
              "scope.google.colab._files = {\n",
              "  _uploadFiles,\n",
              "  _uploadFilesContinue,\n",
              "};\n",
              "})(self);\n",
              "</script> "
            ]
          },
          "metadata": {}
        },
        {
          "output_type": "stream",
          "name": "stdout",
          "text": [
            "Saving countries.xlsx to countries.xlsx\n"
          ]
        }
      ]
    },
    {
      "cell_type": "markdown",
      "source": [
        "### 11.1.2 Data retrieval(網路資料擷取分析)\n",
        "* yfinance: stock market"
      ],
      "metadata": {
        "id": "Wvkd3EuFiFB7"
      }
    },
    {
      "cell_type": "code",
      "source": [
        "pip install yfinance"
      ],
      "metadata": {
        "colab": {
          "base_uri": "https://localhost:8080/"
        },
        "id": "-Eh5NTAb2mUf",
        "outputId": "e4f997d1-58cc-4e91-8844-330c4897f1e8"
      },
      "execution_count": null,
      "outputs": [
        {
          "output_type": "stream",
          "name": "stdout",
          "text": [
            "Requirement already satisfied: yfinance in /usr/local/lib/python3.11/dist-packages (0.2.61)\n",
            "Requirement already satisfied: pandas>=1.3.0 in /usr/local/lib/python3.11/dist-packages (from yfinance) (2.2.2)\n",
            "Requirement already satisfied: numpy>=1.16.5 in /usr/local/lib/python3.11/dist-packages (from yfinance) (2.0.2)\n",
            "Requirement already satisfied: requests>=2.31 in /usr/local/lib/python3.11/dist-packages (from yfinance) (2.32.3)\n",
            "Requirement already satisfied: multitasking>=0.0.7 in /usr/local/lib/python3.11/dist-packages (from yfinance) (0.0.11)\n",
            "Requirement already satisfied: platformdirs>=2.0.0 in /usr/local/lib/python3.11/dist-packages (from yfinance) (4.3.8)\n",
            "Requirement already satisfied: pytz>=2022.5 in /usr/local/lib/python3.11/dist-packages (from yfinance) (2025.2)\n",
            "Requirement already satisfied: frozendict>=2.3.4 in /usr/local/lib/python3.11/dist-packages (from yfinance) (2.4.6)\n",
            "Requirement already satisfied: peewee>=3.16.2 in /usr/local/lib/python3.11/dist-packages (from yfinance) (3.18.1)\n",
            "Requirement already satisfied: beautifulsoup4>=4.11.1 in /usr/local/lib/python3.11/dist-packages (from yfinance) (4.13.4)\n",
            "Requirement already satisfied: curl_cffi>=0.7 in /usr/local/lib/python3.11/dist-packages (from yfinance) (0.10.0)\n",
            "Requirement already satisfied: protobuf>=3.19.0 in /usr/local/lib/python3.11/dist-packages (from yfinance) (5.29.4)\n",
            "Requirement already satisfied: websockets>=13.0 in /usr/local/lib/python3.11/dist-packages (from yfinance) (15.0.1)\n",
            "Requirement already satisfied: soupsieve>1.2 in /usr/local/lib/python3.11/dist-packages (from beautifulsoup4>=4.11.1->yfinance) (2.7)\n",
            "Requirement already satisfied: typing-extensions>=4.0.0 in /usr/local/lib/python3.11/dist-packages (from beautifulsoup4>=4.11.1->yfinance) (4.13.2)\n",
            "Requirement already satisfied: cffi>=1.12.0 in /usr/local/lib/python3.11/dist-packages (from curl_cffi>=0.7->yfinance) (1.17.1)\n",
            "Requirement already satisfied: certifi>=2024.2.2 in /usr/local/lib/python3.11/dist-packages (from curl_cffi>=0.7->yfinance) (2025.4.26)\n",
            "Requirement already satisfied: python-dateutil>=2.8.2 in /usr/local/lib/python3.11/dist-packages (from pandas>=1.3.0->yfinance) (2.9.0.post0)\n",
            "Requirement already satisfied: tzdata>=2022.7 in /usr/local/lib/python3.11/dist-packages (from pandas>=1.3.0->yfinance) (2025.2)\n",
            "Requirement already satisfied: charset-normalizer<4,>=2 in /usr/local/lib/python3.11/dist-packages (from requests>=2.31->yfinance) (3.4.2)\n",
            "Requirement already satisfied: idna<4,>=2.5 in /usr/local/lib/python3.11/dist-packages (from requests>=2.31->yfinance) (3.10)\n",
            "Requirement already satisfied: urllib3<3,>=1.21.1 in /usr/local/lib/python3.11/dist-packages (from requests>=2.31->yfinance) (2.4.0)\n",
            "Requirement already satisfied: pycparser in /usr/local/lib/python3.11/dist-packages (from cffi>=1.12.0->curl_cffi>=0.7->yfinance) (2.22)\n",
            "Requirement already satisfied: six>=1.5 in /usr/local/lib/python3.11/dist-packages (from python-dateutil>=2.8.2->pandas>=1.3.0->yfinance) (1.17.0)\n"
          ]
        }
      ]
    },
    {
      "cell_type": "code",
      "source": [
        "import yfinance as yf\n",
        "# Taiwan\n",
        "df_2454=yf.Ticker(\"2545.tW\").history(period=\"ytd\",interval=\"1h\")\n",
        "print(df_2454)"
      ],
      "metadata": {
        "colab": {
          "base_uri": "https://localhost:8080/"
        },
        "id": "uFNSDeAH3EB5",
        "outputId": "bccb310d-a0c7-433a-af4c-aa6c62b5344e"
      },
      "execution_count": null,
      "outputs": [
        {
          "output_type": "stream",
          "name": "stdout",
          "text": [
            "                                Open       High        Low      Close  Volume  \\\n",
            "Datetime                                                                        \n",
            "2025-01-02 09:00:00+08:00  64.500000  65.300003  64.099998  64.500000       0   \n",
            "2025-01-02 10:00:00+08:00  64.400002  65.000000  64.300003  64.500000  115227   \n",
            "2025-01-02 11:00:00+08:00  64.500000  64.599998  64.000000  64.000000  147447   \n",
            "2025-01-02 12:00:00+08:00  64.099998  64.199997  63.900002  64.000000   82566   \n",
            "2025-01-02 13:00:00+08:00  63.900002  63.900002  63.599998  63.700001   86167   \n",
            "...                              ...        ...        ...        ...     ...   \n",
            "2025-05-22 09:00:00+08:00  52.700001  53.099998  52.299999  52.500000       0   \n",
            "2025-05-22 10:00:00+08:00  52.500000  52.599998  52.400002  52.400002   36013   \n",
            "2025-05-22 11:00:00+08:00  52.599998  52.799999  52.599998  52.799999   42464   \n",
            "2025-05-22 12:00:00+08:00  52.700001  52.799999  52.599998  52.799999   42212   \n",
            "2025-05-22 13:00:00+08:00  52.799999  52.799999  52.700001  52.700001   19000   \n",
            "\n",
            "                           Dividends  Stock Splits  \n",
            "Datetime                                            \n",
            "2025-01-02 09:00:00+08:00        0.0           0.0  \n",
            "2025-01-02 10:00:00+08:00        0.0           0.0  \n",
            "2025-01-02 11:00:00+08:00        0.0           0.0  \n",
            "2025-01-02 12:00:00+08:00        0.0           0.0  \n",
            "2025-01-02 13:00:00+08:00        0.0           0.0  \n",
            "...                              ...           ...  \n",
            "2025-05-22 09:00:00+08:00        0.0           0.0  \n",
            "2025-05-22 10:00:00+08:00        0.0           0.0  \n",
            "2025-05-22 11:00:00+08:00        0.0           0.0  \n",
            "2025-05-22 12:00:00+08:00        0.0           0.0  \n",
            "2025-05-22 13:00:00+08:00        0.0           0.0  \n",
            "\n",
            "[450 rows x 7 columns]\n"
          ]
        }
      ]
    },
    {
      "cell_type": "code",
      "source": [
        "df_nvda=yf.Ticker(\"NVDA\").history(start=\"2024-01-01\",end=\"2025-01-01\",interval=\"1h\")\n",
        "print(df_nvda.head(40))"
      ],
      "metadata": {
        "colab": {
          "base_uri": "https://localhost:8080/"
        },
        "id": "ZhI--bi96BNE",
        "outputId": "3c1b292b-f8f5-4202-ac05-555d827f2a0d"
      },
      "execution_count": null,
      "outputs": [
        {
          "output_type": "stream",
          "name": "stdout",
          "text": [
            "                                Open       High        Low      Close  \\\n",
            "Datetime                                                                \n",
            "2024-01-02 09:30:00-05:00  49.125000  49.266502  47.595001  47.667000   \n",
            "2024-01-02 10:30:00-05:00  47.670990  48.122002  47.601002  48.116020   \n",
            "2024-01-02 11:30:00-05:00  48.117500  48.263000  48.040001  48.108528   \n",
            "2024-01-02 12:30:00-05:00  48.115948  48.348000  47.879997  48.185997   \n",
            "2024-01-02 13:30:00-05:00  48.179008  48.239998  48.004902  48.188000   \n",
            "2024-01-02 14:30:00-05:00  48.180000  48.234600  47.820011  47.883999   \n",
            "2024-01-02 15:30:00-05:00  47.885998  48.208000  47.777000  48.185001   \n",
            "2024-01-03 09:30:00-05:00  47.450001  48.184101  47.320000  47.494488   \n",
            "2024-01-03 10:30:00-05:00  47.490501  47.926003  47.348000  47.751503   \n",
            "2024-01-03 11:30:00-05:00  47.750401  47.836990  47.653999  47.773991   \n",
            "2024-01-03 12:30:00-05:00  47.767998  47.879002  47.579998  47.624329   \n",
            "2024-01-03 13:30:00-05:00  47.629997  47.730000  47.445000  47.693001   \n",
            "2024-01-03 14:30:00-05:00  47.695000  47.810001  47.539001  47.652000   \n",
            "2024-01-03 15:30:00-05:00  47.648960  47.747002  47.450001  47.570000   \n",
            "2024-01-04 09:30:00-05:00  47.767002  48.064003  47.507999  47.954998   \n",
            "2024-01-04 10:30:00-05:00  47.947029  48.401001  47.945000  48.305660   \n",
            "2024-01-04 11:30:00-05:00  48.303009  48.500000  48.215000  48.269001   \n",
            "2024-01-04 12:30:00-05:00  48.268837  48.289001  48.053001  48.279999   \n",
            "2024-01-04 13:30:00-05:00  48.280998  48.392002  48.123001  48.144001   \n",
            "2024-01-04 14:30:00-05:00  48.144001  48.355000  48.089001  48.195869   \n",
            "2024-01-04 15:30:00-05:00  48.189999  48.260002  47.980000  47.993999   \n",
            "2024-01-05 09:30:00-05:00  48.461998  48.964870  48.306007  48.952000   \n",
            "2024-01-05 10:30:00-05:00  48.951000  49.547001  48.907997  49.387501   \n",
            "2024-01-05 11:30:00-05:00  49.389999  49.438000  48.987999  49.041252   \n",
            "2024-01-05 12:30:00-05:00  49.037010  49.245003  48.970009  49.155998   \n",
            "2024-01-05 13:30:00-05:00  49.151321  49.349998  49.145000  49.209938   \n",
            "2024-01-05 14:30:00-05:00  49.202999  49.261990  48.783020  48.868500   \n",
            "2024-01-05 15:30:00-05:00  48.862000  49.103001  48.805000  49.090000   \n",
            "2024-01-08 09:30:00-05:00  49.512001  51.515003  49.479000  51.326000   \n",
            "2024-01-08 10:30:00-05:00  51.327003  51.572998  51.062000  51.282001   \n",
            "2024-01-08 11:30:00-05:00  51.286858  51.546997  51.157001  51.186260   \n",
            "2024-01-08 12:30:00-05:00  51.187000  51.532001  51.103001  51.512001   \n",
            "2024-01-08 13:30:00-05:00  51.513000  51.799999  51.430000  51.740002   \n",
            "2024-01-08 14:30:00-05:00  51.743389  51.897999  51.606468  51.870350   \n",
            "2024-01-08 15:30:00-05:00  51.868999  52.275002  51.815998  52.254997   \n",
            "2024-01-09 09:30:00-05:00  52.401001  52.619896  51.690002  52.473633   \n",
            "2024-01-09 10:30:00-05:00  52.478996  52.901001  52.079998  52.859997   \n",
            "2024-01-09 11:30:00-05:00  52.852409  53.578999  52.770630  53.421581   \n",
            "2024-01-09 12:30:00-05:00  53.437000  54.071999  53.370003  53.870800   \n",
            "2024-01-09 13:30:00-05:00  53.866997  54.325001  53.730000  53.974998   \n",
            "\n",
            "                             Volume  Dividends  Stock Splits  \n",
            "Datetime                                                      \n",
            "2024-01-02 09:30:00-05:00  14594455        0.0           0.0  \n",
            "2024-01-02 10:30:00-05:00   5739769        0.0           0.0  \n",
            "2024-01-02 11:30:00-05:00   4327283        0.0           0.0  \n",
            "2024-01-02 12:30:00-05:00   4118649        0.0           0.0  \n",
            "2024-01-02 13:30:00-05:00   2905160        0.0           0.0  \n",
            "2024-01-02 14:30:00-05:00   3329151        0.0           0.0  \n",
            "2024-01-02 15:30:00-05:00   3450485        0.0           0.0  \n",
            "2024-01-03 09:30:00-05:00  10998649        0.0           0.0  \n",
            "2024-01-03 10:30:00-05:00   4999551        0.0           0.0  \n",
            "2024-01-03 11:30:00-05:00   2389099        0.0           0.0  \n",
            "2024-01-03 12:30:00-05:00   2458234        0.0           0.0  \n",
            "2024-01-03 13:30:00-05:00   3068400        0.0           0.0  \n",
            "2024-01-03 14:30:00-05:00   2466427        0.0           0.0  \n",
            "2024-01-03 15:30:00-05:00   2855411        0.0           0.0  \n",
            "2024-01-04 09:30:00-05:00   8061891        0.0           0.0  \n",
            "2024-01-04 10:30:00-05:00   5778816        0.0           0.0  \n",
            "2024-01-04 11:30:00-05:00   4061918        0.0           0.0  \n",
            "2024-01-04 12:30:00-05:00   2479489        0.0           0.0  \n",
            "2024-01-04 13:30:00-05:00   2472828        0.0           0.0  \n",
            "2024-01-04 14:30:00-05:00   2671030        0.0           0.0  \n",
            "2024-01-04 15:30:00-05:00   2878447        0.0           0.0  \n",
            "2024-01-05 09:30:00-05:00  10170620        0.0           0.0  \n",
            "2024-01-05 10:30:00-05:00   8336264        0.0           0.0  \n",
            "2024-01-05 11:30:00-05:00   5043687        0.0           0.0  \n",
            "2024-01-05 12:30:00-05:00   4164076        0.0           0.0  \n",
            "2024-01-05 13:30:00-05:00   3000157        0.0           0.0  \n",
            "2024-01-05 14:30:00-05:00   4554575        0.0           0.0  \n",
            "2024-01-05 15:30:00-05:00   3473997        0.0           0.0  \n",
            "2024-01-08 09:30:00-05:00  22741308        0.0           0.0  \n",
            "2024-01-08 10:30:00-05:00   8335157        0.0           0.0  \n",
            "2024-01-08 11:30:00-05:00   6400994        0.0           0.0  \n",
            "2024-01-08 12:30:00-05:00   4393512        0.0           0.0  \n",
            "2024-01-08 13:30:00-05:00   5907820        0.0           0.0  \n",
            "2024-01-08 14:30:00-05:00   6023125        0.0           0.0  \n",
            "2024-01-08 15:30:00-05:00   5924981        0.0           0.0  \n",
            "2024-01-09 09:30:00-05:00  19204795        0.0           0.0  \n",
            "2024-01-09 10:30:00-05:00   9961725        0.0           0.0  \n",
            "2024-01-09 11:30:00-05:00  10634586        0.0           0.0  \n",
            "2024-01-09 12:30:00-05:00   9841087        0.0           0.0  \n",
            "2024-01-09 13:30:00-05:00   8988418        0.0           0.0  \n"
          ]
        }
      ]
    },
    {
      "cell_type": "code",
      "source": [
        "df_2545=yf.Ticker(\"2330.tW\").history(start=\"2025-05-01\",end=\"2025-05-23\",interval=\"1h\")\n",
        "print(df_2330)"
      ],
      "metadata": {
        "id": "Guau0aSU5aLl"
      },
      "execution_count": null,
      "outputs": []
    },
    {
      "cell_type": "code",
      "source": [
        "import pandas as pd\n",
        "df1=pd.read_html(\"https://rate.bot.com.tw/xrt?Lang=zh-TW\")[0]\n",
        "df2=df1[[df1.columns[0],df1.columns[1],df1.columns[2]]]\n",
        "print(df2)"
      ],
      "metadata": {
        "colab": {
          "base_uri": "https://localhost:8080/"
        },
        "id": "lMH-e05v9tWH",
        "outputId": "058db383-30a6-4534-a93e-ea3b7ddb4331"
      },
      "execution_count": null,
      "outputs": [
        {
          "output_type": "stream",
          "name": "stdout",
          "text": [
            "                        幣別                        現金匯率\n",
            "                        幣別 Unnamed: 1_level_1     本行買入\n",
            "0       美金 (USD)  美金 (USD)             29.625   30.295\n",
            "1       港幣 (HKD)  港幣 (HKD)               3.68    3.884\n",
            "2       英鎊 (GBP)  英鎊 (GBP)              39.12    41.24\n",
            "3       澳幣 (AUD)  澳幣 (AUD)              18.97    19.75\n",
            "4   加拿大幣 (CAD)  加拿大幣 (CAD)              21.17    22.08\n",
            "5   新加坡幣 (SGD)  新加坡幣 (SGD)              22.71    23.62\n",
            "6   瑞士法郎 (CHF)  瑞士法郎 (CHF)              35.59    36.79\n",
            "7       日圓 (JPY)  日圓 (JPY)             0.2006   0.2134\n",
            "8     南非幣 (ZAR)  南非幣 (ZAR)                  -        -\n",
            "9     瑞典幣 (SEK)  瑞典幣 (SEK)                  -        -\n",
            "10      紐元 (NZD)  紐元 (NZD)              17.33    18.18\n",
            "11      泰幣 (THB)  泰幣 (THB)             0.7885   0.9785\n",
            "12  菲國比索 (PHP)  菲國比索 (PHP)             0.4738   0.6058\n",
            "13    印尼幣 (IDR)  印尼幣 (IDR)            0.00153  0.00223\n",
            "14      歐元 (EUR)  歐元 (EUR)              33.17    34.51\n",
            "15      韓元 (KRW)  韓元 (KRW)            0.02003  0.02393\n",
            "16    越南盾 (VND)  越南盾 (VND)            0.00093  0.00134\n",
            "17    馬來幣 (MYR)  馬來幣 (MYR)              6.023    7.548\n",
            "18    人民幣 (CNY)  人民幣 (CNY)               4.07    4.232\n"
          ]
        }
      ]
    },
    {
      "cell_type": "code",
      "source": [
        "# 1. modify column_name\n",
        "df2.columns=[\"幣別\",\"現金匯率買入\",\"現金匯率賣出\"]\n",
        "#print(df2)\n",
        "# 2.delete 2 rows\n",
        "df3=df2.drop([8,9],axis=0)\n",
        "#print(df3)\n",
        "# 3. 處理第一個欄位只留下幣別\n",
        "#print(df3.iat[0,0])  #取出一個cell\n",
        "#tmp_list=df3.iat[0,0].split()\n",
        "print(tmp_list[0])\n",
        "for i in range(df3.shape[0]):\n",
        "  tmp_list=df3.iat[i,0].split()\n",
        "  df3.iat[i,0]=tmp_list[0]\n",
        "print(df3)"
      ],
      "metadata": {
        "colab": {
          "base_uri": "https://localhost:8080/"
        },
        "id": "xUrLdIhBHugs",
        "outputId": "7a9fa781-803b-4399-e397-df36d2ab7d44"
      },
      "execution_count": null,
      "outputs": [
        {
          "output_type": "stream",
          "name": "stdout",
          "text": [
            "美金 (USD)  美金 (USD)\n",
            "美金\n",
            "      幣別   現金匯率買入   現金匯率賣出\n",
            "0     美金   29.625   30.295\n",
            "1     港幣     3.68    3.884\n",
            "2     英鎊    39.12    41.24\n",
            "3     澳幣    18.97    19.75\n",
            "4   加拿大幣    21.17    22.08\n",
            "5   新加坡幣    22.71    23.62\n",
            "6   瑞士法郎    35.59    36.79\n",
            "7     日圓   0.2006   0.2134\n",
            "10    紐元    17.33    18.18\n",
            "11    泰幣   0.7885   0.9785\n",
            "12  菲國比索   0.4738   0.6058\n",
            "13   印尼幣  0.00153  0.00223\n",
            "14    歐元    33.17    34.51\n",
            "15    韓元  0.02003  0.02393\n",
            "16   越南盾  0.00093  0.00134\n",
            "17   馬來幣    6.023    7.548\n",
            "18   人民幣     4.07    4.232\n"
          ]
        }
      ]
    },
    {
      "cell_type": "code",
      "source": [
        "df3.to_csv(\"df3.csv\",encoding=\"big5\")"
      ],
      "metadata": {
        "id": "hsfprPSVLj1w"
      },
      "execution_count": null,
      "outputs": []
    },
    {
      "cell_type": "code",
      "source": [
        "import yfinance as yf\n",
        "# Taiwan\n",
        "df_2330=yf.Ticker(\"2330.tw\").history(period=\"5d\",interval=\"1h\")\n",
        "#print(df_2330)\n",
        "df_nvda=yf.Ticker(\"NVDA\").history(period=\"ytd\")\n",
        "print(df_nvda)"
      ],
      "metadata": {
        "colab": {
          "base_uri": "https://localhost:8080/"
        },
        "id": "LPRHe7L3U6pq",
        "outputId": "354bcc18-6266-446c-e7d1-7bd9fa08ea66"
      },
      "execution_count": null,
      "outputs": [
        {
          "output_type": "stream",
          "name": "stdout",
          "text": [
            "                                 Open        High         Low       Close  \\\n",
            "Date                                                                        \n",
            "2024-01-02 00:00:00-05:00   49.230042   49.281026   47.581511   48.154346   \n",
            "2024-01-03 00:00:00-05:00   47.471539   48.170339   47.306585   47.555515   \n",
            "2024-01-04 00:00:00-05:00   47.753461   48.486255   47.494535   47.984398   \n",
            "2024-01-05 00:00:00-05:00   48.448262   49.532953   48.292304   49.083080   \n",
            "2024-01-08 00:00:00-05:00   49.497966   52.260183   49.464974   52.238186   \n",
            "...                               ...         ...         ...         ...   \n",
            "2024-12-02 00:00:00-05:00  138.820436  140.440320  137.810511  138.620453   \n",
            "2024-12-03 00:00:00-05:00  138.250473  140.530315  137.940497  140.250336   \n",
            "2024-12-04 00:00:00-05:00  141.990222  145.779954  140.280333  145.130005   \n",
            "2024-12-05 00:00:00-05:00  145.110001  146.539993  143.949997  145.059998   \n",
            "2024-12-06 00:00:00-05:00  144.600006  145.699997  141.309998  142.440002   \n",
            "\n",
            "                              Volume  Dividends  Stock Splits  \n",
            "Date                                                           \n",
            "2024-01-02 00:00:00-05:00  411254000       0.00           0.0  \n",
            "2024-01-03 00:00:00-05:00  320896000       0.00           0.0  \n",
            "2024-01-04 00:00:00-05:00  306535000       0.00           0.0  \n",
            "2024-01-05 00:00:00-05:00  415039000       0.00           0.0  \n",
            "2024-01-08 00:00:00-05:00  642510000       0.00           0.0  \n",
            "...                              ...        ...           ...  \n",
            "2024-12-02 00:00:00-05:00  171682800       0.00           0.0  \n",
            "2024-12-03 00:00:00-05:00  164414000       0.00           0.0  \n",
            "2024-12-04 00:00:00-05:00  231224300       0.00           0.0  \n",
            "2024-12-05 00:00:00-05:00  172621200       0.01           0.0  \n",
            "2024-12-06 00:00:00-05:00  187969300       0.00           0.0  \n",
            "\n",
            "[236 rows x 7 columns]\n"
          ]
        }
      ]
    },
    {
      "cell_type": "code",
      "source": [
        "df_2corp=yf.download(\"tsla msft\",period=\"3mo\",interval=\"1wk\")\n",
        "display(df_2corp)"
      ],
      "metadata": {
        "colab": {
          "base_uri": "https://localhost:8080/",
          "height": 831
        },
        "id": "Iip8_ONkY8-T",
        "outputId": "e70d24a7-e4cc-467a-fc9f-daa3fa94d4db"
      },
      "execution_count": null,
      "outputs": [
        {
          "output_type": "stream",
          "name": "stderr",
          "text": [
            "[*********************100%***********************]  2 of 2 completed\n"
          ]
        },
        {
          "output_type": "display_data",
          "data": {
            "text/plain": [
              "Price        Adj Close                   Close                    High  \\\n",
              "Ticker            MSFT        TSLA        MSFT        TSLA        MSFT   \n",
              "Date                                                                     \n",
              "2024-09-02  400.897552  210.729996  401.700012  210.729996  410.649994   \n",
              "2024-09-09  429.729828  230.289993  430.589996  230.289993  431.829987   \n",
              "2024-09-16  434.400482  238.250000  435.269989  238.250000  441.850006   \n",
              "2024-09-23  427.164948  260.459991  428.019989  260.459991  436.459991   \n",
              "2024-09-30  415.228851  250.080002  416.059998  250.080002  430.420013   \n",
              "2024-10-07  415.488342  217.800003  416.320007  217.800003  420.380005   \n",
              "2024-10-14  417.324677  220.699997  418.160004  220.699997  424.040009   \n",
              "2024-10-21  427.294708  269.190002  428.149994  269.190002  432.519989   \n",
              "2024-10-28  409.550232  248.979996  410.369995  248.979996  438.500000   \n",
              "2024-11-04  421.695923  321.220001  422.540009  321.220001  426.850006   \n",
              "2024-11-11  414.170990  320.720001  415.000000  320.720001  429.329987   \n",
              "2024-11-18  416.166992  352.559998  417.000000  352.559998  419.779999   \n",
              "2024-11-25  423.459991  345.160004  423.459991  345.160004  429.040009   \n",
              "2024-12-02  443.570007  389.220001  443.570007  389.220001  446.100006   \n",
              "\n",
              "Price                          Low                    Open              \\\n",
              "Ticker            TSLA        MSFT        TSLA        MSFT        TSLA   \n",
              "Date                                                                     \n",
              "2024-09-02  233.600006  400.799988  210.509995  409.059998  232.600006   \n",
              "2024-09-09  232.669998  402.149994  213.669998  407.239990  216.199997   \n",
              "2024-09-16  244.240005  428.220001  223.529999  430.600006  229.300003   \n",
              "2024-09-23  261.750000  426.100006  241.919998  434.279999  242.610001   \n",
              "2024-09-30  264.859985  414.290009  237.809998  428.209991  259.040009   \n",
              "2024-10-07  249.830002  408.170013  214.380005  416.000000  249.000000   \n",
              "2024-10-14  224.259995  410.480011  213.740005  417.769989  220.130005   \n",
              "2024-10-21  269.489990  413.750000  212.110001  416.119995  218.899994   \n",
              "2024-10-28  273.540009  406.299988  246.630005  431.660004  270.000000   \n",
              "2024-11-04  328.709991  405.570007  238.880005  409.799988  244.559998   \n",
              "2024-11-11  358.640015  413.640015  309.220001  422.519989  346.299988   \n",
              "2024-11-18  361.529999  410.290009  330.010010  414.869995  340.730011   \n",
              "2024-11-25  361.929993  414.850006  326.589996  418.380005  360.140015   \n",
              "2024-12-02  389.489990  421.309998  348.200012  421.570007  352.380005   \n",
              "\n",
              "Price          Volume             \n",
              "Ticker           MSFT       TSLA  \n",
              "Date                              \n",
              "2024-09-02   19609500  112177000  \n",
              "2024-09-09   87449700  361418300  \n",
              "2024-09-16  128480600  401668500  \n",
              "2024-09-23   74929200  378582800  \n",
              "2024-09-30   85338600  429389600  \n",
              "2024-10-07   83116700  416422000  \n",
              "2024-10-14   83027500  299317200  \n",
              "2024-10-21   89823400  537640400  \n",
              "2024-10-28  140477000  366289100  \n",
              "2024-11-04  100773300  625405600  \n",
              "2024-11-11  123901200  726819600  \n",
              "2024-11-18  107662000  428893100  \n",
              "2024-11-25   85754300  253250800  \n",
              "2024-12-02  123851802  430472334  "
            ],
            "text/html": [
              "\n",
              "  <div id=\"df-c385d138-a1f9-46a7-9420-17297eb9f2dc\" class=\"colab-df-container\">\n",
              "    <div>\n",
              "<style scoped>\n",
              "    .dataframe tbody tr th:only-of-type {\n",
              "        vertical-align: middle;\n",
              "    }\n",
              "\n",
              "    .dataframe tbody tr th {\n",
              "        vertical-align: top;\n",
              "    }\n",
              "\n",
              "    .dataframe thead tr th {\n",
              "        text-align: left;\n",
              "    }\n",
              "\n",
              "    .dataframe thead tr:last-of-type th {\n",
              "        text-align: right;\n",
              "    }\n",
              "</style>\n",
              "<table border=\"1\" class=\"dataframe\">\n",
              "  <thead>\n",
              "    <tr>\n",
              "      <th>Price</th>\n",
              "      <th colspan=\"2\" halign=\"left\">Adj Close</th>\n",
              "      <th colspan=\"2\" halign=\"left\">Close</th>\n",
              "      <th colspan=\"2\" halign=\"left\">High</th>\n",
              "      <th colspan=\"2\" halign=\"left\">Low</th>\n",
              "      <th colspan=\"2\" halign=\"left\">Open</th>\n",
              "      <th colspan=\"2\" halign=\"left\">Volume</th>\n",
              "    </tr>\n",
              "    <tr>\n",
              "      <th>Ticker</th>\n",
              "      <th>MSFT</th>\n",
              "      <th>TSLA</th>\n",
              "      <th>MSFT</th>\n",
              "      <th>TSLA</th>\n",
              "      <th>MSFT</th>\n",
              "      <th>TSLA</th>\n",
              "      <th>MSFT</th>\n",
              "      <th>TSLA</th>\n",
              "      <th>MSFT</th>\n",
              "      <th>TSLA</th>\n",
              "      <th>MSFT</th>\n",
              "      <th>TSLA</th>\n",
              "    </tr>\n",
              "    <tr>\n",
              "      <th>Date</th>\n",
              "      <th></th>\n",
              "      <th></th>\n",
              "      <th></th>\n",
              "      <th></th>\n",
              "      <th></th>\n",
              "      <th></th>\n",
              "      <th></th>\n",
              "      <th></th>\n",
              "      <th></th>\n",
              "      <th></th>\n",
              "      <th></th>\n",
              "      <th></th>\n",
              "    </tr>\n",
              "  </thead>\n",
              "  <tbody>\n",
              "    <tr>\n",
              "      <th>2024-09-02</th>\n",
              "      <td>400.897552</td>\n",
              "      <td>210.729996</td>\n",
              "      <td>401.700012</td>\n",
              "      <td>210.729996</td>\n",
              "      <td>410.649994</td>\n",
              "      <td>233.600006</td>\n",
              "      <td>400.799988</td>\n",
              "      <td>210.509995</td>\n",
              "      <td>409.059998</td>\n",
              "      <td>232.600006</td>\n",
              "      <td>19609500</td>\n",
              "      <td>112177000</td>\n",
              "    </tr>\n",
              "    <tr>\n",
              "      <th>2024-09-09</th>\n",
              "      <td>429.729828</td>\n",
              "      <td>230.289993</td>\n",
              "      <td>430.589996</td>\n",
              "      <td>230.289993</td>\n",
              "      <td>431.829987</td>\n",
              "      <td>232.669998</td>\n",
              "      <td>402.149994</td>\n",
              "      <td>213.669998</td>\n",
              "      <td>407.239990</td>\n",
              "      <td>216.199997</td>\n",
              "      <td>87449700</td>\n",
              "      <td>361418300</td>\n",
              "    </tr>\n",
              "    <tr>\n",
              "      <th>2024-09-16</th>\n",
              "      <td>434.400482</td>\n",
              "      <td>238.250000</td>\n",
              "      <td>435.269989</td>\n",
              "      <td>238.250000</td>\n",
              "      <td>441.850006</td>\n",
              "      <td>244.240005</td>\n",
              "      <td>428.220001</td>\n",
              "      <td>223.529999</td>\n",
              "      <td>430.600006</td>\n",
              "      <td>229.300003</td>\n",
              "      <td>128480600</td>\n",
              "      <td>401668500</td>\n",
              "    </tr>\n",
              "    <tr>\n",
              "      <th>2024-09-23</th>\n",
              "      <td>427.164948</td>\n",
              "      <td>260.459991</td>\n",
              "      <td>428.019989</td>\n",
              "      <td>260.459991</td>\n",
              "      <td>436.459991</td>\n",
              "      <td>261.750000</td>\n",
              "      <td>426.100006</td>\n",
              "      <td>241.919998</td>\n",
              "      <td>434.279999</td>\n",
              "      <td>242.610001</td>\n",
              "      <td>74929200</td>\n",
              "      <td>378582800</td>\n",
              "    </tr>\n",
              "    <tr>\n",
              "      <th>2024-09-30</th>\n",
              "      <td>415.228851</td>\n",
              "      <td>250.080002</td>\n",
              "      <td>416.059998</td>\n",
              "      <td>250.080002</td>\n",
              "      <td>430.420013</td>\n",
              "      <td>264.859985</td>\n",
              "      <td>414.290009</td>\n",
              "      <td>237.809998</td>\n",
              "      <td>428.209991</td>\n",
              "      <td>259.040009</td>\n",
              "      <td>85338600</td>\n",
              "      <td>429389600</td>\n",
              "    </tr>\n",
              "    <tr>\n",
              "      <th>2024-10-07</th>\n",
              "      <td>415.488342</td>\n",
              "      <td>217.800003</td>\n",
              "      <td>416.320007</td>\n",
              "      <td>217.800003</td>\n",
              "      <td>420.380005</td>\n",
              "      <td>249.830002</td>\n",
              "      <td>408.170013</td>\n",
              "      <td>214.380005</td>\n",
              "      <td>416.000000</td>\n",
              "      <td>249.000000</td>\n",
              "      <td>83116700</td>\n",
              "      <td>416422000</td>\n",
              "    </tr>\n",
              "    <tr>\n",
              "      <th>2024-10-14</th>\n",
              "      <td>417.324677</td>\n",
              "      <td>220.699997</td>\n",
              "      <td>418.160004</td>\n",
              "      <td>220.699997</td>\n",
              "      <td>424.040009</td>\n",
              "      <td>224.259995</td>\n",
              "      <td>410.480011</td>\n",
              "      <td>213.740005</td>\n",
              "      <td>417.769989</td>\n",
              "      <td>220.130005</td>\n",
              "      <td>83027500</td>\n",
              "      <td>299317200</td>\n",
              "    </tr>\n",
              "    <tr>\n",
              "      <th>2024-10-21</th>\n",
              "      <td>427.294708</td>\n",
              "      <td>269.190002</td>\n",
              "      <td>428.149994</td>\n",
              "      <td>269.190002</td>\n",
              "      <td>432.519989</td>\n",
              "      <td>269.489990</td>\n",
              "      <td>413.750000</td>\n",
              "      <td>212.110001</td>\n",
              "      <td>416.119995</td>\n",
              "      <td>218.899994</td>\n",
              "      <td>89823400</td>\n",
              "      <td>537640400</td>\n",
              "    </tr>\n",
              "    <tr>\n",
              "      <th>2024-10-28</th>\n",
              "      <td>409.550232</td>\n",
              "      <td>248.979996</td>\n",
              "      <td>410.369995</td>\n",
              "      <td>248.979996</td>\n",
              "      <td>438.500000</td>\n",
              "      <td>273.540009</td>\n",
              "      <td>406.299988</td>\n",
              "      <td>246.630005</td>\n",
              "      <td>431.660004</td>\n",
              "      <td>270.000000</td>\n",
              "      <td>140477000</td>\n",
              "      <td>366289100</td>\n",
              "    </tr>\n",
              "    <tr>\n",
              "      <th>2024-11-04</th>\n",
              "      <td>421.695923</td>\n",
              "      <td>321.220001</td>\n",
              "      <td>422.540009</td>\n",
              "      <td>321.220001</td>\n",
              "      <td>426.850006</td>\n",
              "      <td>328.709991</td>\n",
              "      <td>405.570007</td>\n",
              "      <td>238.880005</td>\n",
              "      <td>409.799988</td>\n",
              "      <td>244.559998</td>\n",
              "      <td>100773300</td>\n",
              "      <td>625405600</td>\n",
              "    </tr>\n",
              "    <tr>\n",
              "      <th>2024-11-11</th>\n",
              "      <td>414.170990</td>\n",
              "      <td>320.720001</td>\n",
              "      <td>415.000000</td>\n",
              "      <td>320.720001</td>\n",
              "      <td>429.329987</td>\n",
              "      <td>358.640015</td>\n",
              "      <td>413.640015</td>\n",
              "      <td>309.220001</td>\n",
              "      <td>422.519989</td>\n",
              "      <td>346.299988</td>\n",
              "      <td>123901200</td>\n",
              "      <td>726819600</td>\n",
              "    </tr>\n",
              "    <tr>\n",
              "      <th>2024-11-18</th>\n",
              "      <td>416.166992</td>\n",
              "      <td>352.559998</td>\n",
              "      <td>417.000000</td>\n",
              "      <td>352.559998</td>\n",
              "      <td>419.779999</td>\n",
              "      <td>361.529999</td>\n",
              "      <td>410.290009</td>\n",
              "      <td>330.010010</td>\n",
              "      <td>414.869995</td>\n",
              "      <td>340.730011</td>\n",
              "      <td>107662000</td>\n",
              "      <td>428893100</td>\n",
              "    </tr>\n",
              "    <tr>\n",
              "      <th>2024-11-25</th>\n",
              "      <td>423.459991</td>\n",
              "      <td>345.160004</td>\n",
              "      <td>423.459991</td>\n",
              "      <td>345.160004</td>\n",
              "      <td>429.040009</td>\n",
              "      <td>361.929993</td>\n",
              "      <td>414.850006</td>\n",
              "      <td>326.589996</td>\n",
              "      <td>418.380005</td>\n",
              "      <td>360.140015</td>\n",
              "      <td>85754300</td>\n",
              "      <td>253250800</td>\n",
              "    </tr>\n",
              "    <tr>\n",
              "      <th>2024-12-02</th>\n",
              "      <td>443.570007</td>\n",
              "      <td>389.220001</td>\n",
              "      <td>443.570007</td>\n",
              "      <td>389.220001</td>\n",
              "      <td>446.100006</td>\n",
              "      <td>389.489990</td>\n",
              "      <td>421.309998</td>\n",
              "      <td>348.200012</td>\n",
              "      <td>421.570007</td>\n",
              "      <td>352.380005</td>\n",
              "      <td>123851802</td>\n",
              "      <td>430472334</td>\n",
              "    </tr>\n",
              "  </tbody>\n",
              "</table>\n",
              "</div>\n",
              "    <div class=\"colab-df-buttons\">\n",
              "\n",
              "  <div class=\"colab-df-container\">\n",
              "    <button class=\"colab-df-convert\" onclick=\"convertToInteractive('df-c385d138-a1f9-46a7-9420-17297eb9f2dc')\"\n",
              "            title=\"Convert this dataframe to an interactive table.\"\n",
              "            style=\"display:none;\">\n",
              "\n",
              "  <svg xmlns=\"http://www.w3.org/2000/svg\" height=\"24px\" viewBox=\"0 -960 960 960\">\n",
              "    <path d=\"M120-120v-720h720v720H120Zm60-500h600v-160H180v160Zm220 220h160v-160H400v160Zm0 220h160v-160H400v160ZM180-400h160v-160H180v160Zm440 0h160v-160H620v160ZM180-180h160v-160H180v160Zm440 0h160v-160H620v160Z\"/>\n",
              "  </svg>\n",
              "    </button>\n",
              "\n",
              "  <style>\n",
              "    .colab-df-container {\n",
              "      display:flex;\n",
              "      gap: 12px;\n",
              "    }\n",
              "\n",
              "    .colab-df-convert {\n",
              "      background-color: #E8F0FE;\n",
              "      border: none;\n",
              "      border-radius: 50%;\n",
              "      cursor: pointer;\n",
              "      display: none;\n",
              "      fill: #1967D2;\n",
              "      height: 32px;\n",
              "      padding: 0 0 0 0;\n",
              "      width: 32px;\n",
              "    }\n",
              "\n",
              "    .colab-df-convert:hover {\n",
              "      background-color: #E2EBFA;\n",
              "      box-shadow: 0px 1px 2px rgba(60, 64, 67, 0.3), 0px 1px 3px 1px rgba(60, 64, 67, 0.15);\n",
              "      fill: #174EA6;\n",
              "    }\n",
              "\n",
              "    .colab-df-buttons div {\n",
              "      margin-bottom: 4px;\n",
              "    }\n",
              "\n",
              "    [theme=dark] .colab-df-convert {\n",
              "      background-color: #3B4455;\n",
              "      fill: #D2E3FC;\n",
              "    }\n",
              "\n",
              "    [theme=dark] .colab-df-convert:hover {\n",
              "      background-color: #434B5C;\n",
              "      box-shadow: 0px 1px 3px 1px rgba(0, 0, 0, 0.15);\n",
              "      filter: drop-shadow(0px 1px 2px rgba(0, 0, 0, 0.3));\n",
              "      fill: #FFFFFF;\n",
              "    }\n",
              "  </style>\n",
              "\n",
              "    <script>\n",
              "      const buttonEl =\n",
              "        document.querySelector('#df-c385d138-a1f9-46a7-9420-17297eb9f2dc button.colab-df-convert');\n",
              "      buttonEl.style.display =\n",
              "        google.colab.kernel.accessAllowed ? 'block' : 'none';\n",
              "\n",
              "      async function convertToInteractive(key) {\n",
              "        const element = document.querySelector('#df-c385d138-a1f9-46a7-9420-17297eb9f2dc');\n",
              "        const dataTable =\n",
              "          await google.colab.kernel.invokeFunction('convertToInteractive',\n",
              "                                                    [key], {});\n",
              "        if (!dataTable) return;\n",
              "\n",
              "        const docLinkHtml = 'Like what you see? Visit the ' +\n",
              "          '<a target=\"_blank\" href=https://colab.research.google.com/notebooks/data_table.ipynb>data table notebook</a>'\n",
              "          + ' to learn more about interactive tables.';\n",
              "        element.innerHTML = '';\n",
              "        dataTable['output_type'] = 'display_data';\n",
              "        await google.colab.output.renderOutput(dataTable, element);\n",
              "        const docLink = document.createElement('div');\n",
              "        docLink.innerHTML = docLinkHtml;\n",
              "        element.appendChild(docLink);\n",
              "      }\n",
              "    </script>\n",
              "  </div>\n",
              "\n",
              "\n",
              "<div id=\"df-d3284d9c-d533-4d7c-bd13-ff0be5364274\">\n",
              "  <button class=\"colab-df-quickchart\" onclick=\"quickchart('df-d3284d9c-d533-4d7c-bd13-ff0be5364274')\"\n",
              "            title=\"Suggest charts\"\n",
              "            style=\"display:none;\">\n",
              "\n",
              "<svg xmlns=\"http://www.w3.org/2000/svg\" height=\"24px\"viewBox=\"0 0 24 24\"\n",
              "     width=\"24px\">\n",
              "    <g>\n",
              "        <path d=\"M19 3H5c-1.1 0-2 .9-2 2v14c0 1.1.9 2 2 2h14c1.1 0 2-.9 2-2V5c0-1.1-.9-2-2-2zM9 17H7v-7h2v7zm4 0h-2V7h2v10zm4 0h-2v-4h2v4z\"/>\n",
              "    </g>\n",
              "</svg>\n",
              "  </button>\n",
              "\n",
              "<style>\n",
              "  .colab-df-quickchart {\n",
              "      --bg-color: #E8F0FE;\n",
              "      --fill-color: #1967D2;\n",
              "      --hover-bg-color: #E2EBFA;\n",
              "      --hover-fill-color: #174EA6;\n",
              "      --disabled-fill-color: #AAA;\n",
              "      --disabled-bg-color: #DDD;\n",
              "  }\n",
              "\n",
              "  [theme=dark] .colab-df-quickchart {\n",
              "      --bg-color: #3B4455;\n",
              "      --fill-color: #D2E3FC;\n",
              "      --hover-bg-color: #434B5C;\n",
              "      --hover-fill-color: #FFFFFF;\n",
              "      --disabled-bg-color: #3B4455;\n",
              "      --disabled-fill-color: #666;\n",
              "  }\n",
              "\n",
              "  .colab-df-quickchart {\n",
              "    background-color: var(--bg-color);\n",
              "    border: none;\n",
              "    border-radius: 50%;\n",
              "    cursor: pointer;\n",
              "    display: none;\n",
              "    fill: var(--fill-color);\n",
              "    height: 32px;\n",
              "    padding: 0;\n",
              "    width: 32px;\n",
              "  }\n",
              "\n",
              "  .colab-df-quickchart:hover {\n",
              "    background-color: var(--hover-bg-color);\n",
              "    box-shadow: 0 1px 2px rgba(60, 64, 67, 0.3), 0 1px 3px 1px rgba(60, 64, 67, 0.15);\n",
              "    fill: var(--button-hover-fill-color);\n",
              "  }\n",
              "\n",
              "  .colab-df-quickchart-complete:disabled,\n",
              "  .colab-df-quickchart-complete:disabled:hover {\n",
              "    background-color: var(--disabled-bg-color);\n",
              "    fill: var(--disabled-fill-color);\n",
              "    box-shadow: none;\n",
              "  }\n",
              "\n",
              "  .colab-df-spinner {\n",
              "    border: 2px solid var(--fill-color);\n",
              "    border-color: transparent;\n",
              "    border-bottom-color: var(--fill-color);\n",
              "    animation:\n",
              "      spin 1s steps(1) infinite;\n",
              "  }\n",
              "\n",
              "  @keyframes spin {\n",
              "    0% {\n",
              "      border-color: transparent;\n",
              "      border-bottom-color: var(--fill-color);\n",
              "      border-left-color: var(--fill-color);\n",
              "    }\n",
              "    20% {\n",
              "      border-color: transparent;\n",
              "      border-left-color: var(--fill-color);\n",
              "      border-top-color: var(--fill-color);\n",
              "    }\n",
              "    30% {\n",
              "      border-color: transparent;\n",
              "      border-left-color: var(--fill-color);\n",
              "      border-top-color: var(--fill-color);\n",
              "      border-right-color: var(--fill-color);\n",
              "    }\n",
              "    40% {\n",
              "      border-color: transparent;\n",
              "      border-right-color: var(--fill-color);\n",
              "      border-top-color: var(--fill-color);\n",
              "    }\n",
              "    60% {\n",
              "      border-color: transparent;\n",
              "      border-right-color: var(--fill-color);\n",
              "    }\n",
              "    80% {\n",
              "      border-color: transparent;\n",
              "      border-right-color: var(--fill-color);\n",
              "      border-bottom-color: var(--fill-color);\n",
              "    }\n",
              "    90% {\n",
              "      border-color: transparent;\n",
              "      border-bottom-color: var(--fill-color);\n",
              "    }\n",
              "  }\n",
              "</style>\n",
              "\n",
              "  <script>\n",
              "    async function quickchart(key) {\n",
              "      const quickchartButtonEl =\n",
              "        document.querySelector('#' + key + ' button');\n",
              "      quickchartButtonEl.disabled = true;  // To prevent multiple clicks.\n",
              "      quickchartButtonEl.classList.add('colab-df-spinner');\n",
              "      try {\n",
              "        const charts = await google.colab.kernel.invokeFunction(\n",
              "            'suggestCharts', [key], {});\n",
              "      } catch (error) {\n",
              "        console.error('Error during call to suggestCharts:', error);\n",
              "      }\n",
              "      quickchartButtonEl.classList.remove('colab-df-spinner');\n",
              "      quickchartButtonEl.classList.add('colab-df-quickchart-complete');\n",
              "    }\n",
              "    (() => {\n",
              "      let quickchartButtonEl =\n",
              "        document.querySelector('#df-d3284d9c-d533-4d7c-bd13-ff0be5364274 button');\n",
              "      quickchartButtonEl.style.display =\n",
              "        google.colab.kernel.accessAllowed ? 'block' : 'none';\n",
              "    })();\n",
              "  </script>\n",
              "</div>\n",
              "\n",
              "  <div id=\"id_67581fc1-672c-478c-9690-b28e807817b4\">\n",
              "    <style>\n",
              "      .colab-df-generate {\n",
              "        background-color: #E8F0FE;\n",
              "        border: none;\n",
              "        border-radius: 50%;\n",
              "        cursor: pointer;\n",
              "        display: none;\n",
              "        fill: #1967D2;\n",
              "        height: 32px;\n",
              "        padding: 0 0 0 0;\n",
              "        width: 32px;\n",
              "      }\n",
              "\n",
              "      .colab-df-generate:hover {\n",
              "        background-color: #E2EBFA;\n",
              "        box-shadow: 0px 1px 2px rgba(60, 64, 67, 0.3), 0px 1px 3px 1px rgba(60, 64, 67, 0.15);\n",
              "        fill: #174EA6;\n",
              "      }\n",
              "\n",
              "      [theme=dark] .colab-df-generate {\n",
              "        background-color: #3B4455;\n",
              "        fill: #D2E3FC;\n",
              "      }\n",
              "\n",
              "      [theme=dark] .colab-df-generate:hover {\n",
              "        background-color: #434B5C;\n",
              "        box-shadow: 0px 1px 3px 1px rgba(0, 0, 0, 0.15);\n",
              "        filter: drop-shadow(0px 1px 2px rgba(0, 0, 0, 0.3));\n",
              "        fill: #FFFFFF;\n",
              "      }\n",
              "    </style>\n",
              "    <button class=\"colab-df-generate\" onclick=\"generateWithVariable('df_2corp')\"\n",
              "            title=\"Generate code using this dataframe.\"\n",
              "            style=\"display:none;\">\n",
              "\n",
              "  <svg xmlns=\"http://www.w3.org/2000/svg\" height=\"24px\"viewBox=\"0 0 24 24\"\n",
              "       width=\"24px\">\n",
              "    <path d=\"M7,19H8.4L18.45,9,17,7.55,7,17.6ZM5,21V16.75L18.45,3.32a2,2,0,0,1,2.83,0l1.4,1.43a1.91,1.91,0,0,1,.58,1.4,1.91,1.91,0,0,1-.58,1.4L9.25,21ZM18.45,9,17,7.55Zm-12,3A5.31,5.31,0,0,0,4.9,8.1,5.31,5.31,0,0,0,1,6.5,5.31,5.31,0,0,0,4.9,4.9,5.31,5.31,0,0,0,6.5,1,5.31,5.31,0,0,0,8.1,4.9,5.31,5.31,0,0,0,12,6.5,5.46,5.46,0,0,0,6.5,12Z\"/>\n",
              "  </svg>\n",
              "    </button>\n",
              "    <script>\n",
              "      (() => {\n",
              "      const buttonEl =\n",
              "        document.querySelector('#id_67581fc1-672c-478c-9690-b28e807817b4 button.colab-df-generate');\n",
              "      buttonEl.style.display =\n",
              "        google.colab.kernel.accessAllowed ? 'block' : 'none';\n",
              "\n",
              "      buttonEl.onclick = () => {\n",
              "        google.colab.notebook.generateWithVariable('df_2corp');\n",
              "      }\n",
              "      })();\n",
              "    </script>\n",
              "  </div>\n",
              "\n",
              "    </div>\n",
              "  </div>\n"
            ],
            "application/vnd.google.colaboratory.intrinsic+json": {
              "type": "dataframe",
              "variable_name": "df_2corp",
              "summary": "{\n  \"name\": \"df_2corp\",\n  \"rows\": 14,\n  \"fields\": [\n    {\n      \"column\": [\n        \"Date\",\n        \"\"\n      ],\n      \"properties\": {\n        \"dtype\": \"date\",\n        \"min\": \"2024-09-02 00:00:00\",\n        \"max\": \"2024-12-02 00:00:00\",\n        \"num_unique_values\": 14,\n        \"samples\": [\n          \"2024-11-04 00:00:00\",\n          \"2024-11-18 00:00:00\",\n          \"2024-09-02 00:00:00\"\n        ],\n        \"semantic_type\": \"\",\n        \"description\": \"\"\n      }\n    },\n    {\n      \"column\": [\n        \"Adj Close\",\n        \"MSFT\"\n      ],\n      \"properties\": {\n        \"dtype\": \"number\",\n        \"std\": 10.853631470672411,\n        \"min\": 400.8975524902344,\n        \"max\": 443.57000732421875,\n        \"num_unique_values\": 14,\n        \"samples\": [\n          421.6959228515625,\n          416.1669921875,\n          400.8975524902344\n        ],\n        \"semantic_type\": \"\",\n        \"description\": \"\"\n      }\n    },\n    {\n      \"column\": [\n        \"Adj Close\",\n        \"TSLA\"\n      ],\n      \"properties\": {\n        \"dtype\": \"number\",\n        \"std\": 57.785134331355735,\n        \"min\": 210.72999572753906,\n        \"max\": 389.2200012207031,\n        \"num_unique_values\": 14,\n        \"samples\": [\n          321.2200012207031,\n          352.55999755859375,\n          210.72999572753906\n        ],\n        \"semantic_type\": \"\",\n        \"description\": \"\"\n      }\n    },\n    {\n      \"column\": [\n        \"Close\",\n        \"MSFT\"\n      ],\n      \"properties\": {\n        \"dtype\": \"number\",\n        \"std\": 10.72395201111767,\n        \"min\": 401.70001220703125,\n        \"max\": 443.57000732421875,\n        \"num_unique_values\": 14,\n        \"samples\": [\n          422.5400085449219,\n          417.0,\n          401.70001220703125\n        ],\n        \"semantic_type\": \"\",\n        \"description\": \"\"\n      }\n    },\n    {\n      \"column\": [\n        \"Close\",\n        \"TSLA\"\n      ],\n      \"properties\": {\n        \"dtype\": \"number\",\n        \"std\": 57.785134331355735,\n        \"min\": 210.72999572753906,\n        \"max\": 389.2200012207031,\n        \"num_unique_values\": 14,\n        \"samples\": [\n          321.2200012207031,\n          352.55999755859375,\n          210.72999572753906\n        ],\n        \"semantic_type\": \"\",\n        \"description\": \"\"\n      }\n    },\n    {\n      \"column\": [\n        \"High\",\n        \"MSFT\"\n      ],\n      \"properties\": {\n        \"dtype\": \"number\",\n        \"std\": 9.369994084630909,\n        \"min\": 410.6499938964844,\n        \"max\": 446.1000061035156,\n        \"num_unique_values\": 14,\n        \"samples\": [\n          426.8500061035156,\n          419.7799987792969,\n          410.6499938964844\n        ],\n        \"semantic_type\": \"\",\n        \"description\": \"\"\n      }\n    },\n    {\n      \"column\": [\n        \"High\",\n        \"TSLA\"\n      ],\n      \"properties\": {\n        \"dtype\": \"number\",\n        \"std\": 57.52272167151029,\n        \"min\": 224.25999450683594,\n        \"max\": 389.489990234375,\n        \"num_unique_values\": 14,\n        \"samples\": [\n          328.7099914550781,\n          361.5299987792969,\n          233.60000610351562\n        ],\n        \"semantic_type\": \"\",\n        \"description\": \"\"\n      }\n    },\n    {\n      \"column\": [\n        \"Low\",\n        \"MSFT\"\n      ],\n      \"properties\": {\n        \"dtype\": \"number\",\n        \"std\": 8.224793916232901,\n        \"min\": 400.79998779296875,\n        \"max\": 428.2200012207031,\n        \"num_unique_values\": 14,\n        \"samples\": [\n          405.57000732421875,\n          410.2900085449219,\n          400.79998779296875\n        ],\n        \"semantic_type\": \"\",\n        \"description\": \"\"\n      }\n    },\n    {\n      \"column\": [\n        \"Low\",\n        \"TSLA\"\n      ],\n      \"properties\": {\n        \"dtype\": \"number\",\n        \"std\": 50.416288169873624,\n        \"min\": 210.50999450683594,\n        \"max\": 348.20001220703125,\n        \"num_unique_values\": 14,\n        \"samples\": [\n          238.8800048828125,\n          330.010009765625,\n          210.50999450683594\n        ],\n        \"semantic_type\": \"\",\n        \"description\": \"\"\n      }\n    },\n    {\n      \"column\": [\n        \"Open\",\n        \"MSFT\"\n      ],\n      \"properties\": {\n        \"dtype\": \"number\",\n        \"std\": 8.681104829276068,\n        \"min\": 407.239990234375,\n        \"max\": 434.2799987792969,\n        \"num_unique_values\": 14,\n        \"samples\": [\n          409.79998779296875,\n          414.8699951171875,\n          409.05999755859375\n        ],\n        \"semantic_type\": \"\",\n        \"description\": \"\"\n      }\n    },\n    {\n      \"column\": [\n        \"Open\",\n        \"TSLA\"\n      ],\n      \"properties\": {\n        \"dtype\": \"number\",\n        \"std\": 54.59099583562706,\n        \"min\": 216.1999969482422,\n        \"max\": 360.1400146484375,\n        \"num_unique_values\": 14,\n        \"samples\": [\n          244.55999755859375,\n          340.7300109863281,\n          232.60000610351562\n        ],\n        \"semantic_type\": \"\",\n        \"description\": \"\"\n      }\n    },\n    {\n      \"column\": [\n        \"Volume\",\n        \"MSFT\"\n      ],\n      \"properties\": {\n        \"dtype\": \"number\",\n        \"std\": 29978148,\n        \"min\": 19609500,\n        \"max\": 140477000,\n        \"num_unique_values\": 14,\n        \"samples\": [\n          100773300,\n          107662000,\n          19609500\n        ],\n        \"semantic_type\": \"\",\n        \"description\": \"\"\n      }\n    },\n    {\n      \"column\": [\n        \"Volume\",\n        \"TSLA\"\n      ],\n      \"properties\": {\n        \"dtype\": \"number\",\n        \"std\": 150652782,\n        \"min\": 112177000,\n        \"max\": 726819600,\n        \"num_unique_values\": 14,\n        \"samples\": [\n          625405600,\n          428893100,\n          112177000\n        ],\n        \"semantic_type\": \"\",\n        \"description\": \"\"\n      }\n    }\n  ]\n}"
            }
          },
          "metadata": {}
        }
      ]
    },
    {
      "cell_type": "code",
      "source": [],
      "metadata": {
        "id": "AmgMS0SrbyvX"
      },
      "execution_count": null,
      "outputs": []
    },
    {
      "cell_type": "markdown",
      "source": [
        "Functions:Ticker, Tickers,Download\n",
        "download one ticker using yfinance"
      ],
      "metadata": {
        "id": "-l5-Tw2wECTi"
      }
    },
    {
      "cell_type": "code",
      "source": [
        "!pip install mplfinance"
      ],
      "metadata": {
        "colab": {
          "base_uri": "https://localhost:8080/"
        },
        "id": "WNvSMG2OruH2",
        "outputId": "5f314415-ff36-4c79-dbe1-7b2b3d7c715d"
      },
      "execution_count": null,
      "outputs": [
        {
          "output_type": "stream",
          "name": "stdout",
          "text": [
            "Looking in indexes: https://pypi.org/simple, https://us-python.pkg.dev/colab-wheels/public/simple/\n",
            "Collecting mplfinance\n",
            "  Downloading mplfinance-0.12.9b7-py3-none-any.whl (73 kB)\n",
            "\u001b[K     |████████████████████████████████| 73 kB 1.7 MB/s \n",
            "\u001b[?25hRequirement already satisfied: matplotlib in /usr/local/lib/python3.8/dist-packages (from mplfinance) (3.2.2)\n",
            "Requirement already satisfied: pandas in /usr/local/lib/python3.8/dist-packages (from mplfinance) (1.3.5)\n",
            "Requirement already satisfied: python-dateutil>=2.1 in /usr/local/lib/python3.8/dist-packages (from matplotlib->mplfinance) (2.8.2)\n",
            "Requirement already satisfied: pyparsing!=2.0.4,!=2.1.2,!=2.1.6,>=2.0.1 in /usr/local/lib/python3.8/dist-packages (from matplotlib->mplfinance) (3.0.9)\n",
            "Requirement already satisfied: kiwisolver>=1.0.1 in /usr/local/lib/python3.8/dist-packages (from matplotlib->mplfinance) (1.4.4)\n",
            "Requirement already satisfied: numpy>=1.11 in /usr/local/lib/python3.8/dist-packages (from matplotlib->mplfinance) (1.21.6)\n",
            "Requirement already satisfied: cycler>=0.10 in /usr/local/lib/python3.8/dist-packages (from matplotlib->mplfinance) (0.11.0)\n",
            "Requirement already satisfied: six>=1.5 in /usr/local/lib/python3.8/dist-packages (from python-dateutil>=2.1->matplotlib->mplfinance) (1.15.0)\n",
            "Requirement already satisfied: pytz>=2017.3 in /usr/local/lib/python3.8/dist-packages (from pandas->mplfinance) (2022.6)\n",
            "Installing collected packages: mplfinance\n",
            "Successfully installed mplfinance-0.12.9b7\n"
          ]
        }
      ]
    },
    {
      "cell_type": "code",
      "source": [
        "import mplfinance as mpf\n",
        "\n",
        "start = \"2022-1-1\"\n",
        "end = '2022-12-22' # to 2022-12-21\n",
        "df3 = yf.download('1605.tw',start,end)  # 0050\n",
        "#繪製K線圖:candle 也就是我們常講的K線，平均移動線:mav繪製5、20日MA\n",
        "mpf.plot(df3, type='candle', mav=(5,20), volume=True, title='1605.TW', savefig='1605_plot.png')"
      ],
      "metadata": {
        "colab": {
          "base_uri": "https://localhost:8080/"
        },
        "id": "iOARPIo8sC6V",
        "outputId": "349402b5-cfdf-45a4-e20a-a33a9d268f34"
      },
      "execution_count": null,
      "outputs": [
        {
          "output_type": "stream",
          "name": "stdout",
          "text": [
            "\r[*********************100%***********************]  1 of 1 completed\n"
          ]
        }
      ]
    },
    {
      "cell_type": "markdown",
      "source": [
        "### 11.1.3 pandas read_html()"
      ],
      "metadata": {
        "id": "MBmZpzlFoAZy"
      }
    },
    {
      "cell_type": "code",
      "source": [
        "import pandas as pd\n",
        "df_rate=pd.read_html(\"https://rate.bot.com.tw/xrt?Lang=zh-TW\")"
      ],
      "metadata": {
        "id": "K9cdlr9vfa7K"
      },
      "execution_count": null,
      "outputs": []
    },
    {
      "cell_type": "code",
      "source": [
        "df_rate.to_csv(\"us_currency.csv\",encoding=\"big5\")"
      ],
      "metadata": {
        "id": "taP9HOVhfawB"
      },
      "execution_count": null,
      "outputs": []
    },
    {
      "cell_type": "markdown",
      "source": [
        "### 11.1.4 dataframe 合併"
      ],
      "metadata": {
        "id": "Y9CpqsJADt9k"
      }
    },
    {
      "cell_type": "markdown",
      "source": [
        "## 11.2 numpy\n",
        "  np.array\n"
      ],
      "metadata": {
        "id": "xOsQbHynWvwU"
      }
    },
    {
      "cell_type": "markdown",
      "source": [
        "### 11.2-1 array operation"
      ],
      "metadata": {
        "id": "0eSQgnpAbDbb"
      }
    },
    {
      "cell_type": "markdown",
      "source": [
        "## 11.3 matplotlib: Visualization with Python(繪製圖表)\n",
        "* Steps (繪製圖表的步驟):\n",
        "* 1.import sub_module\n",
        "* 2.prepare data\n",
        "* 3.create plot\n",
        "* 4.plot\n",
        "* 5.customize plot\n",
        "* 6.save plot\n",
        "* 7.show plot\n",
        "* choice color"
      ],
      "metadata": {
        "id": "QlPGmh-xWzI_"
      }
    },
    {
      "cell_type": "code",
      "source": [
        "import matplotlib.pyplot as plt # step 1\n",
        "x1=[1,2,3,4]\n",
        "y1=[1,4,9,16]\n",
        "plt.figure(figsize=(3,3.5))\n",
        "plt.plot(x1,y1)\n",
        "plt.title(\"the curve\")\n",
        "plt.xlabel(\"x value\")\n",
        "plt.ylabel(\"y value\")\n",
        "plt.show()"
      ],
      "metadata": {
        "id": "j8MQwpgGfDMx",
        "colab": {
          "base_uri": "https://localhost:8080/",
          "height": 372
        },
        "outputId": "75f39fd0-ca45-4137-dcc1-a7b20bc17702"
      },
      "execution_count": null,
      "outputs": [
        {
          "output_type": "display_data",
          "data": {
            "text/plain": [
              "<Figure size 300x350 with 1 Axes>"
            ],
            "image/png": "[encoded data removed]"
          },
          "metadata": {}
        }
      ]
    },
    {
      "cell_type": "code",
      "source": [
        "import yfinance as yf\n",
        "import matplotlib.pyplot as plt\n",
        "\n",
        "df_nvda=yf.Ticker(\"nvda\").history(start=\"2024-01-01\",end=\"2025-01-01\")\n",
        "df_aapl=yf.Ticker(\"aapl\").history(start=\"2024-01-01\",end=\"2025-01-01\")\n",
        "df_amd=yf.Ticker(\"amd\").history(start=\"2024-01-01\",end=\"2025-01-01\")\n",
        "#print(df_nvda)\n",
        "nvda_2024=df_nvda[\"Close\"].tolist()\n",
        "aapl_2024=df_aapl[\"Close\"].tolist()\n",
        "amd_2024=df_amd[\"Close\"].tolist()\n",
        "#print(nvda_2024)\n",
        "x1=list(range(1,len(nvda_2024)+1))\n",
        "print(x1)\n",
        "plt.figure(figsize=(10,5))\n",
        "plt.plot(x1,nvda_2024,color=\"green\",label=\"nvda\",linestyle=\"-.\")\n",
        "plt.plot(x1,aapl_2024,color=\"red\",label=\"apple\",linestyle=\"--\")\n",
        "plt.plot(x1,amd_2024,color=\"blue\",label=\"amd\")\n",
        "plt.title(\"NVDA & apple stock in 2024\")\n",
        "plt.xlabel(\"day in 2024\")\n",
        "plt.ylabel(\"close price\")\n",
        "plt.legend()\n",
        "plt.savefig(\"stock_price.png\")\n",
        "plt.show()"
      ],
      "metadata": {
        "colab": {
          "base_uri": "https://localhost:8080/",
          "height": 403
        },
        "id": "sz2ImYh0-nf4",
        "outputId": "9192e276-5461-4987-fe86-b71a45fef924"
      },
      "execution_count": null,
      "outputs": [
        {
          "output_type": "stream",
          "name": "stdout",
          "text": [
            "[1, 2, 3, 4, 5, 6, 7, 8, 9, 10, 11, 12, 13, 14, 15, 16, 17, 18, 19, 20, 21, 22, 23, 24, 25, 26, 27, 28, 29, 30, 31, 32, 33, 34, 35, 36, 37, 38, 39, 40, 41, 42, 43, 44, 45, 46, 47, 48, 49, 50, 51, 52, 53, 54, 55, 56, 57, 58, 59, 60, 61, 62, 63, 64, 65, 66, 67, 68, 69, 70, 71, 72, 73, 74, 75, 76, 77, 78, 79, 80, 81, 82, 83, 84, 85, 86, 87, 88, 89, 90, 91, 92, 93, 94, 95, 96, 97, 98, 99, 100, 101, 102, 103, 104, 105, 106, 107, 108, 109, 110, 111, 112, 113, 114, 115, 116, 117, 118, 119, 120, 121, 122, 123, 124, 125, 126, 127, 128, 129, 130, 131, 132, 133, 134, 135, 136, 137, 138, 139, 140, 141, 142, 143, 144, 145, 146, 147, 148, 149, 150, 151, 152, 153, 154, 155, 156, 157, 158, 159, 160, 161, 162, 163, 164, 165, 166, 167, 168, 169, 170, 171, 172, 173, 174, 175, 176, 177, 178, 179, 180, 181, 182, 183, 184, 185, 186, 187, 188, 189, 190, 191, 192, 193, 194, 195, 196, 197, 198, 199, 200, 201, 202, 203, 204, 205, 206, 207, 208, 209, 210, 211, 212, 213, 214, 215, 216, 217, 218, 219, 220, 221, 222, 223, 224, 225, 226, 227, 228, 229, 230, 231, 232, 233, 234, 235, 236, 237, 238, 239, 240, 241, 242, 243, 244, 245, 246, 247, 248, 249, 250, 251, 252]\n"
          ]
        },
        {
          "output_type": "display_data",
          "data": {
            "text/plain": [
              "<Figure size 1000x500 with 1 Axes>"
            ],
            "image/png": "[encoded data removed]"
          },
          "metadata": {}
        }
      ]
    },
    {
      "cell_type": "markdown",
      "source": [
        "### 11.3-1 line plot(折線圖)"
      ],
      "metadata": {
        "id": "sok8GGSecYWj"
      }
    },
    {
      "cell_type": "markdown",
      "source": [
        "### 11.3-2 bar plot(長條圖)"
      ],
      "metadata": {
        "id": "vkjarukVcpw-"
      }
    },
    {
      "cell_type": "code",
      "source": [
        "bar=0.2\n",
        "x1=[1,2,3,4,5]\n",
        "y1=[23,28,20,27,25] #tp\n",
        "#x2=[1+0.3,2+0.3,3+0.3,4+0.3,5+0.3]\n",
        "x2=[x+bar for x in x1]\n",
        "y2=[30,28,32,25,33]\n",
        "x3=[x+bar for x in x2]\n",
        "y3=[20,18,24,16,19]\n",
        "plt.bar(x1,y1,width=bar,label=\"Taipei\")\n",
        "plt.bar(x2,y2,width=bar,tick_label=[2020,2021,2022,2023,2024],label=\"Taichung\")\n",
        "plt.bar(x3,y3,width=bar,label=\"Kaohsiung\")\n",
        "plt.legend(loc=\"upper left\")\n",
        "plt.title(\"temp in 2020-2024\")\n",
        "plt.xlabel(\"year\")\n",
        "plt.ylabel(\"temp\")\n",
        "plt.savefig(\"temp.png\")\n",
        "plt.show()"
      ],
      "metadata": {
        "colab": {
          "base_uri": "https://localhost:8080/",
          "height": 472
        },
        "id": "DcKzDFW4HRu2",
        "outputId": "b861a134-64ef-4ac6-b8b1-58547d5ae569"
      },
      "execution_count": null,
      "outputs": [
        {
          "output_type": "display_data",
          "data": {
            "text/plain": [
              "<Figure size 640x480 with 1 Axes>"
            ],
            "image/png": "[encoded data removed]"
          },
          "metadata": {}
        }
      ]
    },
    {
      "cell_type": "code",
      "source": [
        "from google.colab import files\n",
        "import pandas as pd\n",
        "unploaded=files.upload()\n",
        "\n"
      ],
      "metadata": {
        "colab": {
          "base_uri": "https://localhost:8080/",
          "height": 606
        },
        "id": "s3SgbeKiOxaH",
        "outputId": "539d113a-28f6-4c1b-c7fb-aeab0cb0841d"
      },
      "execution_count": null,
      "outputs": [
        {
          "output_type": "display_data",
          "data": {
            "text/plain": [
              "<IPython.core.display.HTML object>"
            ],
            "text/html": [
              "\n",
              "     <input type=\"file\" id=\"files-9a9074d3-e417-4d4a-b6ff-510471866b8b\" name=\"files[]\" multiple disabled\n",
              "        style=\"border:none\" />\n",
              "     <output id=\"result-9a9074d3-e417-4d4a-b6ff-510471866b8b\">\n",
              "      Upload widget is only available when the cell has been executed in the\n",
              "      current browser session. Please rerun this cell to enable.\n",
              "      </output>\n",
              "      <script>// Copyright 2017 Google LLC\n",
              "//\n",
              "// Licensed under the Apache License, Version 2.0 (the \"License\");\n",
              "// you may not use this file except in compliance with the License.\n",
              "// You may obtain a copy of the License at\n",
              "//\n",
              "//      http://www.apache.org/licenses/LICENSE-2.0\n",
              "//\n",
              "// Unless required by applicable law or agreed to in writing, software\n",
              "// distributed under the License is distributed on an \"AS IS\" BASIS,\n",
              "// WITHOUT WARRANTIES OR CONDITIONS OF ANY KIND, either express or implied.\n",
              "// See the License for the specific language governing permissions and\n",
              "// limitations under the License.\n",
              "\n",
              "/**\n",
              " * @fileoverview Helpers for google.colab Python module.\n",
              " */\n",
              "(function(scope) {\n",
              "function span(text, styleAttributes = {}) {\n",
              "  const element = document.createElement('span');\n",
              "  element.textContent = text;\n",
              "  for (const key of Object.keys(styleAttributes)) {\n",
              "    element.style[key] = styleAttributes[key];\n",
              "  }\n",
              "  return element;\n",
              "}\n",
              "\n",
              "// Max number of bytes which will be uploaded at a time.\n",
              "const MAX_PAYLOAD_SIZE = 100 * 1024;\n",
              "\n",
              "function _uploadFiles(inputId, outputId) {\n",
              "  const steps = uploadFilesStep(inputId, outputId);\n",
              "  const outputElement = document.getElementById(outputId);\n",
              "  // Cache steps on the outputElement to make it available for the next call\n",
              "  // to uploadFilesContinue from Python.\n",
              "  outputElement.steps = steps;\n",
              "\n",
              "  return _uploadFilesContinue(outputId);\n",
              "}\n",
              "\n",
              "// This is roughly an async generator (not supported in the browser yet),\n",
              "// where there are multiple asynchronous steps and the Python side is going\n",
              "// to poll for completion of each step.\n",
              "// This uses a Promise to block the python side on completion of each step,\n",
              "// then passes the result of the previous step as the input to the next step.\n",
              "function _uploadFilesContinue(outputId) {\n",
              "  const outputElement = document.getElementById(outputId);\n",
              "  const steps = outputElement.steps;\n",
              "\n",
              "  const next = steps.next(outputElement.lastPromiseValue);\n",
              "  return Promise.resolve(next.value.promise).then((value) => {\n",
              "    // Cache the last promise value to make it available to the next\n",
              "    // step of the generator.\n",
              "    outputElement.lastPromiseValue = value;\n",
              "    return next.value.response;\n",
              "  });\n",
              "}\n",
              "\n",
              "/**\n",
              " * Generator function which is called between each async step of the upload\n",
              " * process.\n",
              " * @param {string} inputId Element ID of the input file picker element.\n",
              " * @param {string} outputId Element ID of the output display.\n",
              " * @return {!Iterable<!Object>} Iterable of next steps.\n",
              " */\n",
              "function* uploadFilesStep(inputId, outputId) {\n",
              "  const inputElement = document.getElementById(inputId);\n",
              "  inputElement.disabled = false;\n",
              "\n",
              "  const outputElement = document.getElementById(outputId);\n",
              "  outputElement.innerHTML = '';\n",
              "\n",
              "  const pickedPromise = new Promise((resolve) => {\n",
              "    inputElement.addEventListener('change', (e) => {\n",
              "      resolve(e.target.files);\n",
              "    });\n",
              "  });\n",
              "\n",
              "  const cancel = document.createElement('button');\n",
              "  inputElement.parentElement.appendChild(cancel);\n",
              "  cancel.textContent = 'Cancel upload';\n",
              "  const cancelPromise = new Promise((resolve) => {\n",
              "    cancel.onclick = () => {\n",
              "      resolve(null);\n",
              "    };\n",
              "  });\n",
              "\n",
              "  // Wait for the user to pick the files.\n",
              "  const files = yield {\n",
              "    promise: Promise.race([pickedPromise, cancelPromise]),\n",
              "    response: {\n",
              "      action: 'starting',\n",
              "    }\n",
              "  };\n",
              "\n",
              "  cancel.remove();\n",
              "\n",
              "  // Disable the input element since further picks are not allowed.\n",
              "  inputElement.disabled = true;\n",
              "\n",
              "  if (!files) {\n",
              "    return {\n",
              "      response: {\n",
              "        action: 'complete',\n",
              "      }\n",
              "    };\n",
              "  }\n",
              "\n",
              "  for (const file of files) {\n",
              "    const li = document.createElement('li');\n",
              "    li.append(span(file.name, {fontWeight: 'bold'}));\n",
              "    li.append(span(\n",
              "        `(${file.type || 'n/a'}) - ${file.size} bytes, ` +\n",
              "        `last modified: ${\n",
              "            file.lastModifiedDate ? file.lastModifiedDate.toLocaleDateString() :\n",
              "                                    'n/a'} - `));\n",
              "    const percent = span('0% done');\n",
              "    li.appendChild(percent);\n",
              "\n",
              "    outputElement.appendChild(li);\n",
              "\n",
              "    const fileDataPromise = new Promise((resolve) => {\n",
              "      const reader = new FileReader();\n",
              "      reader.onload = (e) => {\n",
              "        resolve(e.target.result);\n",
              "      };\n",
              "      reader.readAsArrayBuffer(file);\n",
              "    });\n",
              "    // Wait for the data to be ready.\n",
              "    let fileData = yield {\n",
              "      promise: fileDataPromise,\n",
              "      response: {\n",
              "        action: 'continue',\n",
              "      }\n",
              "    };\n",
              "\n",
              "    // Use a chunked sending to avoid message size limits. See b/62115660.\n",
              "    let position = 0;\n",
              "    do {\n",
              "      const length = Math.min(fileData.byteLength - position, MAX_PAYLOAD_SIZE);\n",
              "      const chunk = new Uint8Array(fileData, position, length);\n",
              "      position += length;\n",
              "\n",
              "      const base64 = btoa(String.fromCharCode.apply(null, chunk));\n",
              "      yield {\n",
              "        response: {\n",
              "          action: 'append',\n",
              "          file: file.name,\n",
              "          data: base64,\n",
              "        },\n",
              "      };\n",
              "\n",
              "      let percentDone = fileData.byteLength === 0 ?\n",
              "          100 :\n",
              "          Math.round((position / fileData.byteLength) * 100);\n",
              "      percent.textContent = `${percentDone}% done`;\n",
              "\n",
              "    } while (position < fileData.byteLength);\n",
              "  }\n",
              "\n",
              "  // All done.\n",
              "  yield {\n",
              "    response: {\n",
              "      action: 'complete',\n",
              "    }\n",
              "  };\n",
              "}\n",
              "\n",
              "scope.google = scope.google || {};\n",
              "scope.google.colab = scope.google.colab || {};\n",
              "scope.google.colab._files = {\n",
              "  _uploadFiles,\n",
              "  _uploadFilesContinue,\n",
              "};\n",
              "})(self);\n",
              "</script> "
            ]
          },
          "metadata": {}
        },
        {
          "output_type": "stream",
          "name": "stdout",
          "text": [
            "Saving currency.csv to currency (1).csv\n"
          ]
        },
        {
          "output_type": "error",
          "ename": "UnicodeDecodeError",
          "evalue": "'utf-8' codec can't decode byte 0xb9 in position 1: invalid start byte",
          "traceback": [
            "\u001b[0;31m---------------------------------------------------------------------------\u001b[0m",
            "\u001b[0;31mUnicodeDecodeError\u001b[0m                        Traceback (most recent call last)",
            "\u001b[0;32m<ipython-input-39-3e8a3dccf563>\u001b[0m in \u001b[0;36m<cell line: 0>\u001b[0;34m()\u001b[0m\n\u001b[1;32m      3\u001b[0m \u001b[0munploaded\u001b[0m\u001b[0;34m=\u001b[0m\u001b[0mfiles\u001b[0m\u001b[0;34m.\u001b[0m\u001b[0mupload\u001b[0m\u001b[0;34m(\u001b[0m\u001b[0;34m)\u001b[0m\u001b[0;34m\u001b[0m\u001b[0;34m\u001b[0m\u001b[0m\n\u001b[1;32m      4\u001b[0m \u001b[0;34m\u001b[0m\u001b[0m\n\u001b[0;32m----> 5\u001b[0;31m \u001b[0mdf1\u001b[0m\u001b[0;34m=\u001b[0m\u001b[0mpd\u001b[0m\u001b[0;34m.\u001b[0m\u001b[0mread_csv\u001b[0m\u001b[0;34m(\u001b[0m\u001b[0;34m\"/content/currency.csv\"\u001b[0m\u001b[0;34m)\u001b[0m\u001b[0;34m\u001b[0m\u001b[0;34m\u001b[0m\u001b[0m\n\u001b[0m\u001b[1;32m      6\u001b[0m \u001b[0mprint\u001b[0m\u001b[0;34m(\u001b[0m\u001b[0mdf1\u001b[0m\u001b[0;34m)\u001b[0m\u001b[0;34m\u001b[0m\u001b[0;34m\u001b[0m\u001b[0m\n",
            "\u001b[0;32m/usr/local/lib/python3.11/dist-packages/pandas/io/parsers/readers.py\u001b[0m in \u001b[0;36mread_csv\u001b[0;34m(filepath_or_buffer, sep, delimiter, header, names, index_col, usecols, dtype, engine, converters, true_values, false_values, skipinitialspace, skiprows, skipfooter, nrows, na_values, keep_default_na, na_filter, verbose, skip_blank_lines, parse_dates, infer_datetime_format, keep_date_col, date_parser, date_format, dayfirst, cache_dates, iterator, chunksize, compression, thousands, decimal, lineterminator, quotechar, quoting, doublequote, escapechar, comment, encoding, encoding_errors, dialect, on_bad_lines, delim_whitespace, low_memory, memory_map, float_precision, storage_options, dtype_backend)\u001b[0m\n\u001b[1;32m   1024\u001b[0m     \u001b[0mkwds\u001b[0m\u001b[0;34m.\u001b[0m\u001b[0mupdate\u001b[0m\u001b[0;34m(\u001b[0m\u001b[0mkwds_defaults\u001b[0m\u001b[0;34m)\u001b[0m\u001b[0;34m\u001b[0m\u001b[0;34m\u001b[0m\u001b[0m\n\u001b[1;32m   1025\u001b[0m \u001b[0;34m\u001b[0m\u001b[0m\n\u001b[0;32m-> 1026\u001b[0;31m     \u001b[0;32mreturn\u001b[0m \u001b[0m_read\u001b[0m\u001b[0;34m(\u001b[0m\u001b[0mfilepath_or_buffer\u001b[0m\u001b[0;34m,\u001b[0m \u001b[0mkwds\u001b[0m\u001b[0;34m)\u001b[0m\u001b[0;34m\u001b[0m\u001b[0;34m\u001b[0m\u001b[0m\n\u001b[0m\u001b[1;32m   1027\u001b[0m \u001b[0;34m\u001b[0m\u001b[0m\n\u001b[1;32m   1028\u001b[0m \u001b[0;34m\u001b[0m\u001b[0m\n",
            "\u001b[0;32m/usr/local/lib/python3.11/dist-packages/pandas/io/parsers/readers.py\u001b[0m in \u001b[0;36m_read\u001b[0;34m(filepath_or_buffer, kwds)\u001b[0m\n\u001b[1;32m    618\u001b[0m \u001b[0;34m\u001b[0m\u001b[0m\n\u001b[1;32m    619\u001b[0m     \u001b[0;31m# Create the parser.\u001b[0m\u001b[0;34m\u001b[0m\u001b[0;34m\u001b[0m\u001b[0m\n\u001b[0;32m--> 620\u001b[0;31m     \u001b[0mparser\u001b[0m \u001b[0;34m=\u001b[0m \u001b[0mTextFileReader\u001b[0m\u001b[0;34m(\u001b[0m\u001b[0mfilepath_or_buffer\u001b[0m\u001b[0;34m,\u001b[0m \u001b[0;34m**\u001b[0m\u001b[0mkwds\u001b[0m\u001b[0;34m)\u001b[0m\u001b[0;34m\u001b[0m\u001b[0;34m\u001b[0m\u001b[0m\n\u001b[0m\u001b[1;32m    621\u001b[0m \u001b[0;34m\u001b[0m\u001b[0m\n\u001b[1;32m    622\u001b[0m     \u001b[0;32mif\u001b[0m \u001b[0mchunksize\u001b[0m \u001b[0;32mor\u001b[0m \u001b[0miterator\u001b[0m\u001b[0;34m:\u001b[0m\u001b[0;34m\u001b[0m\u001b[0;34m\u001b[0m\u001b[0m\n",
            "\u001b[0;32m/usr/local/lib/python3.11/dist-packages/pandas/io/parsers/readers.py\u001b[0m in \u001b[0;36m__init__\u001b[0;34m(self, f, engine, **kwds)\u001b[0m\n\u001b[1;32m   1618\u001b[0m \u001b[0;34m\u001b[0m\u001b[0m\n\u001b[1;32m   1619\u001b[0m         \u001b[0mself\u001b[0m\u001b[0;34m.\u001b[0m\u001b[0mhandles\u001b[0m\u001b[0;34m:\u001b[0m \u001b[0mIOHandles\u001b[0m \u001b[0;34m|\u001b[0m \u001b[0;32mNone\u001b[0m \u001b[0;34m=\u001b[0m \u001b[0;32mNone\u001b[0m\u001b[0;34m\u001b[0m\u001b[0;34m\u001b[0m\u001b[0m\n\u001b[0;32m-> 1620\u001b[0;31m         \u001b[0mself\u001b[0m\u001b[0;34m.\u001b[0m\u001b[0m_engine\u001b[0m \u001b[0;34m=\u001b[0m \u001b[0mself\u001b[0m\u001b[0;34m.\u001b[0m\u001b[0m_make_engine\u001b[0m\u001b[0;34m(\u001b[0m\u001b[0mf\u001b[0m\u001b[0;34m,\u001b[0m \u001b[0mself\u001b[0m\u001b[0;34m.\u001b[0m\u001b[0mengine\u001b[0m\u001b[0;34m)\u001b[0m\u001b[0;34m\u001b[0m\u001b[0;34m\u001b[0m\u001b[0m\n\u001b[0m\u001b[1;32m   1621\u001b[0m \u001b[0;34m\u001b[0m\u001b[0m\n\u001b[1;32m   1622\u001b[0m     \u001b[0;32mdef\u001b[0m \u001b[0mclose\u001b[0m\u001b[0;34m(\u001b[0m\u001b[0mself\u001b[0m\u001b[0;34m)\u001b[0m \u001b[0;34m->\u001b[0m \u001b[0;32mNone\u001b[0m\u001b[0;34m:\u001b[0m\u001b[0;34m\u001b[0m\u001b[0;34m\u001b[0m\u001b[0m\n",
            "\u001b[0;32m/usr/local/lib/python3.11/dist-packages/pandas/io/parsers/readers.py\u001b[0m in \u001b[0;36m_make_engine\u001b[0;34m(self, f, engine)\u001b[0m\n\u001b[1;32m   1896\u001b[0m \u001b[0;34m\u001b[0m\u001b[0m\n\u001b[1;32m   1897\u001b[0m         \u001b[0;32mtry\u001b[0m\u001b[0;34m:\u001b[0m\u001b[0;34m\u001b[0m\u001b[0;34m\u001b[0m\u001b[0m\n\u001b[0;32m-> 1898\u001b[0;31m             \u001b[0;32mreturn\u001b[0m \u001b[0mmapping\u001b[0m\u001b[0;34m[\u001b[0m\u001b[0mengine\u001b[0m\u001b[0;34m]\u001b[0m\u001b[0;34m(\u001b[0m\u001b[0mf\u001b[0m\u001b[0;34m,\u001b[0m \u001b[0;34m**\u001b[0m\u001b[0mself\u001b[0m\u001b[0;34m.\u001b[0m\u001b[0moptions\u001b[0m\u001b[0;34m)\u001b[0m\u001b[0;34m\u001b[0m\u001b[0;34m\u001b[0m\u001b[0m\n\u001b[0m\u001b[1;32m   1899\u001b[0m         \u001b[0;32mexcept\u001b[0m \u001b[0mException\u001b[0m\u001b[0;34m:\u001b[0m\u001b[0;34m\u001b[0m\u001b[0;34m\u001b[0m\u001b[0m\n\u001b[1;32m   1900\u001b[0m             \u001b[0;32mif\u001b[0m \u001b[0mself\u001b[0m\u001b[0;34m.\u001b[0m\u001b[0mhandles\u001b[0m \u001b[0;32mis\u001b[0m \u001b[0;32mnot\u001b[0m \u001b[0;32mNone\u001b[0m\u001b[0;34m:\u001b[0m\u001b[0;34m\u001b[0m\u001b[0;34m\u001b[0m\u001b[0m\n",
            "\u001b[0;32m/usr/local/lib/python3.11/dist-packages/pandas/io/parsers/c_parser_wrapper.py\u001b[0m in \u001b[0;36m__init__\u001b[0;34m(self, src, **kwds)\u001b[0m\n\u001b[1;32m     91\u001b[0m             \u001b[0;31m# Fail here loudly instead of in cython after reading\u001b[0m\u001b[0;34m\u001b[0m\u001b[0;34m\u001b[0m\u001b[0m\n\u001b[1;32m     92\u001b[0m             \u001b[0mimport_optional_dependency\u001b[0m\u001b[0;34m(\u001b[0m\u001b[0;34m\"pyarrow\"\u001b[0m\u001b[0;34m)\u001b[0m\u001b[0;34m\u001b[0m\u001b[0;34m\u001b[0m\u001b[0m\n\u001b[0;32m---> 93\u001b[0;31m         \u001b[0mself\u001b[0m\u001b[0;34m.\u001b[0m\u001b[0m_reader\u001b[0m \u001b[0;34m=\u001b[0m \u001b[0mparsers\u001b[0m\u001b[0;34m.\u001b[0m\u001b[0mTextReader\u001b[0m\u001b[0;34m(\u001b[0m\u001b[0msrc\u001b[0m\u001b[0;34m,\u001b[0m \u001b[0;34m**\u001b[0m\u001b[0mkwds\u001b[0m\u001b[0;34m)\u001b[0m\u001b[0;34m\u001b[0m\u001b[0;34m\u001b[0m\u001b[0m\n\u001b[0m\u001b[1;32m     94\u001b[0m \u001b[0;34m\u001b[0m\u001b[0m\n\u001b[1;32m     95\u001b[0m         \u001b[0mself\u001b[0m\u001b[0;34m.\u001b[0m\u001b[0munnamed_cols\u001b[0m \u001b[0;34m=\u001b[0m \u001b[0mself\u001b[0m\u001b[0;34m.\u001b[0m\u001b[0m_reader\u001b[0m\u001b[0;34m.\u001b[0m\u001b[0munnamed_cols\u001b[0m\u001b[0;34m\u001b[0m\u001b[0;34m\u001b[0m\u001b[0m\n",
            "\u001b[0;32mparsers.pyx\u001b[0m in \u001b[0;36mpandas._libs.parsers.TextReader.__cinit__\u001b[0;34m()\u001b[0m\n",
            "\u001b[0;32mparsers.pyx\u001b[0m in \u001b[0;36mpandas._libs.parsers.TextReader._get_header\u001b[0;34m()\u001b[0m\n",
            "\u001b[0;32mparsers.pyx\u001b[0m in \u001b[0;36mpandas._libs.parsers.TextReader._tokenize_rows\u001b[0;34m()\u001b[0m\n",
            "\u001b[0;32mparsers.pyx\u001b[0m in \u001b[0;36mpandas._libs.parsers.TextReader._check_tokenize_status\u001b[0;34m()\u001b[0m\n",
            "\u001b[0;32mparsers.pyx\u001b[0m in \u001b[0;36mpandas._libs.parsers.raise_parser_error\u001b[0;34m()\u001b[0m\n",
            "\u001b[0;31mUnicodeDecodeError\u001b[0m: 'utf-8' codec can't decode byte 0xb9 in position 1: invalid start byte"
          ]
        }
      ]
    },
    {
      "cell_type": "code",
      "source": [
        "df1=pd.read_csv(\"currency.csv\",encoding=\"big5\")\n",
        "print(df1)"
      ],
      "metadata": {
        "colab": {
          "base_uri": "https://localhost:8080/"
        },
        "id": "izCvGvClPQsq",
        "outputId": "e487333b-44d4-4f3a-bda1-8bb747fa7488"
      },
      "execution_count": null,
      "outputs": [
        {
          "output_type": "stream",
          "name": "stdout",
          "text": [
            "    Unnamed: 0    幣別      現金買入      現今賣出\n",
            "0            0    美金  29.78000  30.45000\n",
            "1            1    港幣   3.70400   3.90800\n",
            "2            2    英鎊  39.15000  41.27000\n",
            "3            3    澳幣  19.00000  19.78000\n",
            "4            4  加拿大幣  21.15000  22.06000\n",
            "5            5  新加坡幣  22.73000  23.64000\n",
            "6            6  瑞士法郎  35.40000  36.60000\n",
            "7            7    日圓   0.19910   0.21190\n",
            "8           10    紐元  17.31000  18.16000\n",
            "9           11    泰幣   0.78330   0.97330\n",
            "10          12  菲國比索   0.47600   0.60800\n",
            "11          13   印尼幣   0.00148   0.00218\n",
            "12          14    歐元  33.14000  34.48000\n",
            "13          15    韓元   0.01997   0.02387\n",
            "14          16   越南盾   0.00092   0.00133\n",
            "15          17   馬來幣   6.00100   7.52600\n",
            "16          18   人民幣   4.08900   4.25100\n"
          ]
        }
      ]
    },
    {
      "cell_type": "markdown",
      "source": [
        "### 11.3-4 pie chart(圓餅圖)"
      ],
      "metadata": {
        "id": "EQsl8sByeTkz"
      }
    },
    {
      "cell_type": "code",
      "source": [
        "activities = [\"work\", \"sleep\", \"Internet\", \"others\"]\n",
        "hours = [8, 7, 2, 7]\n",
        "colors = [\"lightgreen\", \"lightblue\", \"yellow\", \"pink\"]\n",
        "plt.pie(hours, labels = activities, colors = colors, shadow = True, explode = (0.2, 0, 0, 0), autopct = \"%.1f%%\")   # 將數值百分比並留到小數點一位; 設定分隔的區塊位置\n",
        "plt.axis(\"equal\")  # 使圓餅圖比例相等\n",
        "plt.title(\"Pie chart\", {\"fontsize\" : 18})\n",
        "plt.show()"
      ],
      "metadata": {
        "colab": {
          "base_uri": "https://localhost:8080/",
          "height": 268
        },
        "id": "n4XZK8vNeVpT",
        "outputId": "27c1f229-f90d-46a5-aae7-801bb3494475"
      },
      "execution_count": null,
      "outputs": [
        {
          "output_type": "display_data",
          "data": {
            "text/plain": [
              "<Figure size 432x288 with 1 Axes>"
            ],
            "image/png": "[encoded data removed]"
          },
          "metadata": {}
        }
      ]
    },
    {
      "cell_type": "markdown",
      "source": [
        "### 11.3-5 scatter plot(散佈圖)"
      ],
      "metadata": {
        "id": "e4CcK0gyeoTK"
      }
    },
    {
      "cell_type": "code",
      "source": [
        "!pip install yfinance"
      ],
      "metadata": {
        "colab": {
          "base_uri": "https://localhost:8080/",
          "height": 993
        },
        "id": "f_DAW_Ae4vCE",
        "outputId": "6115b73b-dc0a-417c-ce8e-371ef98bea2c"
      },
      "execution_count": null,
      "outputs": [
        {
          "output_type": "stream",
          "name": "stdout",
          "text": [
            "Looking in indexes: https://pypi.org/simple, https://us-python.pkg.dev/colab-wheels/public/simple/\n",
            "Collecting yfinance\n",
            "  Downloading yfinance-0.2.3-py2.py3-none-any.whl (50 kB)\n",
            "\u001b[K     |████████████████████████████████| 50 kB 3.3 MB/s \n",
            "\u001b[?25hRequirement already satisfied: pandas>=1.3.0 in /usr/local/lib/python3.8/dist-packages (from yfinance) (1.3.5)\n",
            "Requirement already satisfied: lxml>=4.9.1 in /usr/local/lib/python3.8/dist-packages (from yfinance) (4.9.2)\n",
            "Requirement already satisfied: pytz>=2022.5 in /usr/local/lib/python3.8/dist-packages (from yfinance) (2022.6)\n",
            "Collecting cryptography>=3.3.2\n",
            "  Downloading cryptography-38.0.4-cp36-abi3-manylinux_2_24_x86_64.whl (4.0 MB)\n",
            "\u001b[K     |████████████████████████████████| 4.0 MB 13.8 MB/s \n",
            "\u001b[?25hCollecting beautifulsoup4>=4.11.1\n",
            "  Downloading beautifulsoup4-4.11.1-py3-none-any.whl (128 kB)\n",
            "\u001b[K     |████████████████████████████████| 128 kB 52.5 MB/s \n",
            "\u001b[?25hRequirement already satisfied: numpy>=1.16.5 in /usr/local/lib/python3.8/dist-packages (from yfinance) (1.21.6)\n",
            "Requirement already satisfied: appdirs>=1.4.4 in /usr/local/lib/python3.8/dist-packages (from yfinance) (1.4.4)\n",
            "Collecting frozendict>=2.3.4\n",
            "  Downloading frozendict-2.3.4-cp38-cp38-manylinux_2_17_x86_64.manylinux2014_x86_64.whl (110 kB)\n",
            "\u001b[K     |████████████████████████████████| 110 kB 59.0 MB/s \n",
            "\u001b[?25hCollecting requests>=2.26\n",
            "  Downloading requests-2.28.1-py3-none-any.whl (62 kB)\n",
            "\u001b[K     |████████████████████████████████| 62 kB 1.3 MB/s \n",
            "\u001b[?25hCollecting html5lib>=1.1\n",
            "  Downloading html5lib-1.1-py2.py3-none-any.whl (112 kB)\n",
            "\u001b[K     |████████████████████████████████| 112 kB 73.1 MB/s \n",
            "\u001b[?25hRequirement already satisfied: multitasking>=0.0.7 in /usr/local/lib/python3.8/dist-packages (from yfinance) (0.0.11)\n",
            "Collecting soupsieve>1.2\n",
            "  Downloading soupsieve-2.3.2.post1-py3-none-any.whl (37 kB)\n",
            "Requirement already satisfied: cffi>=1.12 in /usr/local/lib/python3.8/dist-packages (from cryptography>=3.3.2->yfinance) (1.15.1)\n",
            "Requirement already satisfied: pycparser in /usr/local/lib/python3.8/dist-packages (from cffi>=1.12->cryptography>=3.3.2->yfinance) (2.21)\n",
            "Requirement already satisfied: webencodings in /usr/local/lib/python3.8/dist-packages (from html5lib>=1.1->yfinance) (0.5.1)\n",
            "Requirement already satisfied: six>=1.9 in /usr/local/lib/python3.8/dist-packages (from html5lib>=1.1->yfinance) (1.15.0)\n",
            "Requirement already satisfied: python-dateutil>=2.7.3 in /usr/local/lib/python3.8/dist-packages (from pandas>=1.3.0->yfinance) (2.8.2)\n",
            "Requirement already satisfied: idna<4,>=2.5 in /usr/local/lib/python3.8/dist-packages (from requests>=2.26->yfinance) (2.10)\n",
            "Requirement already satisfied: charset-normalizer<3,>=2 in /usr/local/lib/python3.8/dist-packages (from requests>=2.26->yfinance) (2.1.1)\n",
            "Requirement already satisfied: certifi>=2017.4.17 in /usr/local/lib/python3.8/dist-packages (from requests>=2.26->yfinance) (2022.12.7)\n",
            "Requirement already satisfied: urllib3<1.27,>=1.21.1 in /usr/local/lib/python3.8/dist-packages (from requests>=2.26->yfinance) (1.24.3)\n",
            "Installing collected packages: soupsieve, requests, html5lib, frozendict, cryptography, beautifulsoup4, yfinance\n",
            "  Attempting uninstall: requests\n",
            "    Found existing installation: requests 2.23.0\n",
            "    Uninstalling requests-2.23.0:\n",
            "      Successfully uninstalled requests-2.23.0\n",
            "  Attempting uninstall: html5lib\n",
            "    Found existing installation: html5lib 1.0.1\n",
            "    Uninstalling html5lib-1.0.1:\n",
            "      Successfully uninstalled html5lib-1.0.1\n",
            "  Attempting uninstall: beautifulsoup4\n",
            "    Found existing installation: beautifulsoup4 4.6.3\n",
            "    Uninstalling beautifulsoup4-4.6.3:\n",
            "      Successfully uninstalled beautifulsoup4-4.6.3\n",
            "Successfully installed beautifulsoup4-4.11.1 cryptography-38.0.4 frozendict-2.3.4 html5lib-1.1 requests-2.28.1 soupsieve-2.3.2.post1 yfinance-0.2.3\n"
          ]
        },
        {
          "output_type": "display_data",
          "data": {
            "application/vnd.colab-display-data+json": {
              "pip_warning": {
                "packages": [
                  "requests"
                ]
              }
            }
          },
          "metadata": {}
        }
      ]
    },
    {
      "cell_type": "code",
      "source": [
        "import yfinance as yf\n",
        "df1=yf.download(\"2610.tw\",period=\"7d\")\n",
        "df2=yf.download(\"2603.tw\",period=\"7d\")\n",
        "print(df1.columns)\n",
        "df1.plot(kind=\"bar\",x=\"Close\",y=\"Volume\")"
      ],
      "metadata": {
        "id": "5tSMhFigyYSD",
        "colab": {
          "base_uri": "https://localhost:8080/",
          "height": 460
        },
        "outputId": "b397003a-83f9-4f16-ae6f-41ea1726ff45"
      },
      "execution_count": null,
      "outputs": [
        {
          "output_type": "stream",
          "name": "stdout",
          "text": [
            "[*********************100%***********************]  1 of 1 completed\n",
            "[*********************100%***********************]  1 of 1 completed\n",
            "Index(['Open', 'High', 'Low', 'Close', 'Adj Close', 'Volume'], dtype='object')\n"
          ]
        },
        {
          "output_type": "execute_result",
          "data": {
            "text/plain": [
              "<matplotlib.axes._subplots.AxesSubplot at 0x7f75fddcaa60>"
            ]
          },
          "metadata": {},
          "execution_count": 5
        },
        {
          "output_type": "display_data",
          "data": {
            "text/plain": [
              "<Figure size 432x288 with 1 Axes>"
            ],
            "image/png": "[encoded data removed]"
          },
          "metadata": {
            "needs_background": "light"
          }
        }
      ]
    },
    {
      "cell_type": "code",
      "source": [
        "# 近七天長榮與華航收盤價比較\n",
        "import matplotlib.pyplot as plt\n",
        "df1_c=df1[\"Close\"].tolist()\n",
        "df2_c=df2[\"Close\"].tolist()\n",
        "x=[7,6,5,4,3,2,1]\n",
        "x_la=[\"2022/12/28\",\"2022/12/27\",\"2022/12/26\",\"2022/12/25\",\"2022/12/24\",\"2022/12/23\",\"2022/12/22\"]\n",
        "plt.plot(x,df1_c,label=\"2610\")\n",
        "plt.plot(x,df2_c,label=\"2603\")\n",
        "\n",
        "plt.xlabel(\"date\")\n",
        "plt.ylabel(\"Close\")\n",
        "plt.title(\"近七天長榮與華航收盤價比較\")\n",
        "plt.legend(loc=\"center left\")\n",
        "plt.xticks(x,x_la,rotation=\"vertical\")\n",
        "\n",
        "plt.show()"
      ],
      "metadata": {
        "colab": {
          "base_uri": "https://localhost:8080/",
          "height": 1000
        },
        "id": "oMKxOR777Svb",
        "outputId": "af29569d-6aaa-4681-8652-41300cb697a0"
      },
      "execution_count": null,
      "outputs": [
        {
          "output_type": "stream",
          "name": "stderr",
          "text": [
            "/usr/local/lib/python3.8/dist-packages/matplotlib/backends/backend_agg.py:214: RuntimeWarning: Glyph 36817 missing from current font.\n",
            "  font.set_text(s, 0.0, flags=flags)\n",
            "/usr/local/lib/python3.8/dist-packages/matplotlib/backends/backend_agg.py:214: RuntimeWarning: Glyph 19971 missing from current font.\n",
            "  font.set_text(s, 0.0, flags=flags)\n",
            "/usr/local/lib/python3.8/dist-packages/matplotlib/backends/backend_agg.py:214: RuntimeWarning: Glyph 22825 missing from current font.\n",
            "  font.set_text(s, 0.0, flags=flags)\n",
            "/usr/local/lib/python3.8/dist-packages/matplotlib/backends/backend_agg.py:214: RuntimeWarning: Glyph 38263 missing from current font.\n",
            "  font.set_text(s, 0.0, flags=flags)\n",
            "/usr/local/lib/python3.8/dist-packages/matplotlib/backends/backend_agg.py:214: RuntimeWarning: Glyph 27054 missing from current font.\n",
            "  font.set_text(s, 0.0, flags=flags)\n",
            "/usr/local/lib/python3.8/dist-packages/matplotlib/backends/backend_agg.py:214: RuntimeWarning: Glyph 33287 missing from current font.\n",
            "  font.set_text(s, 0.0, flags=flags)\n",
            "/usr/local/lib/python3.8/dist-packages/matplotlib/backends/backend_agg.py:214: RuntimeWarning: Glyph 33775 missing from current font.\n",
            "  font.set_text(s, 0.0, flags=flags)\n",
            "/usr/local/lib/python3.8/dist-packages/matplotlib/backends/backend_agg.py:214: RuntimeWarning: Glyph 33322 missing from current font.\n",
            "  font.set_text(s, 0.0, flags=flags)\n",
            "/usr/local/lib/python3.8/dist-packages/matplotlib/backends/backend_agg.py:214: RuntimeWarning: Glyph 25910 missing from current font.\n",
            "  font.set_text(s, 0.0, flags=flags)\n",
            "/usr/local/lib/python3.8/dist-packages/matplotlib/backends/backend_agg.py:214: RuntimeWarning: Glyph 30436 missing from current font.\n",
            "  font.set_text(s, 0.0, flags=flags)\n",
            "/usr/local/lib/python3.8/dist-packages/matplotlib/backends/backend_agg.py:214: RuntimeWarning: Glyph 20729 missing from current font.\n",
            "  font.set_text(s, 0.0, flags=flags)\n",
            "/usr/local/lib/python3.8/dist-packages/matplotlib/backends/backend_agg.py:214: RuntimeWarning: Glyph 27604 missing from current font.\n",
            "  font.set_text(s, 0.0, flags=flags)\n",
            "/usr/local/lib/python3.8/dist-packages/matplotlib/backends/backend_agg.py:214: RuntimeWarning: Glyph 36611 missing from current font.\n",
            "  font.set_text(s, 0.0, flags=flags)\n",
            "/usr/local/lib/python3.8/dist-packages/matplotlib/backends/backend_agg.py:183: RuntimeWarning: Glyph 36817 missing from current font.\n",
            "  font.set_text(s, 0, flags=flags)\n",
            "/usr/local/lib/python3.8/dist-packages/matplotlib/backends/backend_agg.py:183: RuntimeWarning: Glyph 19971 missing from current font.\n",
            "  font.set_text(s, 0, flags=flags)\n",
            "/usr/local/lib/python3.8/dist-packages/matplotlib/backends/backend_agg.py:183: RuntimeWarning: Glyph 22825 missing from current font.\n",
            "  font.set_text(s, 0, flags=flags)\n",
            "/usr/local/lib/python3.8/dist-packages/matplotlib/backends/backend_agg.py:183: RuntimeWarning: Glyph 38263 missing from current font.\n",
            "  font.set_text(s, 0, flags=flags)\n",
            "/usr/local/lib/python3.8/dist-packages/matplotlib/backends/backend_agg.py:183: RuntimeWarning: Glyph 27054 missing from current font.\n",
            "  font.set_text(s, 0, flags=flags)\n",
            "/usr/local/lib/python3.8/dist-packages/matplotlib/backends/backend_agg.py:183: RuntimeWarning: Glyph 33287 missing from current font.\n",
            "  font.set_text(s, 0, flags=flags)\n",
            "/usr/local/lib/python3.8/dist-packages/matplotlib/backends/backend_agg.py:183: RuntimeWarning: Glyph 33775 missing from current font.\n",
            "  font.set_text(s, 0, flags=flags)\n",
            "/usr/local/lib/python3.8/dist-packages/matplotlib/backends/backend_agg.py:183: RuntimeWarning: Glyph 33322 missing from current font.\n",
            "  font.set_text(s, 0, flags=flags)\n",
            "/usr/local/lib/python3.8/dist-packages/matplotlib/backends/backend_agg.py:183: RuntimeWarning: Glyph 25910 missing from current font.\n",
            "  font.set_text(s, 0, flags=flags)\n",
            "/usr/local/lib/python3.8/dist-packages/matplotlib/backends/backend_agg.py:183: RuntimeWarning: Glyph 30436 missing from current font.\n",
            "  font.set_text(s, 0, flags=flags)\n",
            "/usr/local/lib/python3.8/dist-packages/matplotlib/backends/backend_agg.py:183: RuntimeWarning: Glyph 20729 missing from current font.\n",
            "  font.set_text(s, 0, flags=flags)\n",
            "/usr/local/lib/python3.8/dist-packages/matplotlib/backends/backend_agg.py:183: RuntimeWarning: Glyph 27604 missing from current font.\n",
            "  font.set_text(s, 0, flags=flags)\n",
            "/usr/local/lib/python3.8/dist-packages/matplotlib/backends/backend_agg.py:183: RuntimeWarning: Glyph 36611 missing from current font.\n",
            "  font.set_text(s, 0, flags=flags)\n"
          ]
        },
        {
          "output_type": "display_data",
          "data": {
            "text/plain": [
              "<Figure size 432x288 with 1 Axes>"
            ],
            "image/png": "[encoded data removed]"
          },
          "metadata": {
            "needs_background": "light"
          }
        }
      ]
    }
  ]
}